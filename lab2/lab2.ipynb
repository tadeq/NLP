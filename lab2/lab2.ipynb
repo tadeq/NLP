{
 "cells": [
  {
   "cell_type": "markdown",
   "metadata": {},
   "source": [
    "# NLP\n",
    "\n",
    "# LAB 2 - Lemmatization and full text search"
   ]
  },
  {
   "cell_type": "code",
   "execution_count": 66,
   "metadata": {},
   "outputs": [],
   "source": [
    "import os\n",
    "import numpy as np\n",
    "from elasticsearch import Elasticsearch"
   ]
  },
  {
   "cell_type": "code",
   "execution_count": 67,
   "metadata": {},
   "outputs": [],
   "source": [
    "es = Elasticsearch()"
   ]
  },
  {
   "cell_type": "code",
   "execution_count": 68,
   "metadata": {},
   "outputs": [
    {
     "data": {
      "text/plain": [
       "{'number': '7.9.2',\n",
       " 'build_flavor': 'default',\n",
       " 'build_type': 'zip',\n",
       " 'build_hash': 'd34da0ea4a966c4e49417f2da2f244e3e97b4e6e',\n",
       " 'build_date': '2020-09-23T00:45:33.626720Z',\n",
       " 'build_snapshot': False,\n",
       " 'lucene_version': '8.6.2',\n",
       " 'minimum_wire_compatibility_version': '6.8.0',\n",
       " 'minimum_index_compatibility_version': '6.0.0-beta1'}"
      ]
     },
     "execution_count": 68,
     "metadata": {},
     "output_type": "execute_result"
    }
   ],
   "source": [
    "es.info()['version']"
   ]
  },
  {
   "cell_type": "markdown",
   "metadata": {},
   "source": [
    "### Zadanie 3 i 4\n",
    "Poniższe wywołanie tworzy indeks wraz z analyzerem zdefiniowanym zgodnie z treścią zadania. Dodatkowo, analyzer został ustawiony jako domyślny dla pola content w tym indeksie, aby w kolejnych zadaniach korzystać z niego bez konieczności dodawania informacji, że należy użyć właśnie jego."
   ]
  },
  {
   "cell_type": "code",
   "execution_count": 69,
   "metadata": {},
   "outputs": [
    {
     "data": {
      "text/plain": [
       "{'acknowledged': True,\n",
       " 'shards_acknowledged': True,\n",
       " 'index': 'legislation_acts'}"
      ]
     },
     "execution_count": 69,
     "metadata": {},
     "output_type": "execute_result"
    }
   ],
   "source": [
    "es.indices.create(\n",
    "    index=\"legislation_acts\",\n",
    "    body={\n",
    "        \"settings\": {\n",
    "            \"analysis\": {\n",
    "                \"filter\": {\n",
    "                  \"kodeks_synonyms\": {\n",
    "                      \"type\": \"synonym\",\n",
    "                      \"synonyms\": [ \n",
    "                          \"kpk => kodeks postępowania karnego\",\n",
    "                          \"kpc => kodeks postępowania cywilnego\",\n",
    "                          \"kk => kodeks karny\",\n",
    "                          \"kc => kodeks cywilny\"]\n",
    "                    }    \n",
    "                },\n",
    "                \"analyzer\": {\n",
    "                  \"polish_legislation_acts_analyzer\": {\n",
    "                      \"type\": \"custom\",\n",
    "                      \"tokenizer\": \"standard\",\n",
    "                      \"filter\": [\"kodeks_synonyms\", \"morfologik_stem\", \"lowercase\"]\n",
    "                    }\n",
    "                }\n",
    "            }\n",
    "        },\n",
    "        \"mappings\": {\n",
    "            \"properties\": {\n",
    "                \"content\": {\n",
    "                    \"type\": \"text\",\n",
    "                    \"analyzer\": \"polish_legislation_acts_analyzer\"\n",
    "                }\n",
    "            }\n",
    "        }\n",
    "    }\n",
    ")"
   ]
  },
  {
   "cell_type": "markdown",
   "metadata": {},
   "source": [
    "### Zadanie 5"
   ]
  },
  {
   "cell_type": "code",
   "execution_count": 70,
   "metadata": {},
   "outputs": [],
   "source": [
    "path = './ustawy'\n",
    "for filename in os.listdir(path):\n",
    "    with open(os.path.join(path, filename), 'r', encoding='utf-8') as file:\n",
    "        es.create(\"legislation_acts\", filename, {\"content\": file.read()})"
   ]
  },
  {
   "cell_type": "code",
   "execution_count": 71,
   "metadata": {},
   "outputs": [
    {
     "data": {
      "text/plain": [
       "1180"
      ]
     },
     "execution_count": 71,
     "metadata": {},
     "output_type": "execute_result"
    }
   ],
   "source": [
    "es.count(index=\"legislation_acts\")['count']"
   ]
  },
  {
   "cell_type": "markdown",
   "metadata": {},
   "source": [
    "W indeksie znalazło się 1180 ustaw, a więc wszystkie znajdujące się w zestawie danych."
   ]
  },
  {
   "cell_type": "markdown",
   "metadata": {},
   "source": [
    "### Zadanie 6"
   ]
  },
  {
   "cell_type": "code",
   "execution_count": 72,
   "metadata": {},
   "outputs": [
    {
     "data": {
      "text/plain": [
       "1179"
      ]
     },
     "execution_count": 72,
     "metadata": {},
     "output_type": "execute_result"
    }
   ],
   "source": [
    "es.count(\n",
    "    index=\"legislation_acts\",\n",
    "    body={\n",
    "        \"query\": {\n",
    "            \"match\": {\n",
    "                \"content\": {\n",
    "                    \"query\": \"ustawa\"\n",
    "                }\n",
    "            }\n",
    "        }\n",
    "    }\n",
    ")['count']"
   ]
  },
  {
   "cell_type": "markdown",
   "metadata": {},
   "source": [
    "Słowo **ustawa** zawiera 1179 z 1180 analizowanych plików."
   ]
  },
  {
   "cell_type": "markdown",
   "metadata": {},
   "source": [
    "### Zadanie 7"
   ]
  },
  {
   "cell_type": "code",
   "execution_count": 73,
   "metadata": {},
   "outputs": [
    {
     "data": {
      "text/plain": [
       "100"
      ]
     },
     "execution_count": 73,
     "metadata": {},
     "output_type": "execute_result"
    }
   ],
   "source": [
    "es.count(\n",
    "    index=\"legislation_acts\",\n",
    "    body={\n",
    "        \"query\": {\n",
    "            \"match_phrase\": {\n",
    "                \"content\": {\n",
    "                    \"query\": \"kodeks postępowania cywilnego\"\n",
    "                }\n",
    "            }\n",
    "        }\n",
    "    }\n",
    ")['count']"
   ]
  },
  {
   "cell_type": "markdown",
   "metadata": {},
   "source": [
    "Wyrażenie **kodeks postępowania cywilnego** w dowolnej formie jest zawarte w 100 ustawach ze zbioru."
   ]
  },
  {
   "cell_type": "markdown",
   "metadata": {},
   "source": [
    "### Zadanie 8"
   ]
  },
  {
   "cell_type": "code",
   "execution_count": 74,
   "metadata": {},
   "outputs": [
    {
     "data": {
      "text/plain": [
       "1175"
      ]
     },
     "execution_count": 74,
     "metadata": {},
     "output_type": "execute_result"
    }
   ],
   "source": [
    "es.count(\n",
    "    index=\"legislation_acts\",\n",
    "    body={\n",
    "        \"query\": {\n",
    "            \"match_phrase\": {\n",
    "                \"content\": {\n",
    "                    \"query\": \"wchodzi w życie\",\n",
    "                    \"slop\": 2\n",
    "                }                             \n",
    "            }\n",
    "        },\n",
    "    }\n",
    ")['count']"
   ]
  },
  {
   "cell_type": "markdown",
   "metadata": {},
   "source": [
    "Frazę **wchodzi w życie** w dowolnej formie z możliwością wystąpienia do dwóch dodatkowych słów w tej frazie zawiera 1175 dokumentów."
   ]
  },
  {
   "cell_type": "markdown",
   "metadata": {},
   "source": [
    "### Zadanie 9 i 10"
   ]
  },
  {
   "cell_type": "markdown",
   "metadata": {},
   "source": [
    "Poniższe zapytanie znajduje 10 dokumentów najbardziej pasujących do słowa **konstytucja**, a w każdym z nich znajduje do trzech fragmentów zawierających to słowo i sortuje wyniki na podstawie uzyskanej wartości *score*."
   ]
  },
  {
   "cell_type": "code",
   "execution_count": 82,
   "metadata": {},
   "outputs": [],
   "source": [
    "hits = es.search(\n",
    "    index=\"legislation_acts\",\n",
    "    size = 10,\n",
    "    body={\n",
    "        \"query\": {\n",
    "            \"match\": {\n",
    "                \"content\": {\n",
    "                    \"query\": \"konstytucja\",\n",
    "                }                             \n",
    "            }\n",
    "        },\n",
    "        \"highlight\" : {\n",
    "            \"fields\" : {\n",
    "                \"content\" : {}\n",
    "            },\n",
    "            \"type\":\"unified\",\n",
    "            \"boundary_scanner\": \"sentence\",\n",
    "            \"number_of_fragments\": 3,\n",
    "            \"order\": \"score\"\n",
    "        }\n",
    "    }\n",
    ")['hits']['hits']"
   ]
  },
  {
   "cell_type": "markdown",
   "metadata": {},
   "source": [
    "Poniżej wypisane zostały nazwy plików zawierających 10 dokumentów najbardziej pasujących do słowa **konstytucja**."
   ]
  },
  {
   "cell_type": "code",
   "execution_count": 83,
   "metadata": {},
   "outputs": [
    {
     "name": "stdout",
     "output_type": "stream",
     "text": [
      "Filename: 1997_629.txt, score: 6.8713923\n",
      "Filename: 2000_443.txt, score: 6.666975\n",
      "Filename: 1997_604.txt, score: 6.6366324\n",
      "Filename: 1996_350.txt, score: 6.6311083\n",
      "Filename: 1997_642.txt, score: 6.2556105\n",
      "Filename: 2001_23.txt, score: 6.0630813\n",
      "Filename: 1996_199.txt, score: 5.9332457\n",
      "Filename: 1999_688.txt, score: 5.854491\n",
      "Filename: 1997_681.txt, score: 5.4713526\n",
      "Filename: 2001_1082.txt, score: 5.4713526\n"
     ]
    }
   ],
   "source": [
    "for hit in hits:\n",
    "    print('Filename: {}, score: {}'.format(hit['_id'], hit['_score']))"
   ]
  },
  {
   "cell_type": "markdown",
   "metadata": {},
   "source": [
    "Fragmenty ze znalezionych dokumentów zawierające słowo **konstytucja** w dowolnej formie:"
   ]
  },
  {
   "cell_type": "code",
   "execution_count": 87,
   "metadata": {},
   "outputs": [
    {
     "name": "stdout",
     "output_type": "stream",
     "text": [
      "1\n",
      "W ustawie  konstytucyjnej z  dnia 23 kwietnia 1992 r. o trybie przygotowania i \n",
      "uchwalenia <em>Konstytucji</em>\n",
      "\n",
      "o zmianie ustawy konstytucyjnej o trybie przygotowania\n",
      "           i uchwalenia <em>Konstytucji</em> Rzeczypospolitej\n",
      "\n",
      "Do zgłoszenia projektu <em>Konstytucji</em> załącza się wykaz \n",
      "                obywateli popierających zgłoszenie\n",
      "\n",
      "----------------------------------------------------------------------------------------------------\n",
      "2\n",
      "umowy międzynarodowej i nie wypełnia przesłanek określonych w art. 89\n",
      "     ust. 1 lub art. 90 <em>Konstytucji</em>\n",
      "\n",
      "co do zasadności wyboru\n",
      "  trybu ratyfikacji umowy międzynarodowej, o którym mowa w art. 89 ust. 2\n",
      "  <em>Konstytucji</em>\n",
      "\n",
      "międzynarodowej lub załącznika nie\n",
      "     wypełnia przesłanek określonych w art. 89 ust. 1 lub art. 90 <em>Konstytucji</em>\n",
      "\n",
      "----------------------------------------------------------------------------------------------------\n",
      "3\n",
      "Jeżeli Trybunał Konstytucyjny wyda orzeczenie o sprzeczności celów partii \n",
      "   politycznej z <em>Konstytucją</em>\n",
      "\n",
      "Jeżeli Trybunał Konstytucyjny wyda orzeczenie o sprzeczności z <em>Konstytucją</em>\n",
      "   celów lub działalności\n",
      "\n",
      "Ciężar udowodnienia niezgodności z <em>Konstytucją</em> spoczywa\n",
      "                na wnioskodawcy, który w tym\n",
      "\n",
      "----------------------------------------------------------------------------------------------------\n",
      "4\n",
      "Za naruszenie <em>Konstytucji</em> lub ustawy, w związku z zajmowanym\n",
      "              stanowiskiem lub w zakresie\n",
      "\n",
      "W zakresie określonym w art. 107 <em>Konstytucji</em> odpowiedzialność przed\n",
      "           Trybunałem Stanu ponoszą\n",
      "\n",
      "Członkowie Rady Ministrów ponoszą odpowiedzialność przed Trybunałem\n",
      "           Stanu za naruszenie <em>Konstytucji</em>\n",
      "\n",
      "----------------------------------------------------------------------------------------------------\n",
      "5\n",
      "wnioskami o:\n",
      "             1) stwierdzenie zgodności ustaw i umów międzynarodowych z\n",
      "               <em>Konstytucją</em>\n",
      "\n",
      "stwierdzenie zgodności przepisów prawa wydawanych przez\n",
      "               centralne organy państwowe, z <em>Konstytucją</em>\n",
      "\n",
      "ratyfikowanymi\n",
      "               umowami międzynarodowymi i ustawami,\n",
      "             4) stwierdzenie zgodności z <em>Konstytucją</em>\n",
      "\n",
      "----------------------------------------------------------------------------------------------------\n",
      "6\n",
      "W Dzienniku Ustaw Rzeczypospolitej Polskiej, zwanym dalej \"Dziennikiem\n",
      "  Ustaw\", ogłasza się:\n",
      "   1) <em>Konstytucję</em>\n",
      "\n",
      "akty prawne dotyczące:\n",
      "   1) stanu wojny i zawarcia pokoju,\n",
      "   2) referendum zatwierdzającego zmianę <em>Konstytucji</em>\n",
      "\n",
      "ministra, któremu Sejm wyraził wotum nieufności,\n",
      "     h) powoływania lub odwoływania na określone w <em>Konstytucji</em>\n",
      "\n",
      "----------------------------------------------------------------------------------------------------\n",
      "7\n",
      "Prezydent Rzeczypospolitej Polskiej zarządza poddanie <em>Konstytucji</em> pod referendum\n",
      "   w trybie określonym\n",
      "\n",
      "Przyjęcie w referendum <em>Konstytucji</em> następuje wówczas, gdy opowiedziała \n",
      "   się za nią większość biorących\n",
      "\n",
      "2c i art. 9-11 ustawy konstytucyjnej z dnia 23 kwietnia \n",
      "1992 r. o trybie przygotowania i uchwalenia <em>Konstytucji</em>\n",
      "\n",
      "----------------------------------------------------------------------------------------------------\n",
      "8\n",
      "Projekt ustawy nie może dotyczyć spraw, dla których <em>Konstytucja</em>\n",
      "Rzeczypospolitej Polskiej zastrzega wyłączną\n",
      "\n",
      "Projekt ustawy wniesiony do Marszałka Sejmu powinien odpowiadać wymogom\n",
      "  zawartym w <em>Konstytucji</em> i Regulaminie\n",
      "\n",
      "postępowania w sprawie wykonywania inicjatywy\n",
      "ustawodawczej przez obywateli, o której mowa w art. 118 ust. 2 <em>Konstytucji</em>\n",
      "\n",
      "----------------------------------------------------------------------------------------------------\n",
      "9\n",
      "Rzecznik Praw Dziecka, zwany dalej Rzecznikiem, stoi na straży praw dziecka\n",
      "  określonych w <em>Konstytucji</em>\n",
      "\n",
      "uroczyście, że przy wykonywaniu powierzonych mi obowiązków\n",
      "     Rzecznika Praw Dziecka dochowam wierności <em>Konstytucji</em>\n",
      "\n",
      "----------------------------------------------------------------------------------------------------\n",
      "10\n",
      "Krajowa Rada Sądownictwa, zwana dalej \"Radą\", realizuje cele określone w\n",
      "  <em>Konstytucji</em> Rzeczypospolitej\n",
      "\n",
      ") podejmuje uchwały w sprawach wystąpienia do Trybunału Konstytucyjnego o\n",
      "     zbadanie zgodności z <em>Konstytucją</em>\n",
      "\n",
      "----------------------------------------------------------------------------------------------------\n"
     ]
    }
   ],
   "source": [
    "highlights = [hit['highlight']['content'] for hit in hits]\n",
    "for num, highlight in enumerate(highlights):\n",
    "    print(num+1)\n",
    "    for h in highlight:\n",
    "        print(h)\n",
    "        print()\n",
    "    print(100*'-')"
   ]
  }
 ],
 "metadata": {
  "kernelspec": {
   "display_name": "Python 3",
   "language": "python",
   "name": "python3"
  },
  "language_info": {
   "codemirror_mode": {
    "name": "ipython",
    "version": 3
   },
   "file_extension": ".py",
   "mimetype": "text/x-python",
   "name": "python",
   "nbconvert_exporter": "python",
   "pygments_lexer": "ipython3",
   "version": "3.7.9"
  }
 },
 "nbformat": 4,
 "nbformat_minor": 4
}
