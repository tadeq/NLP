{
 "cells": [
  {
   "cell_type": "markdown",
   "metadata": {},
   "source": [
    "# NLP\n",
    "# Lab 7 - Word embeddings"
   ]
  },
  {
   "cell_type": "code",
   "execution_count": 38,
   "metadata": {},
   "outputs": [],
   "source": [
    "from gensim.models import KeyedVectors\n",
    "from sklearn.manifold import TSNE\n",
    "import numpy as np\n",
    "import matplotlib.pyplot as plt"
   ]
  },
  {
   "cell_type": "code",
   "execution_count": 39,
   "metadata": {},
   "outputs": [],
   "source": [
    "import warnings\n",
    "warnings.simplefilter('ignore')"
   ]
  },
  {
   "cell_type": "markdown",
   "metadata": {},
   "source": [
    "#### Zadanie 2."
   ]
  },
  {
   "cell_type": "code",
   "execution_count": 40,
   "metadata": {},
   "outputs": [],
   "source": [
    "embeddings_100d = KeyedVectors.load('word2vec_100_3_polish.bin')\n",
    "embeddings_300d = KeyedVectors.load('word2vec_300_3_polish.bin')"
   ]
  },
  {
   "cell_type": "code",
   "execution_count": 41,
   "metadata": {},
   "outputs": [],
   "source": [
    "def print_results(results):\n",
    "    for word, score in results:\n",
    "        print('\\t\\t{} ({})'.format(word, score))"
   ]
  },
  {
   "cell_type": "markdown",
   "metadata": {},
   "source": [
    "#### Zadania 3. i 4."
   ]
  },
  {
   "cell_type": "code",
   "execution_count": 42,
   "metadata": {},
   "outputs": [
    {
     "name": "stdout",
     "output_type": "stream",
     "text": [
      "Most similar words\n",
      "\n",
      "kpk\n",
      "\t100 dimensions\n",
      "\t\tkilopond (0.6665806770324707)\n",
      "\t\tkpzs (0.6363496780395508)\n",
      "\t\tkpu (0.6300562024116516)\n",
      "\t\tsownarkomu (0.6254925727844238)\n",
      "\t\twcik (0.6224358677864075)\n",
      "\t300 dimensions\n",
      "\t\tksh (0.5774794220924377)\n",
      "\t\tcywilnego (0.5498510599136353)\n",
      "\t\tpostępowania (0.5285828113555908)\n",
      "\t\tkilopond (0.5151568055152893)\n",
      "\t\tkkkw (0.48344212770462036)\n",
      "\n",
      "szkoda\n",
      "\t100 dimensions\n",
      "\t\tkrzywda (0.6817898750305176)\n",
      "\t\tpożytek (0.6121943593025208)\n",
      "\t\tstrata (0.5968126654624939)\n",
      "\t\tryzyko (0.5745570659637451)\n",
      "\t\tuszczerbek (0.5639551877975464)\n",
      "\t300 dimensions\n",
      "\t\tuszczerbek (0.6027276515960693)\n",
      "\t\tkrzywda (0.5920778512954712)\n",
      "\t\tstrata (0.550269365310669)\n",
      "\t\tdespekt (0.5382484197616577)\n",
      "\t\tpożytek (0.531347393989563)\n",
      "\n",
      "wypadek\n",
      "\t100 dimensions\n",
      "\t\tprzypadek (0.7544811964035034)\n",
      "\t\tokoliczności (0.7268072366714478)\n",
      "\t\tpadku (0.6788284182548523)\n",
      "\t\tincydent (0.6418948173522949)\n",
      "\t\tzdarzenie (0.6114422082901001)\n",
      "\t300 dimensions\n",
      "\t\tprzypadek (0.7066895961761475)\n",
      "\t\tokoliczności (0.6121077537536621)\n",
      "\t\tpadku (0.6056742072105408)\n",
      "\t\tpadki (0.5596078634262085)\n",
      "\t\tincydent (0.5496981143951416)\n",
      "\n",
      "kolizja\n",
      "\t100 dimensions\n",
      "\t\tzderzenie (0.8431548476219177)\n",
      "\t\tawaria (0.7090569734573364)\n",
      "\t\tkraksa (0.6777161359786987)\n",
      "\t\tturbulencja (0.6613468527793884)\n",
      "\t\tpoślizg (0.6391660571098328)\n",
      "\t300 dimensions\n",
      "\t\tzderzenie (0.7603178024291992)\n",
      "\t\tawaria (0.611009955406189)\n",
      "\t\tkraksa (0.5939033031463623)\n",
      "\t\tturbulencja (0.5664489269256592)\n",
      "\t\tpoślizg (0.5569967031478882)\n",
      "\n",
      "nieszczęście\n",
      "\t100 dimensions\n",
      "\t\tniebezpieczeństwo (0.7519958019256592)\n",
      "\t\tcierpienia (0.7408335208892822)\n",
      "\t\tstrapienie (0.7345459461212158)\n",
      "\t\tcierpienie (0.7262567281723022)\n",
      "\t\tutrapienie (0.7251379489898682)\n",
      "\t300 dimensions\n",
      "\t\tutrapienie (0.6610732674598694)\n",
      "\t\tcierpienia (0.6526124477386475)\n",
      "\t\tniedola (0.6478177309036255)\n",
      "\t\tstrapienie (0.6300181150436401)\n",
      "\t\tcierpienie (0.6248573064804077)\n",
      "\n",
      "rozwód\n",
      "\t100 dimensions\n",
      "\t\tmałżeństwo (0.7646843194961548)\n",
      "\t\tseparacja (0.7547168135643005)\n",
      "\t\tadopcja (0.7333694696426392)\n",
      "\t\tślub (0.7324203848838806)\n",
      "\t\tunieważnienie (0.7096400856971741)\n",
      "\t300 dimensions\n",
      "\t\tseparacja (0.7053208351135254)\n",
      "\t\tmałżeństwo (0.6689504384994507)\n",
      "\t\tślub (0.6553219556808472)\n",
      "\t\trozwodowy (0.614338219165802)\n",
      "\t\tunieważnienie (0.6127183437347412)\n",
      "\n"
     ]
    }
   ],
   "source": [
    "def show_most_similar_words(model, expression, title):\n",
    "    print('\\t{}'.format(title))\n",
    "    print_results(model.most_similar(positive=[expression])[:5])\n",
    "\n",
    "print('Most similar words\\n')\n",
    "for word in ['kpk', 'szkoda', 'wypadek', 'kolizja', 'nieszczęście', 'rozwód']:\n",
    "    print(word)\n",
    "    show_most_similar_words(embeddings_100d, word, '100 dimensions')\n",
    "    show_most_similar_words(embeddings_300d, word, '300 dimensions')\n",
    "    print()"
   ]
  },
  {
   "cell_type": "markdown",
   "metadata": {},
   "source": [
    "#### Zadania 5. i 6."
   ]
  },
  {
   "cell_type": "code",
   "execution_count": 43,
   "metadata": {},
   "outputs": [
    {
     "name": "stdout",
     "output_type": "stream",
     "text": [
      "Most similar words for two-word expressions\n",
      "\n",
      "sąd najwyższy\n",
      "\t100 dimensions\n",
      "\t\tsąd (0.8644266128540039)\n",
      "\t\ttrybunał (0.7672435641288757)\n",
      "\t\tnajwyższy (0.7527138590812683)\n",
      "\t\ttrybunat (0.6843459010124207)\n",
      "\t\tsędzia (0.6718415021896362)\n",
      "\t\tareopag (0.6571060419082642)\n",
      "\t\tsprawiedliwość (0.6562486886978149)\n",
      "\t300 dimensions\n",
      "\t\tsąd (0.8261206150054932)\n",
      "\t\ttrybunał (0.711520791053772)\n",
      "\t\tnajwyższy (0.7068409323692322)\n",
      "\t\tsędzia (0.6023203730583191)\n",
      "\t\tsądowy (0.5670486688613892)\n",
      "\t\ttrybunat (0.5525928735733032)\n",
      "\t\tsprawiedliwość (0.5319530367851257)\n",
      "\n",
      "trybunał konstytucyjny\n",
      "\t100 dimensions\n",
      "\t\ttrybunał (0.9073251485824585)\n",
      "\t\tkonstytucyjny (0.7998723387718201)\n",
      "\t\tsąd (0.7972990274429321)\n",
      "\t\tbunał (0.7729247808456421)\n",
      "\t\tsenat (0.7585273385047913)\n",
      "\t\tbunału (0.7441976070404053)\n",
      "\t\ttrybunat (0.7347140908241272)\n",
      "\t300 dimensions\n",
      "\t\ttrybunał (0.8845913410186768)\n",
      "\t\tkonstytucyjny (0.7739969491958618)\n",
      "\t\tsąd (0.7300779819488525)\n",
      "\t\ttrybunat (0.6758428812026978)\n",
      "\t\tsenat (0.6632090210914612)\n",
      "\t\tparlament (0.6614581346511841)\n",
      "\t\tbunału (0.6404117941856384)\n",
      "\n",
      "szkoda majątkowy\n",
      "\t100 dimensions\n",
      "\t\tszkoda (0.8172438144683838)\n",
      "\t\tmajątkowy (0.7424530386924744)\n",
      "\t\tkrzywda (0.6498408317565918)\n",
      "\t\tświadczenie (0.6419471502304077)\n",
      "\t\todszkodowanie (0.6392182111740112)\n",
      "\t\tdochód (0.637932538986206)\n",
      "\t\twydatek (0.6325603127479553)\n",
      "\t300 dimensions\n",
      "\t\tszkoda (0.7971925735473633)\n",
      "\t\tmajątkowy (0.7278684973716736)\n",
      "\t\tuszczerbek (0.5841633081436157)\n",
      "\t\tkorzyść (0.5474051237106323)\n",
      "\t\tkrzywda (0.5431190729141235)\n",
      "\t\tmajątek (0.525060772895813)\n",
      "\t\tstrata (0.5228629112243652)\n",
      "\n",
      "kodeks cywilny\n",
      "\t100 dimensions\n",
      "\t\tkodeks (0.8756389617919922)\n",
      "\t\tcywilny (0.8532464504241943)\n",
      "\t\tpasztunwali (0.6438998579978943)\n",
      "\t\tdeksu (0.6374959945678711)\n",
      "\t\tteodozjańskim (0.6283917427062988)\n",
      "\t\tpozakodeksowy (0.6153194904327393)\n",
      "\t\tsądowo (0.6136723160743713)\n",
      "\t300 dimensions\n",
      "\t\tkodeks (0.8212110996246338)\n",
      "\t\tcywilny (0.7886406779289246)\n",
      "\t\tamiatyński (0.5660314559936523)\n",
      "\t\tcywilnego (0.5531740188598633)\n",
      "\t\tdeksu (0.5472918748855591)\n",
      "\t\tisps (0.5369160175323486)\n",
      "\t\tjōei (0.5361183881759644)\n",
      "\n",
      "sąd rejonowy\n",
      "\t100 dimensions\n",
      "\t\tsąd (0.8773891925811768)\n",
      "\t\tprokuratura (0.8396657705307007)\n",
      "\t\trejonowy (0.7694871425628662)\n",
      "\t\ttrybunał (0.755321204662323)\n",
      "\t\tsądowy (0.7153753042221069)\n",
      "\t\tmagistrat (0.7151126861572266)\n",
      "\t\tprokurator (0.7081375122070312)\n",
      "\t300 dimensions\n",
      "\t\tsąd (0.8507211208343506)\n",
      "\t\trejonowy (0.7344856262207031)\n",
      "\t\tprokuratura (0.711697518825531)\n",
      "\t\ttrybunał (0.6748420596122742)\n",
      "\t\tsądowy (0.6426382064819336)\n",
      "\t\tokręgowy (0.6349465847015381)\n",
      "\t\tapelacyjny (0.599929690361023)\n",
      "\n"
     ]
    }
   ],
   "source": [
    "def show_most_similar_words_for_two_word_expr(model, expression, title):\n",
    "    print('\\t{}'.format(title))\n",
    "    first_word, second_word = expression.split()\n",
    "    result = np.array([np.mean(k) for k in zip(np.array(model[first_word]), np.array(model[second_word]))])\n",
    "    print_results(model.similar_by_vector(result)[:7])\n",
    "\n",
    "print('Most similar words for two-word expressions\\n')\n",
    "for expression in ['sąd najwyższy', 'trybunał konstytucyjny', 'szkoda majątkowy', 'kodeks cywilny', 'sąd rejonowy']:\n",
    "    print(expression)\n",
    "    show_most_similar_words_for_two_word_expr(embeddings_100d, expression, '100 dimensions')\n",
    "    show_most_similar_words_for_two_word_expr(embeddings_300d, expression, '300 dimensions')\n",
    "    print()"
   ]
  },
  {
   "cell_type": "markdown",
   "metadata": {},
   "source": [
    "#### Zadanie 7."
   ]
  },
  {
   "cell_type": "code",
   "execution_count": 44,
   "metadata": {},
   "outputs": [
    {
     "name": "stdout",
     "output_type": "stream",
     "text": [
      "sąd + konstytucja - kpk\n",
      "\t100 dimensions\n",
      "\t\ttrybunał (0.6436409950256348)\n",
      "\t\tustawa (0.6028786897659302)\n",
      "\t\telekcja (0.5823959112167358)\n",
      "\t\tdeklaracja (0.5771891474723816)\n",
      "\t\tdekret (0.5759621262550354)\n",
      "\t300 dimensions\n",
      "\t\ttrybunał (0.5860734581947327)\n",
      "\t\tsenat (0.5112544298171997)\n",
      "\t\tustawa (0.5023636817932129)\n",
      "\t\tdekret (0.48704710602760315)\n",
      "\t\twładza (0.4868926703929901)\n",
      "\n",
      "pasażer + kobieta - mężczyzna\n",
      "\t100 dimensions\n",
      "\t\tpasażerka (0.7234811186790466)\n",
      "\t\tstewardessa (0.6305270195007324)\n",
      "\t\tstewardesa (0.6282645463943481)\n",
      "\t\ttaksówka (0.619726300239563)\n",
      "\t\tpodróżny (0.614517092704773)\n",
      "\t300 dimensions\n",
      "\t\tpasażerka (0.6741673946380615)\n",
      "\t\tstewardesa (0.5810248255729675)\n",
      "\t\tstewardessa (0.5653151273727417)\n",
      "\t\tpodróżny (0.5060371160507202)\n",
      "\t\tpasażerski (0.4896503686904907)\n",
      "\n",
      "pilot + kobieta - mężczyzna\n",
      "\t100 dimensions\n",
      "\t\tnawigator (0.6925703287124634)\n",
      "\t\toblatywacz (0.6686224937438965)\n",
      "\t\tlotnik (0.6569937467575073)\n",
      "\t\tpilotka (0.6518791913986206)\n",
      "\t\tawionetka (0.6428645849227905)\n",
      "\t300 dimensions\n",
      "\t\tpilotka (0.6108255386352539)\n",
      "\t\tlotnik (0.6020804047584534)\n",
      "\t\tstewardesa (0.5943204760551453)\n",
      "\t\tnawigator (0.5849766731262207)\n",
      "\t\toblatywacz (0.5674178600311279)\n",
      "\n",
      "lekarz + kobieta - mężczyzna\n",
      "\t100 dimensions\n",
      "\t\tlekarka (0.7690489292144775)\n",
      "\t\tginekolog (0.7575511336326599)\n",
      "\t\tpediatra (0.7478542923927307)\n",
      "\t\tpsychiatra (0.732271671295166)\n",
      "\t\tpołożna (0.7268943786621094)\n",
      "\t300 dimensions\n",
      "\t\tlekarka (0.7388788461685181)\n",
      "\t\tpielęgniarka (0.6719920635223389)\n",
      "\t\tginekolog (0.658279299736023)\n",
      "\t\tpsychiatra (0.6389409303665161)\n",
      "\t\tchirurg (0.6305986642837524)\n",
      "\n",
      "nauczycielka + mężczyzna - kobieta\n",
      "\t100 dimensions\n",
      "\t\tuczennica (0.7441667318344116)\n",
      "\t\tstudentka (0.7274973392486572)\n",
      "\t\tnauczyciel (0.7176114916801453)\n",
      "\t\twychowawczyni (0.7153530120849609)\n",
      "\t\tkoleżanka (0.678418755531311)\n",
      "\t300 dimensions\n",
      "\t\tnauczyciel (0.6561620235443115)\n",
      "\t\twychowawczyni (0.6211140155792236)\n",
      "\t\tuczennica (0.6142012476921082)\n",
      "\t\tkoleżanka (0.5501158237457275)\n",
      "\t\tprzedszkolanka (0.5497692823410034)\n",
      "\n",
      "przedszkolanka + mężczyzna - kobieta\n",
      "\t100 dimensions\n",
      "\t\tstażysta (0.6987776756286621)\n",
      "\t\twychowawczyni (0.6618361473083496)\n",
      "\t\tkreślarka (0.6590923070907593)\n",
      "\t\tpielęgniarz (0.6492814421653748)\n",
      "\t\tsiedmiolatek (0.6483469009399414)\n",
      "\t300 dimensions\n",
      "\t\tstażysta (0.5117638111114502)\n",
      "\t\tpierwszoklasista (0.49398648738861084)\n",
      "\t\twychowawczyni (0.49037522077560425)\n",
      "\t\tpraktykant (0.48884207010269165)\n",
      "\t\tpielęgniarz (0.4795262813568115)\n",
      "\n",
      "samochód + rzeka - droga\n",
      "\t100 dimensions\n",
      "\t\tjeep (0.6142987608909607)\n",
      "\t\tbuick (0.5962571501731873)\n",
      "\t\tdżip (0.5938510894775391)\n",
      "\t\tponton (0.580719530582428)\n",
      "\t\tlandrower (0.5799552202224731)\n",
      "\t300 dimensions\n",
      "\t\tdżip (0.5567235946655273)\n",
      "\t\tjeep (0.5533617734909058)\n",
      "\t\tauto (0.5478508472442627)\n",
      "\t\tciężarówka (0.5461742281913757)\n",
      "\t\twóz (0.5204571485519409)\n",
      "\n"
     ]
    }
   ],
   "source": [
    "def show_equation_results(model, positive, negative, title):\n",
    "    print('\\t{}'.format(title))\n",
    "    result = model.most_similar(positive=positive, negative=negative)\n",
    "    print_results(result[:5])\n",
    "\n",
    "for positive, negative in [(['sąd', 'konstytucja'], ['kpk']),\n",
    "             (['pasażer', 'kobieta'], ['mężczyzna']),\n",
    "             (['pilot', 'kobieta'], ['mężczyzna']),\n",
    "             (['lekarz', 'kobieta'], ['mężczyzna']),\n",
    "             (['nauczycielka', 'mężczyzna'], ['kobieta']),\n",
    "             (['przedszkolanka', 'mężczyzna'], ['kobieta']),\n",
    "             (['samochód', 'rzeka'], ['droga'])]:\n",
    "    print('{} + {} - {}'.format(positive[0], positive[1], negative[0]))\n",
    "    show_equation_results(embeddings_100d, positive, negative, '100 dimensions')\n",
    "    show_equation_results(embeddings_300d, positive, negative, '300 dimensions')\n",
    "    print()"
   ]
  },
  {
   "cell_type": "markdown",
   "metadata": {},
   "source": [
    "#### Zadanie 8.\n",
    "Obrazy z wynikami wizualizacji, ze względu na swoje rozmiary, znajdują się w załączonych plikach png."
   ]
  },
  {
   "cell_type": "code",
   "execution_count": 48,
   "metadata": {},
   "outputs": [
    {
     "data": {
      "text/plain": [
       "<Figure size 2016x2016 with 0 Axes>"
      ]
     },
     "metadata": {},
     "output_type": "display_data"
    },
    {
     "data": {
      "text/plain": [
       "<Figure size 2016x2016 with 0 Axes>"
      ]
     },
     "metadata": {},
     "output_type": "display_data"
    }
   ],
   "source": [
    "def visualize(model, words, im_title):\n",
    "    random_words = np.random.choice(list(model.wv.vocab), 1000)\n",
    "    words = np.concatenate((words, random_words))\n",
    "    tsne = TSNE(perplexity=15, n_components=2, init='pca', n_iter=3500, random_state=32)\n",
    "    results = np.transpose(tsne.fit_transform([model[word] for word in words]))\n",
    "\n",
    "    plt.figure(figsize=(28, 28))\n",
    "    x, y = results[0], results[1]\n",
    "    for ind, word in enumerate(words):\n",
    "        plt.scatter(x[ind], y[ind], c='red' if ind < 14 else 'blue', s=30, alpha=0.3)\n",
    "        plt.annotate(word, (x[ind], y[ind]), ha='center', size=10)        \n",
    "    plt.savefig(im_title)\n",
    "    plt.clf()\n",
    "\n",
    "words = np.array(['szkoda', 'strata', 'uszczerbek', 'krzywda', 'niesprawiedliwość', 'nieszczęście', 'kobieta',\n",
    "                  'mężczyzna', 'pasażer', 'pasażerka', 'student', 'studentka', 'lekarz', 'lekarka'])\n",
    "visualize(embeddings_100d, words, 'tsne_100d.png')\n",
    "visualize(embeddings_300d, words, 'tsne_300d.png')"
   ]
  },
  {
   "cell_type": "markdown",
   "metadata": {},
   "source": [
    "#### Zadanie 9.\n",
    "W większości przypadków wyniki zastosowania modelu 100-wymiarowego i 300-wymiarowego były podobne, chociaż dla niektórych wyrażeń nieco lepiej poradził sobie model o większej ilości wymiarów. Dla słowa *nieszczęście* model 100-wymiarowy jako najlepsze dopasowanie zwrócił słowo *niebezpieczeństwo* pomimo, że kolejne wyniki w rzeczywistości są bardziej zbliżone do *nieszczęście*. Model 300-wymiarowy nie popełnił tego błędu. Także w przypadku niektórych równań większa ilość wymiarów przełożyła się na lepsze wyniki. Przykładami są *nauczycielka + mężczyzna - kobieta* oraz *pilot + kobieta - mężczyzna*, gdzie najwięcej punktów przy zastosowaniu 300 wymiarów uzyskały odpowiednio słowa *nauczyciel* i *pilotka*, natomiast dla 100 wymiarów słowa te, będące najbardziej oczywistymi wynikami, znalazły się na dalszych pozycjach.  \n",
    "W przypadku multiword expressions pierwszymi wynikami były słowa, z których te wyrażenia się składały. Patrząc na dalsze miejsca, podobnie jak w przypadku pojedynczych słów, nieco lepsze dopasowania uzyskiwane były dla modelu o 300 wymiarach, jednak tutaj różnice te były bardzo niewielkie. Oba modele popełniły błędy, np. w przypadku wyrażenia *szkoda majątkowy* w wynikach pojawiły się *dochód* (100d) i *korzyść* (300d). Uwagę zwraca tutaj wynik dla wyrażenia *kodeks cywilny* z użyciem 300-wymiarowego modelu. W zbiorze słów podobnych pojawiły się *isps* oraz *jōei*, co może wskazywać na zbyt dużą czułość modelu."
   ]
  }
 ],
 "metadata": {
  "kernelspec": {
   "display_name": "Python 3",
   "language": "python",
   "name": "python3"
  },
  "language_info": {
   "codemirror_mode": {
    "name": "ipython",
    "version": 3
   },
   "file_extension": ".py",
   "mimetype": "text/x-python",
   "name": "python",
   "nbconvert_exporter": "python",
   "pygments_lexer": "ipython3",
   "version": "3.7.9"
  }
 },
 "nbformat": 4,
 "nbformat_minor": 4
}
