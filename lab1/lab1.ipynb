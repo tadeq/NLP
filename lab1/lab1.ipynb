{
 "cells": [
  {
   "cell_type": "markdown",
   "metadata": {},
   "source": [
    "## NLP\n",
    "## Lab 1 - Regular expressions"
   ]
  },
  {
   "cell_type": "code",
   "execution_count": 1,
   "metadata": {},
   "outputs": [
    {
     "ename": "ModuleNotFoundError",
     "evalue": "No module named 'regex'",
     "output_type": "error",
     "traceback": [
      "\u001b[1;31m---------------------------------------------------------------------------\u001b[0m",
      "\u001b[1;31mModuleNotFoundError\u001b[0m                       Traceback (most recent call last)",
      "\u001b[1;32m<ipython-input-1-a131053f26d3>\u001b[0m in \u001b[0;36m<module>\u001b[1;34m\u001b[0m\n\u001b[0;32m      1\u001b[0m \u001b[1;32mimport\u001b[0m \u001b[0mos\u001b[0m\u001b[1;33m\u001b[0m\u001b[1;33m\u001b[0m\u001b[0m\n\u001b[1;32m----> 2\u001b[1;33m \u001b[1;32mimport\u001b[0m \u001b[0mregex\u001b[0m\u001b[1;33m\u001b[0m\u001b[1;33m\u001b[0m\u001b[0m\n\u001b[0m\u001b[0;32m      3\u001b[0m \u001b[1;32mimport\u001b[0m \u001b[0mnumpy\u001b[0m \u001b[1;32mas\u001b[0m \u001b[0mnp\u001b[0m\u001b[1;33m\u001b[0m\u001b[1;33m\u001b[0m\u001b[0m\n\u001b[0;32m      4\u001b[0m \u001b[1;32mimport\u001b[0m \u001b[0mmatplotlib\u001b[0m\u001b[1;33m.\u001b[0m\u001b[0mpyplot\u001b[0m \u001b[1;32mas\u001b[0m \u001b[0mplt\u001b[0m\u001b[1;33m\u001b[0m\u001b[1;33m\u001b[0m\u001b[0m\n\u001b[0;32m      5\u001b[0m \u001b[1;32mimport\u001b[0m \u001b[0mpandas\u001b[0m \u001b[1;32mas\u001b[0m \u001b[0mpd\u001b[0m\u001b[1;33m\u001b[0m\u001b[1;33m\u001b[0m\u001b[0m\n",
      "\u001b[1;31mModuleNotFoundError\u001b[0m: No module named 'regex'"
     ]
    }
   ],
   "source": [
    "import os\n",
    "import regex\n",
    "import numpy as np\n",
    "import matplotlib.pyplot as plt\n",
    "import pandas as pd"
   ]
  },
  {
   "cell_type": "markdown",
   "metadata": {},
   "source": [
    "Aby ułatwić dalsze przeszukiwanie plików podczas wczytywania wszystkie litery w tekstach zostały zamienione na małe, a wszystkie przerwy między wyrazami zostały zastąpione spacjami."
   ]
  },
  {
   "cell_type": "code",
   "execution_count": 26,
   "metadata": {},
   "outputs": [],
   "source": [
    "all_files = []\n",
    "for filename in os.listdir('./ustawy'):\n",
    "    with open('./ustawy/' + filename, 'r', encoding='utf-8') as f:\n",
    "        all_files.append(\" \".join(f.read().lower().replace('\\n', ' ').split()))"
   ]
  },
  {
   "cell_type": "code",
   "execution_count": 27,
   "metadata": {},
   "outputs": [
    {
     "data": {
      "text/plain": [
       "'dz.u. z 1993 r. nr 129, poz. 599 ustawa z dnia 9 grudnia 1993 r. o zmianie ustawy o podatku od towarów i usług oraz o podatku akcyzowym art. 1. w ustawie z dnia 8 stycznia 1993 r. o podatku od towarów i usług oraz o podatku akcyzowym (dz.u. nr 11, poz. 50 i nr 28, poz. 127) wprowadza się następujące zmiany: 1) w art. 3: a) dotychczasowa treść otrzymuje oznaczenie ust. 1, b) dodaje się ust. 2 w brzmieniu: \"2. rada ministrów może określać, w drodze rozporządzenia, towary i usługi, z wyjątkiem wyrobów akcyzowych i wyrobów z metali szlachetnych, do których nie stosuje się przepisów ustawy.\"; 2) w art. 4: a) w pkt 7 wyrazy \"użytkowania wynosi\" zastępuje się wyrazami \"używania wyniósł\", b) w pkt 10 kropkę zastępuje się średnikiem i dodaje wyrazy \"w pozostałych przypadkach właściwym urzędem skarbowym jest drugi urząd skarbowy warszawy-śródmieście.\"; 3) w art. 6: a) ust. 4 otrzymuje brzmienie: \"4. jeżeli sprzedaż towaru lub wykonanie usługi powinno być potwierdzone fakturą lub rachunkiem uproszczonym, obowiązek podatkowy powstaje z chwilą wystawienia faktury lub rachunku uproszczonego, nie później jednak niż w 7 dniu od dnia wydania towaru lub wykonania usługi. wystawienie faktury lub rachunku uproszczonego następuje nie później niż w ostatnim dniu miesiąca, w którym wydano towar lub wykonano usługę.\", b) w ust. 5 wyrazy \"rachunków (faktur)\" zastępuje się wyrazami \"faktur i rachunków uproszczonych\", c) po ust. 8 dodaje się ust. 8a w brzmieniu: \"8a. przepis ust. 8 stosuje się również w przypadku eksportu towarów, jeżeli: 1) wywóz towarów nastąpi w ciągu sześciu miesięcy od dnia otrzymania zaliczki, 2) eksporter przedstawi w urzędzie skarbowym zabezpieczenie majątkowe kwoty zwrotu różnicy podatku, o której mowa w art. 21 ust. 2.\"; 4) w art. 7 w ust. 1: a) pkt 4 otrzymuje brzmienie: \"4) import towarów zwolnionych od cła na podstawie art. 12, 14 ust. 1 pkt 1-5, 7-36 i 38, art. 15 oraz art. 20 ustawy z dnia 28 grudnia 1989 r. - prawo celne (dz.u. nr 75, poz. 445, z 1991 r. nr 60, poz. 253, nr 73, poz. 320 i nr 100, poz. 442, z 1992 r. nr 21, poz. 85 oraz z 1993 r. nr 60, poz. 279 i nr 129, poz. 598),\", b) w pkt 6 wyrazy w nawiasie zastępuje się wyrazami \"dz.u. z 1993 r. nr 90, poz. 416\"; 5) w art. 9: a) w ust. 1 skreśla się wyrazy \"nie później niż na 30 dni\", b) po ust. 5 dodaje się ust. 5a w brzmieniu: \"5a. w przypadku gdy zaprzestanie wykonania czynności podlegających opodatkowaniu nie zostało zgłoszone zgodnie z ust. 4 i 5, urząd skarbowy, który dokonał rejestracji, wykreśla z urzędu podatnika z rejestru, a w przypadkach określonych w ust. 5 następuje również unieważnienie numeru identyfikacyjnego.\", c) w ust. 8 wyrazy \"rachunkach (fakturach)\" zastępuje się wyrazami \"fakturach, rachunkach uproszczonych\"; 6) w art. 10: a) po ust. 2 dodaje się ust. 2a w brzmieniu: \"2a. przepis ust. 2 stosuje się odpowiednio do kwoty zwrotu różnicy podatku wynikającej z deklaracji podatkowej.\", b) ust. 3 otrzymuje brzmienie: \"3. przepisu ust. 1 nie stosuje się do podatników zwolnionych od podatku od towarów i usług na podstawie art. 14 oraz podmiotów wykonujących wyłącznie czynności zwolnione od podatku na podstawie art. 7 ust. 1 lub na podstawie przepisów wydanych na podstawie art. 47, chyba że przysługuje im zwrot różnicy podatku lub zwrot podatku naliczonego zgodnie z art. 21 lub 23 pkt 2-4.\"; 7) art. 14 otrzymuje brzmienie: \"art. 14. 1. zwalnia się od podatku podatników: 1) u których wartość sprzedaży towarów w rozumieniu art. 2 ust. 1 i 3, a także wartość eksportu towarów lub usług nie przekroczyła łącznie w poprzednim roku podatkowym 1,2 mld zł, 2) opłacających podatek dochodowy w formie karty podatkowej, w zakresie działalności objętej tą formą opodatkowania, z uwzględnieniem art. 18 ust. 3. 2. podatnicy, o których mowa w ust. 1, mogą zrezygnować ze zwolnienia określonego w ust. 1, pod warunkiem zawiadomienia o tym zamiarze właściwego urzędu skarbowego przed początkiem miesiąca, w którym rezygnują ze zwolnienia. rezygnacja obowiązuje do końca roku podatkowego. 3. jeżeli wartość sprzedaży towarów u podatników zwolnionych od podatku na podstawie ust. 1 pkt 1 przekroczy kwotę 1,2 mld zł, zwolnienie traci moc w momencie przekroczenie tej kwoty. obowiązek podatkowy powstaje z chwilą przekroczenia tej kwoty, a opodatkowaniu podlega nadwyżka ponad tę kwotę. za zgodą właściwego urzędu skarbowego podatnik może zmniejszyć podatek należny o podatek naliczony, wynikający z rachunków uproszczonych dokumentujących zakupy dokonane przed dniem utraty zwolnienia, pod warunkiem sporządzenia spisu z natury zapasów tych towarów posiadanych w dniu przekroczenia kwoty 1,2 mld zł. 4. w przypadku podatników, o których mowa w art. 16 ust. 1 pkt 2, przez wartość sprzedaży towarów określoną w ust. 1 pkt 1 rozumie się: 1) 30-krotność kwoty prowizji - u podatników dokonujących sprzedaży będącej przedmiotem umowy pośrednictwa, 2) wartość sprzedanych towarów - u podatników dokonujących sprzedaży towarów będącej przedmiotem umowy komisu. 5. podatnicy będący zakładami pracy chronionej w rozumieniu przepisów o zatrudnieniu i rehabilitacji zawodowej osób niepełnosprawnych mogą wybrać zwolnienie od podatku, bez względu na wartość sprzedaży towarów, pod warunkiem złożenia przez podatnika pisemnego oświadczenia we właściwym urzędzie skarbowym. 6. podatnik rozpoczynający wykonywanie czynności określonych w art. 2 w ciągu roku podatkowego może wybrać zwolnienie od podatku, jeżeli przewidywana przez podatnika wartość sprzedaży towarów, określona w złożonym oświadczeniu, nie przekroczy - w proporcji do okresu prowadzonej sprzedaży - kwoty wymienionej w ust. 1 pkt 1. podatnik składa oświadczenie w urzędzie skarbowym przed dniem dokonania pierwszej sprzedaży (świadczenia usługi). 7. jeżeli wartość sprzedaży towarów określona zgodnie z ust. 6 zostanie przekroczona w ciągu roku podatkowego, zwolnienie traci moc od momentu przekroczenia tej wartości. opodatkowaniu podlega nadwyżka sprzedaży ponad wartość określoną zgodnie z ust. 6, a obowiązek podatkowy powstaje z chwilą przekroczenia tej wartości. przepis ust. 3 zdanie trzecie stosuje się odpowiednio. 8. jeżeli podatnicy określeni w ust. 1 pkt 1, wykorzystując związki z kontrahentami, tak układają swoje interesy, że uzyskują wartość sprzedaży towarów znacznie niższą niż uzyskaliby w przypadku, gdyby związek ten nie istniał, a w wyniku tych związków nastąpiło zmniejszenie wpływów podatkowych, zwolnienie od podatku traci moc od początku roku podatkowego. 9. poczynając od 1995 r. kwota, o której mowa w ust. 1 pkt 1 i ust. 3, ulega corocznie podwyższeniu w stopniu odpowiadającym wskaźnikowi cen konsumpcyjnych towarów i usług w okresie pierwszych trzech kwartałów roku poprzedzającego rok kalendarzowy w stosunku do tego samego okresu roku ubiegłego. 10. zwolnień, o których mowa w ust. 1, 5 i 6, nie stosuje się do podatników określonych w art. 5 ust. 2, do importu towarów i usług oraz podatników: 1) sprzedających: a) wyroby z metali szlachetnych lub z udziałem tych metali, b) wyroby akcyzowe, z wyjątkiem wyrobów wymienionych w załączniku nr 6 poz. 8, 9, 10, 11, 16 i 17, 2) świadczących usługi prawnicze oraz usługi w zakresie doradztwa. 11. minister finansów określi, w drodze rozporządzenia, listę towarów i usług, o których mowa w ust. 10 pkt 1 lit.a) i pkt 2, z uwzględnieniem klasyfikacji wydanych na podstawie przepisów o statystyce państwowej. 12. minister finansów w porozumieniu z prezesem głównego urzędu statystycznego ustala do 30 listopada roku poprzedzającego rok podatkowy, w drodze obwieszczenia, kwotę, o której mowa w ust. 1 pkt 1 i ust. 3, z uwzględnieniem zasady określonej w ust. 9, zaokrąglając tę kwotę do pełnych 10 mln zł.\"; 8) w art. 15: a) w ust. 1 w zdaniu drugim po wyrazie \"kwotę\" dodaje się wyraz \"należnego\", b) w ust. 2 wyrazy \"rachunków (faktur)\" zastępuje się wyrazami \"faktur lub rachunków uproszczonych\", c) w ust. 3 po wyrazie \"kwotę\" dodaje się wyraz \"należnego\", d) ust. 4 otrzymuje brzmienie: \"4. podstawą opodatkowania w imporcie towarów jest wartość celna powiększona o należne cło i podatek importowy. jeżeli przedmiotem importu są towary opodatkowane podatkiem akcyzowym, wartość celną powiększoną o należne cło i podatek importowy zwiększa się również o podatek akcyzowy.\"; 9) w art. 19: a) w ust. 2 wyrazy \"rachunkach (fakturach)\" zastępuje się wyrazem \"fakturach\", b) ust. 3 otrzymuje brzmienie: \"3. obniżenie kwoty podatku należnego, o której mowa w ust. 1, następuje w rozliczeniu za miesiąc, w którym podatnik otrzymał fakturę, rachunek uproszczony w przypadku określonym w art. 14 ust. 3 lub dokument odprawy celnej, albo w miesiącu następnym.\", c) w ust. 4 kropkę skreśla się i dodaje wyrazy \"nie później jednak niż w ciągu 36 miesięcy od końca miesiąca, w którym podatnik otrzymał fakturę lub dokument odprawy celnej.\"; 10) w art. 20 po ust. 3 dodaje się ust. 4 i 5 w brzmieniu: \"4. w przypadku nabycia towarów, o których mowa w art. 21 ust. 3, procentowy udział wartości sprzedaży towarów opodatkowanych w wartości sprzedaży ogółem oblicza się na podstawie sprzedaży z ostatnich sześciu miesięcy. 5. podatnicy dokonujący czynności, o których mowa w art. 2 ust. 1-3, w okresie krótszym niż sześć miesięcy obliczają procentowy udział zgodnie z ust. 3, przy czym po upływie sześciu miesięcy od rozpoczęcia działalności wyliczają ten udział zgodnie z ust. 4 i dokonują korekty podatku naliczonego.\" 11) w art. 21: a) ust. 4 otrzymuje brzmienie: \"4. w przypadku gdy kwota zwrotu różnicy podatku dla podatnika dokonującego sprzedaży towarów opodatkowanych stawkami niższymi niż stawka określona w art. 18 ust. 1 przekracza kwotę wynoszącą 22% całości obrotu opodatkowanego stawkami niższymi, urząd skarbowy może na czas nie dłuższy niż trzy miesiące ograniczyć jej wysokość do wysokości tej kwoty.\", b) ust. 6 otrzymuje brzmienie: \"6. zwrot różnicy podatku następuje na rachunek bankowy podatnika w ciągu 15 dni od dnia złożenia rozliczenia przez podatnika. jeżeli w przypadku określonym w ust. 3 zasadność zwrotu wymaga dodatkowego sprawdzenia, urząd skarbowy może dokonać zwrotu różnicy podatku ratalnie w dwóch równych ratach w ciągu dwóch miesięcy następujących po miesiącu, w którym wystąpiła sytuacja uzasadniająca zwrot różnicy podatku. rozliczenie powinno być złożone w terminie do 15 dnia miesiąca następującego po miesiącu, w którym wystąpiła sytuacja uzasadniająca zwrot różnicy podatku.\"; 12) skreśla się art. 22; 13) art. 23 otrzymuje brzmienie: \"art. 23. minister finansów, w drodze rozporządzenia: 1) może określić listę towarów i usług lub przypadki, w których nabycie towarów lub usług nie uprawnia do obniżenia podatku należnego oraz zwrotu różnicy podatku, o którym mowa w art. 21, 2) określi przypadki i warunki zwrotu podatku naliczonego przy nabyciu towarów i usług, wymienionych w art. 21 ust. 3, służących całkowicie lub częściowo czynnościom zwolnionym od podatku, na podstawie art. 7 ust. 1 pkt 1 i 2, 3) może określić inne niż wymienione w art. 25 ust. 2 przypadki nabycia towarów lub usług uprawniające do obniżenia podatku należnego lub zwrotu różnicy podatku, o którym mowa w art. 21, 4) może określić przypadki, gdy podatek naliczony może być zwrócony jednostce dokonującej zakupu (importu) towarów lub usług oraz określić zasady dokonywanie tego zwrotu.\"; 14) w art. 25: a) w ust. 1: - w pkt 3 kropkę zastępuje się przecinkiem, - po pkt 3 dodaje się pkt 4 w brzmieniu: \"4) towarów i usług, których nabycie: a) zostało udokumentowane rachunkiem uproszczonym, z wyjątkiem przypadku określonego w art. 14 ust. 3, albo fakturą wystawioną niezgodnie z art. 32, b) nastąpiło w wyniku darowizny lub nieodpłatnego przekazania usługi.\", b) ust. 2 otrzymuje brzmienie: \"2. przepis ust. 1 pkt 3 nie dotyczy: 1) wydatków związanych z nabyciem towarów i usług, o których mowa w art. 21 ust. 3, 2) przekazanych towarów oraz świadczonych usług w przypadkach określonych w art. 2 ust. 3 pkt 2 oraz darowizn określonych w art. 2 ust. 3 pkt 4, 3) części wydatków, które nie zostały zaliczone do kosztów uzyskania przychodów z powodu przekroczeń norm w rozumieniu przepisów o podatku dochodowym, 4) podatku od importu towarów stanowiących wkłady niepieniężne (aporty) do spółek prawa handlowego.\"; 15) w art. 26 skreśla się: a) oznaczenie ust. 1 oraz wyrazy \"ust. 2 i \"; b) ust. 2; 16) w art. 27: a) w ust. 1 wyrazy \"art. 14 ust. 1 pkt 1, ust. 2, 5 i 6\" zastępuje się wyrazami \"art. 14 ust. 1 pkt 1 i ust. 6\", b) w ust. 4 wyrazy \"art. 14 ust. 1, 2, 5 i 6\" zastępuje się wyrazami \"art. 14 ust. 1, 5 i 6\", c) w ust. 5 pkt 1 i 2 otrzymują brzmienie: \"1) przedmiotu i podstawy opodatkowania, organ podatkowy określa wartość nie zaewidencjonowanej sprzedaży w drodze oszacowania i ustala podatek przy zastosowaniu stawki 22%, z tym że kwota ustalonego w ten sposób podatku ulega podwyższeniu o 100%, 2) wysokość podatku naliczonego, w wyniku czego nastąpiło jego zawyżenie, kwotę podatku należnego zwiększa się o kwotę trzykrotności tego zawyżenia.\"; 17) w art. 29 w ust. 4 skreśla się wyrazy \"w porozumieniu z prezesem polskiego komitetu normalizacji, miar i jakości.\"; 18) w art. 30 w ust. 1 dodaje się zdanie drugie w brzmieniu: \"dla obliczenia tych proporcji przyjmuje się wyłącznie towary przeznaczone do dalszej sprzedaży według cen uwzględniających podatek.\"; 19) w art. 32: a) w ust. 1 wyrazy \"rachunek (fakturę) stwierdzający\" zastępuje się wyrazami \"fakturę lub rachunek uproszczony stwierdzający w szczególności\", b) w ust. 2 wyrazy \"rachunków (faktur)\" zastępuje się wyrazami \"faktur lub rachunków uproszczonych\", c) w ust. 3 po wyrazie \"rachunku\" dodaje się wyrazy \"o którym mowa w ust. 2\", a po wyrazach \"nr 3\" dodaje się wyraz \"- 5\", d) ust. 4 otrzymuje brzmienie: \"4. w przypadku czynności wymienionych w art. 2 ust. 3 pkt 1, 2, 4 i 5 wystawiane są rachunki uproszczone.\", e) w ust. 5 wyrazy \"rachunków (faktur)\" zastępuje się wyrazem \"faktur\"; 20) w art. 33 w ust. 1 i 2 wyrazy \"rachunek (fakturę)\" zastępuje się wyrazem \"fakturę\"; 21) w art. 34: a) w ust. 2 zdanie pierwsze otrzymuje brzmienie: \"akcyzie podlegają również nadmierne ubytki lub zawinione niedobory wyrobów akcyzowych wymienionych w załączniku nr 6 poz. 13-15 i poz. 17.\", b) w ust. 3 po wyrazie \"norm\" dodaje się wyraz \"maksymalnych\", c) po ust. 3 dodaje się ust. 4 w brzmieniu: \"4. wysokość dopuszczalnych ubytków wyrobów akcyzowych dla poszczególnych producentów ustalają dyrektorzy urzędów kontroli skarbowej, z uwzględnieniem warunków technicznych podatnika.\"; 22) w art. 36: a) ust. 2 otrzymuje brzmienie: \"2. w imporcie towarów akcyzowych podstawą opodatkowania akcyzą jest ich wartość celna powiększona o cło obliczone według stawki podstawowej i podatek importowy, także w przypadku, gdy towary te na podstawie odrębnych przepisów zostały w całości lub w części zwolnione od cła bądź cło zostało zawieszone albo zastosowano preferencyjną stawkę celną. jeżeli podstawowa stawka celna nie została określona, stosuje się stawkę autonomiczną.\", b) dodaje się ust. 5 w brzmieniu: \"5. minister finansów może określić, w drodze rozporządzenia, inną podstawę odpodatkowania akcyzą w przypadku, gdy podatnikami akcyzy są osoby lub jednostki inne niż producent lub importer wyrobów akcyzowych.\"; 23) w art. 37: a) w ust. 1 wyrazy \"wartości celnej powiększonej o należne cło\" zastępuje się wyrazami \"do podstawy opodatkowania określonej w art. 36 ust. 2\", b) w ust. 2 wyrazy \"wartości celnej powiększonej o należne cło\" zastępuje się wyrazami \"w procencie podstawy opodatkowania określonej w art. 36 ust. 2\"; 24) w art. 39 w ust. 1: a) w pkt 3 kropkę zastępuje się przecinkiem, b) po pkt 3 dodaje się pkt 4 i 5 w brzmieniu: \"4) usługi remontowe obiektów pływających, świadczone na rzecz osób zagranicznych w rozumieniu przepisów prawa dewizowego, nie będących podatnikami podatku od towarów i usług, 5) usługi polegające na naprawie, uszlachetnianiu, przerobie lub przetwarzaniu towarów przywiezionych na polski obszar celny na czas oznaczony, jeżeli towary te zostaną wywiezione za granicę zgodnie z warunkami określonymi w przepisach celnych.\"; 25) w art. 47 wyrazy \"w okresie 3 lat od dnia ogłoszenia ustawy\" zastępuje się wyrazami \"do 31 grudnia 1996 r.\"; 26) art. 48 otrzymuje brzmienie: \"art. 48. 1. podatnicy, u których wartość sprzedaży towarów w rozumieniu art. 2 ust. 1 i 3, a także wartość eksportu towarów lub usług przekroczyła w 1993 r. kwotę 1,2 mld zł, mogą zmniejszyć podatek należny o podatek naliczony wynikający z rachunków uproszczonych, dokumentujących zakupy dokonane przed przekroczeniem tej kwoty, pod warunkiem sporządzenia spisu z natury zapasów posiadanych w dniu 31 grudnia 1993 r. w sporządzonym spisie z natury powinna być wykazana kwota podatku naliczonego przypadająca na poszczególne grupy towarowe wykazane w tym spisie. 2. podatnicy, o których mowa w ust. 1, obowiązani są poinformować właściwy urząd skarbowy o łącznej kwocie podatku naliczonego, ustalonej w wyniku spisu z natury.\"; 27) w art. 49: a) w ust. 1: - w pkt 1 wyrazy \"przez okres 6 miesięcy licząc od dnia wejścia ustawy w życie\" zastępuje się wyrazami \"do 31 grudnia 1993 r.\", - pkt 2 otrzymuje brzmienie: \"2) do 25 dnia miesiąca - do 30 czerwca 1994 r.\", b) w ust. 2 pkt 2 liczbę \"23\" zastępuje się liczbą \"25\", c) ust. 5 otrzymuje brzmienie: \"5. minister finansów może ustalić, w drodze zarządzenia, na okres do 31 grudnia 1994 r. dłuższe terminy składania rozliczenia, obliczania i wpłat podatku niż określone w ust. 1 oraz ustalić inne terminy zwrotu różnicy podatku niż określone w ust. 2 oraz w art. 21 ust. 6.\"; 28) art. 50 otrzymuje brzmienie: \"art. 50. minister finansów, w drodze rozporządzenia: 1) ustali, na okres nie dłuższy niż 3 lata, listę towarów i usług, do których stosuje się stawkę 0%, oraz przypadki, gdy sprzedaż towarów do wolnych obszarów i składów celnych jest traktowana na równi z eksportem, 2) może ustalić, na okres nie dłuższy niż 3 lata, listę towarów i usług, do których stosuje się stawkę 7%.\"; 29) w art. 51: a) w ust. 1: - w pkt 1 wyrazy \"do 30 czerwca 1994 r.\" zastępuje się wyrazami \"do 31 grudnia 1994 r.\", - w pkt 2 lit.a) po wyrazie \"budowlanych\" dodaje się wyrazy \"i usług (robót)\", - w pkt 2 lit.b) po wyrazach \"robót budowlano-montażowych\" dodaje się wyrazy \"oraz remontów\", b) w ust. 4 wyrazy \"- jeżeli warunkują one oddanie do użytku obiektów budownictwa mieszkaniowego\" zastępuje się wyrazami \"- jeżeli związane są one z obiektami budownictwa mieszkaniowego\"; 30) w art. 54: a) w ust. 2 po wyrazach \"wykazy towarów\" skreśla się wyrazy \"i usług\", b) dodaje się ust. 3 w brzmieniu: \"3. w przypadku wprowadzenia nowych klasyfikacji towarów i usług, o których mowa w ust. 1, zobowiązuje się ministra finansów w porozumieniu z prezesem głównego urzędu statystycznego do ogłoszenia załączników do ustawy z uwzględnieniem nomenklatury wynikającej z nowych klasyfikacji.\"; 31) w załączniku nr 2: a) w pozycji 6 po wyrazach \"usługi mieszkaniowe\" dodaje się wyrazy: \"(z wyłączeniem wynajmu lokali w budynkach mieszkalnych na cele inne niż mieszkaniowe)\", b) w pozycji 15 po wyrazach \"i kinowego\" dodaje się wyrazy \"z wyłączeniem filmów reklamowych i promocyjnych\", 32) załączniki nr 3 i 5 otrzymują brzmienie określone w załącznikach nr 1 i 2 do niniejszej ustawy, 33) w załączniku nr 6 poz. 3 otrzymuje brzmienie: é-----â-------------------â------------------------ť |poz. | symbol sww |nazwa towaru (grupy | | | |towarów) | ă-----ĺ-------------------ĺ------------------------´ | 1 | 2 | 3 | ă-----ĺ-------------------ĺ------------------------´ | | | | |\"3 | 0675 -931, -991, |broń palna myśliwska, | | | -999 |broń gazowa\" | č-----á-------------------á------------------------ź art. 2. w okresie od dnia wejścia w życie ustawy do 31 grudnia 1996 r. przepisu art. 34 ust. 2 w brzmieniu nadanym niniejszą ustawą nie stosuje się do wyrobów wymienionych w załączniku nr 6 poz. 17. art. 3. minister finansów ogłosi w dzienniku ustaw rzeczypospolitej polskiej jednolity tekst ustawy o podatku od towarów i usług oraz o podatku akcyzowym, z uwzględnieniem zmian wynikających z przepisów ogłoszonych przed dniem wydania jednolitego tekstu. art. 4. ustawa wchodzi w życie z dniem 1 stycznia 1994 r. załączniki do ustawy z dnia 9 grudnia 1993 r. (poz. 599) załącznik nr 1 w y k a z towarów i usług, których sprzedaż lub świadczenie jest objęte stawką podatku w wysokości 7% +----+---------+-------------------------------------------+ |poz.| symbol | nazwa towaru lub usługi | | | | (grupy towarów lub usług) | | | sww/ku | | +----+---------+-------------------------------------------+ | 1 | 2 | 3 | +----+---------+-------------------------------------------+ | | | i. towary związane z gospodarką rolną | | | | i leśną | | | | | | 1. | 0281-2 |torf i wyroby torfowe dla celów rolniczych | | | | | | 2. | 0644 |narzędzia gospodarcze i sprzęt podwórzowy | | | |ogrodniczy i sadowniczy | | | | | | 3. | 082 |maszyny, urządzenia i narzędzia rolnicze | | | |i dla gospodarki leśnej | | | | | | 4. | 1026-6 |przyczepy ciągnikowe rolnicze | | | | | | 5. |1031-1,-2|ciągniki kołowe jednoosiowe i dwuosiowe | | | |rolnicze | | | | | | 6. | 123, |nawozy sztuczne, składniki chemiczne mie- | | | 1431, |szanek paszowych oraz wapno, nawozy wapnio-| | | 1432 |we i wapniowo-magnezowe | | | | | | 7. | 1246 |pestycydy | | | | | | 8. | 1416-33 |mączka dolomitowa | | | | | | 9. | 1418-33 |kreda pastewna | | | | | |10. |2449-1,26|wywary paszowe, pasze przemysłowe i | | | |produkty utylizacyjne | | | | | | | | | | | | | | | | ii. towary związane z ochroną zdrowia | | | | | |11. | 0965-2 |szkła okularowe | | | | | |12. |0973-111 |igły lekarskie drożne, strzykawki lekarskie| | | | | |13. |0973-231,|aparaty do mierzenia ciśnienia tętniczego | | | 0979-3 |oraz części do tych aparatów | | | | | |14. | 1022-99 |samochody osobowe fiat 126p przystosowane | | | |fabrycznie dla inwalidów | | | | | |15. | 1153-91 |aparaty dla słabosłyszących, a także | | | |naprawa tych aparatów | | | | | |16. | 1219 |produkty uzdrowisk (bez napojów | | | |mineralnych) | | | | | |17. |1335-321 |błony rentgenowskie diagnostyczne | | | | | |18. | 134, |wyroby farmaceutyczne, wyroby farmaceutycz-| | | 1354 |ne zielarskie oraz inne uznane za farmace- | | | |utyczne na podstawie odrębnych przepisów | | | | | |19. | 1369-7, |wyroby medyczne i sanitarne oraz weteryna- | | | 1376 |ryjne z tworzyw sztucznych, wyroby gumowe | | | |medyczne i sanitarne | | | | | |20. | 1829-42 |wata celulozowa paczkowana | | | | | |21. | |podpinki higieniczne (sww: 1829-496), a | | | |także podkłady (pieluchy, pielucho-majtki) | | | |dla obłożnie chorych | | | | | |22. | 2017-11 |artykuły medyczne dziewiarskie | | | | | |23. | 2025 |wyroby opatrunkowe włókiennicze | | | | | |24. | 2885 |wyroby ortopedyczne, rehabilitacyjne, pro- | | | |tetyczne oraz wózki inwalidzkie, a także | | | |naprawa tych wyrobów | | | | | |25. | |urządzenia do zapisywania i odczytywania | | | |tekstów w alfabecie braille\\'a | | | | | | | | iii. towary spożywcze | | | | | |26. | 23 |wyroby przemysłu spożywczego - część i, | | | |z wyłączeniem towarów zwolnionych od po- | | | |datku (załącznik nr 1) | | | | | |27. | 24 |wyroby przemysłu spożywczego - część ii, | | | |z wyłączeniem wyrobów przemysłu spirytuso- | | | |wego i drożdżowego (sww:244), wyro- | | | |bów winiarskich (sww:247) i produktów | | | |przemysłu piwowarskiego (sww:248) | | | | | | | | | |28. | 25 |wyroby przemysłu spożywczego - część iii, | | | |z wyłączeniem wyrobów cukierniczych trwa- | | | |łych (sww:2511, 2513, 2514, 2515, 2517, | | | |2518, 2519), wód mineralnych i innych | | | |napojów bezalkoholowych (sww:253), używek | | | |naturalnych i ich ekstraktów (sww:2543), | | | |tytoniu i wyrobów tytoniowych (sww:255) | | | | | | | | iv. towary dla dzieci | | | | | |29. | 0675-68 |łyżwy popularne dziecięce | | | | | |30. | 1043-5 |rowery i pojazdy dziecięce | | | | | |31. | 1043-8 |wózki dziecięce | | | | | |32. | 1136-69 |podgrzewacze do butelek dla niemowląt | | | | | |33. | 1322-62 |mydła dla dzieci | | | | | |34. |1324-113,|pasty i szczoteczki do pielęgnacji jamy | | | 2886-21 |ustnej dla dzieci | | | | | |35. |1324-321,|oliwy zwykłe i witaminizowane, talki, za- | | |-332,-333|sypki i mleczka kosmetyczne dla dzieci do | | | -62 |3 lat | | | | | |36. |2012-1 do|okrycia z dzianin dla dzieci do 11 lat | | | -3 | | | | | | |37. |2013-1 do|ubiory z dzianin dla dzieci do 11 lat | | | -3 | | | | | | |38. |2014-1 do|bielizna osobista z dzianin dla dzieci do | | | -3 |11 lat | | | | | |39. |2015-1 do|nakrycia głowy z dzianin dla dzieci do | | | -3 |11 lat | |40. | 2016-2, |galanteria odzieżowa z dzianin dziecięca | | |-51,-91 | | | | | | |41. |2019-1 do|wyroby pończosznicze dla dzieci do 11 lat | | | -3 | | | | | | |42. |2112-1 do|okrycia, ubiory, bielizna osobista i nakry-| | | -3 |cia głowy z tkanin dla dzieci do 11 lat | | |2113-1 do| | | | -3 | | | |2114-1 do| | | | -3 | | | |2115-1 do| | | | -3 | | | | | | |43. |2116-21, |galanteria odzieżowa z tkanin dziecięca | | |-51 do-53| | | | | | |44. | 2181-11 |beciki niemowlęce | | | | | |45. | 1825, |artykuły papiernicze szkolne, przybory | | |2883-11, |szkolne, pomoce naukowe oraz specjalistycz-| | |-16,-21, |ny sprzęt szkolny i przedszkolny | | |-35,-41, | | | |-43 do-46| | | |-91,-92, | | | | -995, | | | | -996, | | | | 2884 | | | | | | |46. | 1749-2 |urządzenia ogródków dziecięcych z drewna | | | | | |47. | 1829-13 |karty do gry dla dzieci | | | | | |48. | 282 |zabawki i gry towarzyskie | | | | | |49. | 2272-4 |tornistry nieskórzane | | | | | |50. | bez |obuwie dziecięce wszelkiego rodzaju i obu- | | | względu |wie z łyżwami o numeracji metrycznej do | | |na symbol|23 cm | | | sww | | | | | | |51. | |narty dziecięce o długości do 120 cm, wią- | | | |zania i kijki do tych nart | | | | | |52. | bez |sanki dla dzieci | | | względu | | | |na symbol| | | | sww | | | | | | |53. | |tkaniny bawełniane pieluszkowe, pieluszki, | | | |butelki, ceratki higieniczne i gryzaczki | | | |dla niemowląt | | | | | |54. | |meble dla dzieci do 6 lat | | | | | |55. | |artykuły mundurowe dla zuchów i harcerzy | | | | | | | | v. towary inne | | | | | |56. | 1371-8, |opony naprawiane i bieżnikowane | | | -9 | | | | | | |57. | 1779-94 |brykiety z trocin | | | | | |58. | 2711 |wydawnictwa prasowe | | | | | |59. | 2712 |wydawnictwa dziełowe | | | | | |60. |2713-11, |nuty, mapy | | | -12 | | | | | | |61. | 2811, |instrumenty muzyczne, części do instrumen- | | | 2812 |tów muzycznych i akcesoria muzyczne | | | | | | | | | | | | | | | | vi. usługi | | | | | |62. | 08201 |usługi związane z maszynami, urządzeniami i| | | |narzędziami dla gospodarki rolnej, leśnej | | | |i ogrodniczej | | | | | |63. | |usługi związane z ciągnikami uniwersalnymi | | | |rolniczymi | | | | | |64. | |usługi związane z naprawą i regeneracją | | | |zespołów i części do ciągników uniwersal- | | | |nych rolniczych oraz do sprzętu rolniczego,| | | |leśnego i ogrodniczego | | | | | |65. | |usługi bieżnikowania i wulkanizowania opon | | | |i dętek | | | | | |66. | |usługi ratownictwa górniczego | | | | | |67. | 35 |usługi geologiczne | | | | | |68. | 36 |usługi geodezyjno-kartograficzne, z | | | |wyłączeniem usług objętych stawką 0% na | | | |podstawie odrębnych przepisów | | | | | |69. | 50101, |przewozy osób kolejami, taborem samochodo- | | | 51101, |wym, wodnym i lotniczym, z wyłączeniem | | | 52101, |przewozu taksówkami osobowymi | | | 53101, | | | | 54101 | | | | | | |70. | 50201 |usługi sypialne w wagonach kolejowych | | | | | |71. | |usługi związane z utrzymaniem i moderni- | | | |zacją dróg kołowych oraz obiektów mostowych| | | |(z wyłączeniem ku 72601) | | | | | |72. | |usługi (roboty) związane z budową dróg i | | | |obiektów mostowych | | | | | |73. | 59101 |usługi w zakresie łączności - wyłącznie te-| | | |lekomunikacji i radiokomunikacji | | | | | |74. | 62001 |usługi gastronomiczne, z wyłączeniem: | | | |1) sprzedaży napojów alkoholowych o | | | | zawartości alkoholu powyżej 1,5%, | | | | | | | |2) sprzedaży kawy i herbaty (wraz z | | | | dodatkami), napojów bezalkoholowych | | | | gazowanych, wód mineralnych, a także | | | | sprzedaży w stanie nie przetworzonym | | | | innych towarów opodatkowanych stawką | | | | 22%, | | | |3) usług świadczonych w hotelach 4- i 5- | | | | gwiazdkowych | | | | | | | | | | | | | |75. | 88 |usługi w zakresie turystyki i wypoczynku, | | | |z wyłączeniem usług świadczonych przez ho- | | | |tele 4- i 5-gwiazdkowe | | | | | |76. | 89301 |ogłoszenia prasowe - wyłącznie zlecone | | | |przez osoby fizyczne nie prowadzące | | | |działalności gospodarczej | +----+---------+-------------------------------------------+ załącznik nr 2 w y k a z materiałów i usług (robót) budowlanych, których sprzedaż jest objęta stawką podatku w wysokości 7% +----+------------+----------------------------------------+ |poz.| symbol sww | nazwa towaru (grupy towarów) | +----+------------+----------------------------------------+ | 1 | 2 | 3 | +----+------------+----------------------------------------+ | 1. | 0245-5 |asfalty z przeróbki ropy naftowej | | | | | | 2. | 045-1 |pręty i profile średnie | | | | | | 3. | 0455 |pręty i profile lekkie | | | | | | 4. | 046 |rury stalowe | | | | | | 5. | 047 |blachy walcowane na zimno, blachy | | | |powlekane i inne wyroby przetwórstwa | | | |hutniczego | | | | | | | | | | 6. | 0491 |wyroby hutnictwa żelaza uzdatniane z | | | |odpadów | | | | | | 7. | 0552 |wyroby walcowane z aluminium i stopów | | | |aluminium | | | | | | 8. | 0561-14 |rury z miedzi oraz łączniki do instala- | | | |cji wadociągowych z miedzi i ze stopów | | | |miedzi | | | | | | 9. | 0614-1do-6 |wyroby odlewnicze żeliwne, z wyjątkiem | | | |armatury | | | | | |10. | 0615 |armatura metalowa przemysłowa: | | | 0615-1 |- armatura z żeliwa szarego | | | 0615-21,-51|- zasuwy | | | -61 | | | | 0615-22,-52|- zawory | | | -62 | | | | 0615-24,-54|- przepustnica | | | -64 | | | | | | |11. | 0616-1 |armatura metalowa sieci domowej | | | | | |12. | 0617-1 |osprzęt centralnego ogrzewania z metali | | | |nieżelaznych | | | | | |13. | 0622-33 |konstrukcje stalowe cylindryczne | | | |preizolowane | | | | | |14. | 0623-1 |konstrukcje zbiornikowe stalowe - wyłą- | | | |cznie wymienniki ciepła i naczynia | | | |wyrównawcze c.o. i c.w., zasobniki | | | |ciepłej wody, zbiorniki w oczyszczal- | | | |niach ścieków | | | | | |15. | 0624 |elementy i segmenty budowlane aluminiowe| | | | | |16. | 0625 |elementy i segmenty budowlane stalowe | | | |(ślusarka budowlana) | | | | | |17. | 0627 |konstrukcje stalowe lekkie do | | | |wyposażenia obiektów inwentarskich | | | | | |18. |0629-42,-43,|konstrukcje budynków drobnych stalowe, | | | -492 |elementy konstrukcyjne zbrojeń żelbeto- | | | |wych, elementy konstrukcyjne z blach | | | |stalowych ocynkowanych i powlekanych | | | | | |19. | 0651-16 |sploty i linki do konstrukcji sprężonych| | | | | |20. |0654-1 do -4|okucia budowlane metalowe | | | | | |21. | 0655-561 do|pojemniki metalowe na śmieci | | | -566 | | | | | | |22. | 0656-321 |grzejniki z blachy do centralnego ogrze-| | | |wania | | | | | |23. | 0656-51 |sprzęt instalacyjno-sanitarny z blachy | | | |emaliowany | | | | | |24. | 0656-71 |sprzęt instalacyjno-sanitarny z blachy | | | |stalowej nierdzewnej | | | | | |25. | 0672-11,-12|kuchnie gazowe oraz piece grzewcze i | | | -2 |podgrzewacze | | | | | |26. | 0711-5 |kotły grzewcze | | | | | |27. | 0719 |zespoły i części maszyn i urządzeń | | | |energetycznych, z wyłączeniem zespołów | | | |i części silników spalinowych | | | |tłokowych (sww: 0719-7) | | | | | |28. | 0871-91 |hydrofory | | | | | |29. | 0912-111 |regulatory temperatury | | | | | |30. | 0915-52 |reduktory membranowe | | | | | |31. | 0918-13 |elementy automatyki grzewczej | | | | | |32. | 0919 |urządzenia i zestawy urządzeń do automa-| | | |tycznej regulacji dostaw ciepła oraz do | | | |zdalnego sterowania pracą systemów cie- | | | |płowniczych | | | | | |33. | 0941-42 |liczniki elektryczne prądu zmiennego | | | | | |34. | 0943-71,-73|wodomierze i gazomierze | | | | | |35. | 0945-12,-19|ciepłomierze i przyrządy do pomiaru | | | |ilości ciepła pozostałe (podzielniki | | | |kosztów) | | | | | |36. | 1114-11,-13|rozdzielnice prefabrykatów wnętrzowe i | | | -17 |napowietrzne wysokiego napięcia oraz | | | |stacje transformatorowe rozdzielcze | | | |prefabrykowane, z wbudowanymi | | | |transformatorami | | | | | |37. | 1115-1 |urządzenia rozdzielcze i sterownicze | | | |niskiego napięcia | | | | | |38. | 1115-281, |podstawy i wkładki bezpiecznikowe | | | -282 |niskiego napięcia | | | | | |39. | 1119-41,-51|części do urządzeń rozdzielczych wysokie-| | | |go napięcia prefabrykowanych oraz części| | | |do urządzeń rozdzielczych i sterowni- | | | |czych niskiego napięcia | | | | | |40. | 1121-35,-45|przewody gołe aluminiowe i stalowo- | | | |aluminiowe napowietrzne | | | | | |41. |1123-1,-2,-3|przewody elektroenergetyczne instala- | | | |cyjne, uzbrojone i kabelkowe | | | | | |42. | 1126 |kable elektroenergetyczne | | | | | |43. |1131-1,-2,-5|sprzęt instalacyjny do instalowania | | | |przewodów w instalacjach domowych i | | | |przemysłowych, sprzęt instalacyjny | | | |łącznikowy i bezpiecznikowy oraz sprzęt | | | |instalacyjny do linii kablowych elektro-| | | |magnetycznych | | | | | |44. | 1133-11,-14|oprawy oświetleniowe | | | -17,-25,-41| | | | | | |45. | 1136-11 |kuchnie elektryczne (z wyjątkiem mikro- | | | |falowych) | | | | | |46. | 1136-6 |urządzenia elektryczne grzejne do | | | |podgrzewania wody | | | | | |47. | 1336-433 |kleje dla budownictwa | | | -444,-53 | | | | | | |48. | 1361-332 |płyty z polistyrenu spienionego (styro- | | | |pianu) | | | | | |49. |1361-36,-376|płyty z poliuretanów i bloki z | | | |poliuretanów | | | | | |50. | 1363 |rury i armatura z tworzyw sztucznych | | | | | |51. | 1365 |wyroby z tworzyw sztucznych dla budo- | | | |wnictwa (z wyjątkiem 1365-45, -46, -47 | | | |i -8) | | | | | |52. | 1411 |kruszywo budowlane (bez kruszywa z | | | |żużla wielkopiecowego) | | | | | |53. | 1413-911, | | | | -913,-915, |elementy i materiały budowlane kamienne | | | -921,-922 | | | | | | |54. | 1421 |klinkier cementowy | | | | | |55. | 1422 |cement | | | | | |56. | 1431 |wapno | | | | | |57. | 1433 |spoiwa gipsowe | | | | | |58. | 1434 |elementy ścienne gipsowe | | | | | |59. | 1435 |elementy stropowe gipsowe | | | | | |60. | 1436 |elementy gipsowe pozostałe | | | | | |61. | 144 |materiały budowlane ceramiczne (łącznie | | | |z wapienno-piaskowymi i wa- | | | |pienno-żużlowymi) | | | | | |62. | 145 |wyroby z betonu | | | | | |63. | 146 |materiały budowlane izolacyjne i | | | |azbestowo-cementowe | | | | | |64. | 1484 |zaprawy i wyprawy (bez ogniotrwałych) | | | | | |65. | 151 |szkło budowlane | | | | | |66. | 1623 |kamionka kanalizacyjna i sanitarna | | | | | |67. | 1624 |kamionka budowlana | | | | | |68. | 1632 |wyroby sanitarne ceramiczne | | | | | |69. | 1639-1 |płytki i kształtki ceramiczne ścienne | | | |szkliwione | | | | | |70. | 1715 |materiały podłogowe z drewna | | | | | |71. | 1733 |stolarka budowlana otworowa (bez okręto-| | | |wej) | | | | | |72. | 1735-11,-12|komplety elementów budynków mieszkalnych| | | |wolno stojących i szeregowych z drewna | | | |i materiałów drewnopochodnych | | | | | |73. | 1829-91 |tapety papierowe | | | | | |74. | |usługi i roboty związane z bieżącą | | | |konserwacją obiektów budownictwa | | | |mieszkaniowego i infrastruktury | | | |towarzyszącej budownictwu mieszkaniowemu| | | | | |75. | |usługi i roboty budowlane związane z | | | |budową, remontami i bieżącą konserwacją | | | |wysypisk śmieci | | | | | |76. | 34 |usługi w zakresie budownictwa specjali- | | | |stycznego w obiektach użytkowanych, a | | | |także usługi (roboty) związane z budową | | | |urządzeń melioracyjnych, przeciwpodzio- | | | |wych i deszczownianych | | | | | |77. | |budowa, remonty i bieżąca konserwacja | | | |budynków: | | | |1) zbiorowego - okresowego zamieszkania,| | | |bez turystycznych (kob 12) | | | |2) nauki, oświaty i wychowania (kob 13) | | | |3) kultury i sztuki, radia i telewizji | | | |oraz budynków sakralnych (kob 14) | | | |4) ochrony zdrowia i opieki społecznej | | | |(kob 15) | | | |5) kultury fizycznej, turystyki i | | | |wypoczynku (kob 16) | | | |6) użytku publicznego - pozostałych | | | |(kob 18) | | | |7) mieszkalnych i użytku publicznego - | | | |tymczasowych (kob 19) | | | | | +----+------------+----------------------------------------+'"
      ]
     },
     "execution_count": 27,
     "metadata": {},
     "output_type": "execute_result"
    }
   ],
   "source": [
    "all_files[0]"
   ]
  },
  {
   "cell_type": "markdown",
   "metadata": {},
   "source": [
    "#### Zadanie 1 (Zawiera zadanie 2)"
   ]
  },
  {
   "cell_type": "code",
   "execution_count": 28,
   "metadata": {},
   "outputs": [],
   "source": [
    "def find_matches(files, pattern):\n",
    "    matches = [regex.findall(pattern, file) for file in files]\n",
    "    return [match for matches_in_file in matches for match in matches_in_file]"
   ]
  },
  {
   "cell_type": "code",
   "execution_count": 29,
   "metadata": {},
   "outputs": [],
   "source": [
    "additions_pattern = '(?<=dodaje się\\s)\\w+'"
   ]
  },
  {
   "cell_type": "code",
   "execution_count": 30,
   "metadata": {},
   "outputs": [
    {
     "data": {
      "text/plain": [
       "{'pkt', 'ust', 'wyraz', 'wyrazy', 'zdanie'}"
      ]
     },
     "execution_count": 30,
     "metadata": {},
     "output_type": "execute_result"
    }
   ],
   "source": [
    "set(regex.findall(additions_pattern, all_files[0]))"
   ]
  },
  {
   "cell_type": "code",
   "execution_count": 31,
   "metadata": {},
   "outputs": [],
   "source": [
    "words = find_matches(all_files, additions_pattern)"
   ]
  },
  {
   "cell_type": "code",
   "execution_count": 32,
   "metadata": {},
   "outputs": [
    {
     "data": {
      "text/plain": [
       "{'2',\n",
       " '2a',\n",
       " '3',\n",
       " '38a',\n",
       " '4',\n",
       " '5a',\n",
       " 'art',\n",
       " 'cyfrę',\n",
       " 'drugie',\n",
       " 'dwukropek',\n",
       " 'dwukrotnie',\n",
       " 'dział',\n",
       " 'informację',\n",
       " 'każdorazowo',\n",
       " 'kropkę',\n",
       " 'kwotę',\n",
       " 'lit',\n",
       " 'litery',\n",
       " 'lp',\n",
       " 'masę',\n",
       " 'na',\n",
       " 'nowe',\n",
       " 'nowy',\n",
       " 'oddział',\n",
       " 'odnośnik',\n",
       " 'określenie',\n",
       " 'ozna',\n",
       " 'oznaczenie',\n",
       " 'pkt',\n",
       " 'po',\n",
       " 'poz',\n",
       " 'pozycję',\n",
       " 'przecinek',\n",
       " 'punkt',\n",
       " 'rozdział',\n",
       " 'rozdziały',\n",
       " 'tiret',\n",
       " 'trzecie',\n",
       " 'trzykrotnie',\n",
       " 'tytuł',\n",
       " 'ust',\n",
       " 'usta',\n",
       " 'użyte',\n",
       " 'użyty',\n",
       " 'w',\n",
       " 'wraz',\n",
       " 'wyraz',\n",
       " 'wyrazy',\n",
       " 'zadanie',\n",
       " 'załącznik',\n",
       " 'zdania',\n",
       " 'zdanie',\n",
       " 'średnik'}"
      ]
     },
     "execution_count": 32,
     "metadata": {},
     "output_type": "execute_result"
    }
   ],
   "source": [
    "set(words)"
   ]
  },
  {
   "cell_type": "markdown",
   "metadata": {},
   "source": [
    "Powyższy zbiór przedstawia wszystkie słowa następujące po wyrażeniu \"dodaje się\". W zadaniu poszukiwane są wyłącznie miejsca dodania jednostek tekstów prawnych, dlatego został zdefiniowany zbiór słów, który pozwoli znaleźć tylko wyrażenia poprzedzające nazwę lub skrót jednostki."
   ]
  },
  {
   "cell_type": "code",
   "execution_count": 33,
   "metadata": {},
   "outputs": [],
   "source": [
    "units = ['tytuł', 'tytuły', 'dział', 'działy', 'rozdział', 'rozdziały', 'oddział', 'oddziały', 'art', 'artykuł', 'artykuły', 'ust', 'ustęp', 'ustępy', 'pkt', 'punkt', 'punkty', 'lit', 'literę', 'litery', 'tiret']"
   ]
  },
  {
   "cell_type": "code",
   "execution_count": 34,
   "metadata": {},
   "outputs": [
    {
     "data": {
      "text/plain": [
       "['pkt',\n",
       " 'art',\n",
       " 'tiret',\n",
       " 'tytuł',\n",
       " 'dział',\n",
       " 'lit',\n",
       " 'ust',\n",
       " 'rozdziały',\n",
       " 'oddział',\n",
       " 'punkt',\n",
       " 'rozdział',\n",
       " 'litery']"
      ]
     },
     "execution_count": 34,
     "metadata": {},
     "output_type": "execute_result"
    }
   ],
   "source": [
    "[w for w in set(words) if w in units]"
   ]
  },
  {
   "cell_type": "code",
   "execution_count": 35,
   "metadata": {},
   "outputs": [
    {
     "data": {
      "text/plain": [
       "5958"
      ]
     },
     "execution_count": 35,
     "metadata": {},
     "output_type": "execute_result"
    }
   ],
   "source": [
    "len([word for word in words if word in units])"
   ]
  },
  {
   "cell_type": "markdown",
   "metadata": {},
   "source": [
    "W danym zbiorze ustaw dodanie jednostki nastąpiło 5958 razy."
   ]
  },
  {
   "cell_type": "markdown",
   "metadata": {},
   "source": [
    "Na potrzeby kolejnych zadań zdefiniowane zostało nowe wyrażenie dopasowujące od razu tylko dodania jednostek."
   ]
  },
  {
   "cell_type": "code",
   "execution_count": 36,
   "metadata": {},
   "outputs": [
    {
     "data": {
      "text/plain": [
       "'(?<=dodaje się\\\\s)(tytuł|tytuły|dział|działy|rozdział|rozdziały|oddział|oddziały|art|artykuł|artykuły|ust|ustęp|ustępy|pkt|punkt|punkty|lit|literę|litery|tiret)'"
      ]
     },
     "execution_count": 36,
     "metadata": {},
     "output_type": "execute_result"
    }
   ],
   "source": [
    "additions_pattern = '(?<=dodaje się\\s)({})'.format('|'.join(units))\n",
    "additions_pattern"
   ]
  },
  {
   "cell_type": "markdown",
   "metadata": {},
   "source": [
    "Usuwanie jednostek z aktów prawnych było wykonywane przy użyciu wyrażenia \"skreśla się\", jednak z czasem zostało zastąpione przez \"uchyla się\", dlatego poniżej wyszukiwane będą wyrażenia pasujące do obydwu tych form."
   ]
  },
  {
   "cell_type": "code",
   "execution_count": 37,
   "metadata": {},
   "outputs": [],
   "source": [
    "removals_pattern1 = '\\w+(?=\\sskreśla się)'\n",
    "removals_pattern2 = '\\w+(?=\\suchyla się)'"
   ]
  },
  {
   "cell_type": "code",
   "execution_count": 38,
   "metadata": {},
   "outputs": [],
   "source": [
    "words = find_matches(all_files, removals_pattern1) + find_matches(all_files, removals_pattern2)"
   ]
  },
  {
   "cell_type": "code",
   "execution_count": 39,
   "metadata": {},
   "outputs": [
    {
     "data": {
      "text/plain": [
       "{'1',\n",
       " '10',\n",
       " '100',\n",
       " '102',\n",
       " '103a',\n",
       " '106a',\n",
       " '108',\n",
       " '109',\n",
       " '11',\n",
       " '110',\n",
       " '11020',\n",
       " '111',\n",
       " '113',\n",
       " '119',\n",
       " '11e',\n",
       " '12',\n",
       " '121',\n",
       " '122',\n",
       " '123',\n",
       " '124',\n",
       " '126',\n",
       " '128',\n",
       " '129',\n",
       " '13',\n",
       " '131',\n",
       " '132',\n",
       " '132a',\n",
       " '137',\n",
       " '138',\n",
       " '139',\n",
       " '14',\n",
       " '140',\n",
       " '141',\n",
       " '142',\n",
       " '145',\n",
       " '146',\n",
       " '14a',\n",
       " '15',\n",
       " '155',\n",
       " '159',\n",
       " '16',\n",
       " '161',\n",
       " '162',\n",
       " '166',\n",
       " '168',\n",
       " '168a',\n",
       " '17',\n",
       " '170',\n",
       " '174',\n",
       " '175',\n",
       " '18',\n",
       " '184',\n",
       " '188',\n",
       " '18b',\n",
       " '19',\n",
       " '190',\n",
       " '191',\n",
       " '193',\n",
       " '1a',\n",
       " '1b',\n",
       " '2',\n",
       " '20',\n",
       " '200',\n",
       " '202',\n",
       " '207',\n",
       " '20a',\n",
       " '20b',\n",
       " '21',\n",
       " '212',\n",
       " '214',\n",
       " '215',\n",
       " '22',\n",
       " '221',\n",
       " '222',\n",
       " '223',\n",
       " '223e',\n",
       " '229',\n",
       " '23',\n",
       " '232',\n",
       " '234',\n",
       " '236',\n",
       " '237',\n",
       " '238',\n",
       " '239',\n",
       " '24',\n",
       " '24114',\n",
       " '24a',\n",
       " '24f',\n",
       " '25',\n",
       " '26',\n",
       " '27',\n",
       " '28',\n",
       " '28a',\n",
       " '29',\n",
       " '292',\n",
       " '293',\n",
       " '297',\n",
       " '2a',\n",
       " '3',\n",
       " '30',\n",
       " '303',\n",
       " '31',\n",
       " '32',\n",
       " '33',\n",
       " '332',\n",
       " '34',\n",
       " '35',\n",
       " '35d',\n",
       " '36',\n",
       " '362',\n",
       " '37',\n",
       " '37a',\n",
       " '37c',\n",
       " '37h',\n",
       " '37k',\n",
       " '38',\n",
       " '38d',\n",
       " '39',\n",
       " '397',\n",
       " '3a',\n",
       " '4',\n",
       " '40',\n",
       " '41',\n",
       " '41b',\n",
       " '42',\n",
       " '43',\n",
       " '432',\n",
       " '433',\n",
       " '43a',\n",
       " '43f',\n",
       " '44',\n",
       " '45',\n",
       " '46',\n",
       " '47',\n",
       " '48',\n",
       " '480',\n",
       " '483',\n",
       " '487',\n",
       " '49',\n",
       " '4a',\n",
       " '4p',\n",
       " '5',\n",
       " '50',\n",
       " '51',\n",
       " '52',\n",
       " '53',\n",
       " '54',\n",
       " '55',\n",
       " '55f',\n",
       " '56',\n",
       " '57',\n",
       " '579',\n",
       " '58',\n",
       " '59',\n",
       " '5a',\n",
       " '5b',\n",
       " '6',\n",
       " '60',\n",
       " '60a',\n",
       " '61',\n",
       " '611',\n",
       " '62',\n",
       " '63',\n",
       " '64',\n",
       " '65',\n",
       " '651',\n",
       " '66',\n",
       " '67',\n",
       " '673',\n",
       " '68',\n",
       " '69',\n",
       " '69b',\n",
       " '6a',\n",
       " '7',\n",
       " '70b',\n",
       " '70c',\n",
       " '70h',\n",
       " '71',\n",
       " '72',\n",
       " '73',\n",
       " '73a',\n",
       " '74',\n",
       " '75',\n",
       " '76',\n",
       " '77',\n",
       " '78',\n",
       " '79',\n",
       " '7a',\n",
       " '7c',\n",
       " '8',\n",
       " '80',\n",
       " '81',\n",
       " '82',\n",
       " '83',\n",
       " '84',\n",
       " '86b',\n",
       " '88',\n",
       " '89',\n",
       " '8a',\n",
       " '9',\n",
       " '91',\n",
       " '92',\n",
       " '93',\n",
       " '97',\n",
       " '98',\n",
       " '99',\n",
       " '9a',\n",
       " '9b',\n",
       " 'a',\n",
       " 'aplikanta',\n",
       " 'arbitra',\n",
       " 'aresztowaniu',\n",
       " 'bezpodstawnie',\n",
       " 'cywilnym',\n",
       " 'część',\n",
       " 'drugie',\n",
       " 'drugiego',\n",
       " 'drugim',\n",
       " 'gdy',\n",
       " 'granicą',\n",
       " 'hodowli',\n",
       " 'i',\n",
       " 'iii',\n",
       " 'iv',\n",
       " 'jeżeli',\n",
       " 'końcu',\n",
       " 'kropkę',\n",
       " 'kto',\n",
       " 'l',\n",
       " 'lub',\n",
       " 'nadal',\n",
       " 'nie',\n",
       " 'odmianę',\n",
       " 'oraz',\n",
       " 'orzekającego',\n",
       " 'ostatnie',\n",
       " 'pierwszym',\n",
       " 'postanowienie',\n",
       " 'próby',\n",
       " 'punktu',\n",
       " 'radcowskiego',\n",
       " 'skazany',\n",
       " 'spółdzielni',\n",
       " 'szóstym',\n",
       " 'służbowych',\n",
       " 'towarów',\n",
       " 'treść',\n",
       " 'trzynastym',\n",
       " 'tytule',\n",
       " 'uporczywie',\n",
       " 'ustawy',\n",
       " 'vii',\n",
       " 'wierzyciel',\n",
       " 'wierzytelności',\n",
       " 'wstępnym',\n",
       " 'wybierania',\n",
       " 'wyrazy',\n",
       " 'x',\n",
       " 'xi',\n",
       " 'zawodowego',\n",
       " 'załączniku',\n",
       " 'zdania',\n",
       " 'zdaniu',\n",
       " 'zmarłego'}"
      ]
     },
     "execution_count": 39,
     "metadata": {},
     "output_type": "execute_result"
    }
   ],
   "source": [
    "set(words)"
   ]
  },
  {
   "cell_type": "markdown",
   "metadata": {},
   "source": [
    "W tym przypadku, aby odnaleźć wyłącznie usunięcia jednostek, został stworzony zbiór słów, które mają zostać odrzucone. Pozostawione w zbiorze zostały tylko liczby arabskie i rzymskie oraz liczebniki"
   ]
  },
  {
   "cell_type": "code",
   "execution_count": 40,
   "metadata": {},
   "outputs": [],
   "source": [
    "excluded_words_removals = ['aplikanta', 'arbitra', 'aresztowaniu', 'bezpodstawnie', 'cywilnym', 'część', 'gdy', 'granicą', 'hodowli', 'jeżeli', 'końcu', 'kropkę', 'kto', 'lub', 'nadal', 'nie', 'odmianę', 'oraz', 'orzekającego', 'postanowienie', 'próby', 'punktu', 'radcowskiego', 'skazany', 'spółdzielni', 'służbowych', 'towarów', 'treść', 'tytule', 'uporczywie', 'ustawy', 'wierzyciel', 'wierzytelności', 'wstępnym', 'wybierania', 'wyrazy', 'zawodowego', 'załączniku', 'zdania', 'zdaniu', 'zmarłego']"
   ]
  },
  {
   "cell_type": "code",
   "execution_count": 41,
   "metadata": {},
   "outputs": [
    {
     "data": {
      "text/plain": [
       "1607"
      ]
     },
     "execution_count": 41,
     "metadata": {},
     "output_type": "execute_result"
    }
   ],
   "source": [
    "words = [word for word in words if word not in excluded_words_removals]\n",
    "len(words)"
   ]
  },
  {
   "cell_type": "markdown",
   "metadata": {},
   "source": [
    "W danym zbiorze ustaw usunięcie jednostki nastąpiło 1607 razy."
   ]
  },
  {
   "cell_type": "code",
   "execution_count": 42,
   "metadata": {},
   "outputs": [],
   "source": [
    "modifications_pattern = '\\w+(?=\\sotrzymuje brzmienie)'"
   ]
  },
  {
   "cell_type": "code",
   "execution_count": 43,
   "metadata": {},
   "outputs": [
    {
     "data": {
      "text/plain": [
       "{'1',\n",
       " '10',\n",
       " '100',\n",
       " '1008',\n",
       " '100af',\n",
       " '100e',\n",
       " '100i',\n",
       " '101',\n",
       " '102',\n",
       " '103',\n",
       " '1033',\n",
       " '103a',\n",
       " '104',\n",
       " '105',\n",
       " '106',\n",
       " '106e',\n",
       " '106f',\n",
       " '106h',\n",
       " '106k',\n",
       " '107',\n",
       " '108',\n",
       " '109',\n",
       " '10a',\n",
       " '10b',\n",
       " '10c',\n",
       " '10e',\n",
       " '10h',\n",
       " '10i',\n",
       " '11',\n",
       " '110',\n",
       " '11021',\n",
       " '111',\n",
       " '111g',\n",
       " '111k',\n",
       " '111n',\n",
       " '112',\n",
       " '113',\n",
       " '114',\n",
       " '114d',\n",
       " '115',\n",
       " '1150',\n",
       " '1152',\n",
       " '116',\n",
       " '117',\n",
       " '117a',\n",
       " '118',\n",
       " '118c',\n",
       " '119',\n",
       " '11a',\n",
       " '11b',\n",
       " '11d',\n",
       " '12',\n",
       " '120',\n",
       " '121',\n",
       " '121a',\n",
       " '122',\n",
       " '122g',\n",
       " '123',\n",
       " '124',\n",
       " '124g',\n",
       " '124j',\n",
       " '125',\n",
       " '126',\n",
       " '126a',\n",
       " '127',\n",
       " '128',\n",
       " '129',\n",
       " '12a',\n",
       " '12b',\n",
       " '13',\n",
       " '130',\n",
       " '131',\n",
       " '132',\n",
       " '132d',\n",
       " '133',\n",
       " '135',\n",
       " '136',\n",
       " '137',\n",
       " '138',\n",
       " '138a',\n",
       " '139',\n",
       " '13a',\n",
       " '13b',\n",
       " '14',\n",
       " '140',\n",
       " '141',\n",
       " '142',\n",
       " '143',\n",
       " '144',\n",
       " '144a',\n",
       " '145',\n",
       " '146',\n",
       " '147',\n",
       " '147a',\n",
       " '148',\n",
       " '149',\n",
       " '14a',\n",
       " '14b',\n",
       " '15',\n",
       " '150',\n",
       " '151',\n",
       " '152',\n",
       " '153',\n",
       " '154',\n",
       " '155',\n",
       " '156',\n",
       " '157',\n",
       " '158',\n",
       " '159',\n",
       " '15a',\n",
       " '15b',\n",
       " '15c',\n",
       " '16',\n",
       " '164',\n",
       " '165',\n",
       " '166b',\n",
       " '167',\n",
       " '168',\n",
       " '168b',\n",
       " '169',\n",
       " '16a',\n",
       " '17',\n",
       " '170',\n",
       " '171',\n",
       " '172',\n",
       " '173',\n",
       " '174',\n",
       " '176',\n",
       " '177',\n",
       " '178',\n",
       " '179',\n",
       " '179a',\n",
       " '17a',\n",
       " '18',\n",
       " '180',\n",
       " '182',\n",
       " '183',\n",
       " '184',\n",
       " '186',\n",
       " '1866',\n",
       " '187',\n",
       " '188',\n",
       " '189',\n",
       " '1891',\n",
       " '18a',\n",
       " '18l',\n",
       " '18o',\n",
       " '19',\n",
       " '190',\n",
       " '191',\n",
       " '192',\n",
       " '193',\n",
       " '196',\n",
       " '199',\n",
       " '19a',\n",
       " '19c',\n",
       " '1a',\n",
       " '1b',\n",
       " '1c',\n",
       " '1d',\n",
       " '1g',\n",
       " '1m',\n",
       " '2',\n",
       " '20',\n",
       " '200',\n",
       " '201',\n",
       " '202',\n",
       " '204',\n",
       " '205',\n",
       " '206',\n",
       " '208',\n",
       " '209',\n",
       " '20b',\n",
       " '20c',\n",
       " '21',\n",
       " '210',\n",
       " '211',\n",
       " '213',\n",
       " '214',\n",
       " '217',\n",
       " '218a',\n",
       " '218b',\n",
       " '21a',\n",
       " '21b',\n",
       " '22',\n",
       " '220',\n",
       " '222',\n",
       " '225',\n",
       " '226',\n",
       " '229',\n",
       " '22a',\n",
       " '22c',\n",
       " '23',\n",
       " '231',\n",
       " '232',\n",
       " '234',\n",
       " '236a',\n",
       " '237',\n",
       " '23a',\n",
       " '23b',\n",
       " '24',\n",
       " '240',\n",
       " '242',\n",
       " '245',\n",
       " '246',\n",
       " '247',\n",
       " '248',\n",
       " '24a',\n",
       " '24d',\n",
       " '25',\n",
       " '251',\n",
       " '254',\n",
       " '255',\n",
       " '258',\n",
       " '259',\n",
       " '25a',\n",
       " '25w',\n",
       " '26',\n",
       " '261',\n",
       " '262',\n",
       " '263',\n",
       " '265',\n",
       " '268',\n",
       " '269',\n",
       " '26a',\n",
       " '26b',\n",
       " '26e',\n",
       " '27',\n",
       " '274',\n",
       " '277',\n",
       " '27b',\n",
       " '28',\n",
       " '280',\n",
       " '281',\n",
       " '282',\n",
       " '283',\n",
       " '288',\n",
       " '289',\n",
       " '29',\n",
       " '297',\n",
       " '29f',\n",
       " '2a',\n",
       " '2b',\n",
       " '2c',\n",
       " '2e',\n",
       " '2h',\n",
       " '3',\n",
       " '30',\n",
       " '300',\n",
       " '303',\n",
       " '304',\n",
       " '308',\n",
       " '309',\n",
       " '30a',\n",
       " '30b',\n",
       " '30d',\n",
       " '30g',\n",
       " '31',\n",
       " '310',\n",
       " '311',\n",
       " '312',\n",
       " '31b',\n",
       " '32',\n",
       " '321',\n",
       " '325h',\n",
       " '328',\n",
       " '32b',\n",
       " '33',\n",
       " '331',\n",
       " '332',\n",
       " '335',\n",
       " '336',\n",
       " '338',\n",
       " '339',\n",
       " '33a',\n",
       " '33b',\n",
       " '33e',\n",
       " '33g',\n",
       " '33p',\n",
       " '34',\n",
       " '342',\n",
       " '343',\n",
       " '344',\n",
       " '35',\n",
       " '354',\n",
       " '35a',\n",
       " '35d',\n",
       " '36',\n",
       " '363',\n",
       " '368',\n",
       " '36b',\n",
       " '37',\n",
       " '377a',\n",
       " '378',\n",
       " '37at',\n",
       " '37b',\n",
       " '37c',\n",
       " '37d',\n",
       " '37e',\n",
       " '37i',\n",
       " '37j',\n",
       " '37m',\n",
       " '37o',\n",
       " '37ł',\n",
       " '38',\n",
       " '382',\n",
       " '383',\n",
       " '384',\n",
       " '385',\n",
       " '38a',\n",
       " '39',\n",
       " '392',\n",
       " '393',\n",
       " '397',\n",
       " '39a',\n",
       " '3a',\n",
       " '3b',\n",
       " '3c',\n",
       " '3d',\n",
       " '4',\n",
       " '40',\n",
       " '400',\n",
       " '400p',\n",
       " '405',\n",
       " '408',\n",
       " '40a',\n",
       " '40h',\n",
       " '41',\n",
       " '410b',\n",
       " '415',\n",
       " '419',\n",
       " '41a',\n",
       " '42',\n",
       " '4202',\n",
       " '422',\n",
       " '429',\n",
       " '42a',\n",
       " '43',\n",
       " '439',\n",
       " '43a',\n",
       " '44',\n",
       " '444',\n",
       " '44c',\n",
       " '45',\n",
       " '451',\n",
       " '457',\n",
       " '45a',\n",
       " '45c',\n",
       " '46',\n",
       " '463',\n",
       " '464',\n",
       " '465',\n",
       " '467',\n",
       " '469',\n",
       " '47',\n",
       " '4778',\n",
       " '47a',\n",
       " '47b',\n",
       " '47g',\n",
       " '48',\n",
       " '485',\n",
       " '486',\n",
       " '488',\n",
       " '48a',\n",
       " '48b',\n",
       " '49',\n",
       " '498',\n",
       " '49a',\n",
       " '4a',\n",
       " '4b',\n",
       " '4d',\n",
       " '4e',\n",
       " '4g',\n",
       " '4k',\n",
       " '4p',\n",
       " '5',\n",
       " '50',\n",
       " '504',\n",
       " '505',\n",
       " '507',\n",
       " '509',\n",
       " '51',\n",
       " '518',\n",
       " '52',\n",
       " '521',\n",
       " '523',\n",
       " '525',\n",
       " '53',\n",
       " '530',\n",
       " '533',\n",
       " '535',\n",
       " '54',\n",
       " '549',\n",
       " '55',\n",
       " '56',\n",
       " '564',\n",
       " '57',\n",
       " '574',\n",
       " '579',\n",
       " '57a',\n",
       " '58',\n",
       " '582',\n",
       " '59',\n",
       " '594',\n",
       " '596',\n",
       " '597',\n",
       " '599',\n",
       " '59a',\n",
       " '5a',\n",
       " '5b',\n",
       " '5c',\n",
       " '5d',\n",
       " '5e',\n",
       " '6',\n",
       " '60',\n",
       " '602',\n",
       " '608',\n",
       " '61',\n",
       " '62',\n",
       " '63',\n",
       " '63a',\n",
       " '64',\n",
       " '646',\n",
       " '65',\n",
       " '659',\n",
       " '65a',\n",
       " '66',\n",
       " '66a',\n",
       " '67',\n",
       " '671',\n",
       " '672',\n",
       " '677',\n",
       " '67b',\n",
       " '68',\n",
       " '680',\n",
       " '686',\n",
       " '69',\n",
       " '6a',\n",
       " '6b',\n",
       " '6c',\n",
       " '7',\n",
       " '70',\n",
       " '70a',\n",
       " '70b',\n",
       " '71',\n",
       " '72',\n",
       " '73',\n",
       " '74',\n",
       " '75',\n",
       " '76',\n",
       " '77',\n",
       " '773',\n",
       " '78',\n",
       " '79',\n",
       " '7a',\n",
       " '7b',\n",
       " '7d',\n",
       " '7e',\n",
       " '8',\n",
       " '80',\n",
       " '80bd',\n",
       " '81',\n",
       " '811',\n",
       " '82',\n",
       " '83',\n",
       " '83a',\n",
       " '84',\n",
       " '85',\n",
       " '86',\n",
       " '867',\n",
       " '86a',\n",
       " '86b',\n",
       " '86e',\n",
       " '86f',\n",
       " '87',\n",
       " '87a',\n",
       " '87c',\n",
       " '88',\n",
       " '88a',\n",
       " '88b',\n",
       " '88d',\n",
       " '88e',\n",
       " '88g',\n",
       " '88j',\n",
       " '89',\n",
       " '89a',\n",
       " '8a',\n",
       " '8c',\n",
       " '8d',\n",
       " '8l',\n",
       " '9',\n",
       " '90',\n",
       " '91',\n",
       " '91a',\n",
       " '92',\n",
       " '93',\n",
       " '94',\n",
       " '95',\n",
       " '95b',\n",
       " '95i',\n",
       " '95l',\n",
       " '96',\n",
       " '968',\n",
       " '97',\n",
       " '98',\n",
       " '99',\n",
       " '993',\n",
       " '998',\n",
       " '9a',\n",
       " '9b',\n",
       " '9d',\n",
       " '9e',\n",
       " 'a',\n",
       " 'b',\n",
       " 'c',\n",
       " 'czwarte',\n",
       " 'czwartym',\n",
       " 'd',\n",
       " 'drugie',\n",
       " 'dziesiąty',\n",
       " 'dziewiątym',\n",
       " 'e',\n",
       " 'f',\n",
       " 'g',\n",
       " 'h',\n",
       " 'i',\n",
       " 'ii',\n",
       " 'iia',\n",
       " 'iii',\n",
       " 'iv',\n",
       " 'iva',\n",
       " 'ix',\n",
       " 'j',\n",
       " 'k',\n",
       " 'końcowe',\n",
       " 'l',\n",
       " 'm',\n",
       " 'opis',\n",
       " 'ostatnie',\n",
       " 'pierwsze',\n",
       " 'pierwszej',\n",
       " 'podatkowa',\n",
       " 'preambuła',\n",
       " 's',\n",
       " 'społecznych',\n",
       " 'szósty',\n",
       " 'tabeli',\n",
       " 'tiret',\n",
       " 'trzecia',\n",
       " 'trzecie',\n",
       " 'trzeciej',\n",
       " 'trzynastym',\n",
       " 'tytuł',\n",
       " 'ustawy',\n",
       " 'v',\n",
       " 'vi',\n",
       " 'viii',\n",
       " 'wodnej',\n",
       " 'wspólna',\n",
       " 'wstępna',\n",
       " 'wstępne',\n",
       " 'wyliczenia',\n",
       " 'x',\n",
       " 'xi',\n",
       " 'xxx',\n",
       " 'załącznik',\n",
       " 'załącznika',\n",
       " 'zdanie',\n",
       " 'ósmego',\n",
       " 'ł',\n",
       " 'ł2',\n",
       " 'średnikiem'}"
      ]
     },
     "execution_count": 43,
     "metadata": {},
     "output_type": "execute_result"
    }
   ],
   "source": [
    "words = find_matches(all_files, modifications_pattern)\n",
    "set(words)"
   ]
  },
  {
   "cell_type": "markdown",
   "metadata": {},
   "source": [
    "Analogicznie do poprzedniego zadania, tutaj również zdefiniowany został zbiór słów odrzuconych."
   ]
  },
  {
   "cell_type": "code",
   "execution_count": 44,
   "metadata": {},
   "outputs": [],
   "source": [
    "excluded_words_modifications = ['opis', 'podatkowa', 'preambuła', 'społecznych', 'tabeli', 'ustawy', 'wyliczenia', 'załącznik', 'załącznika', 'zdanie', 'średnikiem']"
   ]
  },
  {
   "cell_type": "code",
   "execution_count": 45,
   "metadata": {},
   "outputs": [
    {
     "data": {
      "text/plain": [
       "9356"
      ]
     },
     "execution_count": 45,
     "metadata": {},
     "output_type": "execute_result"
    }
   ],
   "source": [
    "words = [word for word in words if word not in excluded_words_modifications]\n",
    "len(words)"
   ]
  },
  {
   "cell_type": "markdown",
   "metadata": {},
   "source": [
    "Zmiana brzmienia jednostki w ustawach wystąpiła 9356 razy."
   ]
  },
  {
   "cell_type": "markdown",
   "metadata": {},
   "source": [
    "#### Zadanie 3"
   ]
  },
  {
   "cell_type": "markdown",
   "metadata": {},
   "source": [
    "Nazwa pliku nie zawsze zawiera rzeczywisty rok wydania ustawy, dlatego rok wyszukiwany będzie na podstawie pierwszego wystąpienia czterocyfrowej liczby po słowach \"ustawa z dnia\" lub \"u s t a w a z dnia\", gdyż niemalże wszystkie dokumenty zawierają to wyrażenie."
   ]
  },
  {
   "cell_type": "code",
   "execution_count": 46,
   "metadata": {},
   "outputs": [],
   "source": [
    "years = [regex.findall('(?<=ustawa z dnia ).*?[0-9]{4}', file) for file in all_files]\n",
    "years = [year if year else regex.findall('(?<=u s t a w a z dnia).*?[0-9]{4}', all_files[ind]) for ind, year in enumerate(years)]"
   ]
  },
  {
   "cell_type": "code",
   "execution_count": 47,
   "metadata": {},
   "outputs": [],
   "source": [
    "years = [(ind, year[0][-4:]) for ind, year in enumerate(years) if len(year)>0]"
   ]
  },
  {
   "cell_type": "code",
   "execution_count": 48,
   "metadata": {},
   "outputs": [
    {
     "data": {
      "text/plain": [
       "1171"
      ]
     },
     "execution_count": 48,
     "metadata": {},
     "output_type": "execute_result"
    }
   ],
   "source": [
    "len(years)"
   ]
  },
  {
   "cell_type": "markdown",
   "metadata": {},
   "source": [
    "Z całego zbioru 1180 ustaw tylko 9 nie zostało dopasowanych do jednego z dwóch wyrażeń. Nie powinno to jednak znacząco wpłynąć na wyniki procentowe udziałów poszczególnych zmian w ustawach."
   ]
  },
  {
   "cell_type": "code",
   "execution_count": 49,
   "metadata": {},
   "outputs": [],
   "source": [
    "files_by_year = {}\n",
    "for ind, year in years:\n",
    "    if year in files_by_year:\n",
    "        files_by_year[year].append(all_files[ind])\n",
    "    else:\n",
    "        files_by_year[year] = [all_files[ind]]"
   ]
  },
  {
   "cell_type": "code",
   "execution_count": 50,
   "metadata": {},
   "outputs": [],
   "source": [
    "statistics = {}\n",
    "for year, files in files_by_year.items():\n",
    "    additions = len(find_matches(files, additions_pattern))\n",
    "    removed = find_matches(files, removals_pattern1) + find_matches(files, removals_pattern2)\n",
    "    removals = len([word for word in removed if word not in excluded_words_removals])\n",
    "    modified = find_matches(files, modifications_pattern)\n",
    "    modifications = len([word for word in modified if word not in excluded_words_modifications])\n",
    "    statistics[year] = {'Additions': additions, 'Removals': removals, 'Modifications': modifications}"
   ]
  },
  {
   "cell_type": "code",
   "execution_count": 51,
   "metadata": {},
   "outputs": [
    {
     "data": {
      "text/plain": [
       "{'1993': {'Additions': 35, 'Removals': 15, 'Modifications': 63},\n",
       " '1994': {'Additions': 83, 'Removals': 23, 'Modifications': 96},\n",
       " '2000': {'Additions': 890, 'Removals': 360, 'Modifications': 1431},\n",
       " '1998': {'Additions': 484, 'Removals': 229, 'Modifications': 911},\n",
       " '1999': {'Additions': 203, 'Removals': 63, 'Modifications': 247},\n",
       " '1995': {'Additions': 258, 'Removals': 80, 'Modifications': 344},\n",
       " '2001': {'Additions': 1171, 'Removals': 313, 'Modifications': 1442},\n",
       " '1997': {'Additions': 420, 'Removals': 143, 'Modifications': 721},\n",
       " '1996': {'Additions': 263, 'Removals': 127, 'Modifications': 487},\n",
       " '2011': {'Additions': 47, 'Removals': 9, 'Modifications': 93},\n",
       " '2006': {'Additions': 65, 'Removals': 12, 'Modifications': 134},\n",
       " '2012': {'Additions': 47, 'Removals': 12, 'Modifications': 47},\n",
       " '2016': {'Additions': 56, 'Removals': 4, 'Modifications': 71},\n",
       " '2008': {'Additions': 38, 'Removals': 11, 'Modifications': 90},\n",
       " '2002': {'Additions': 13, 'Removals': 5, 'Modifications': 29},\n",
       " '2013': {'Additions': 207, 'Removals': 7, 'Modifications': 233},\n",
       " '2007': {'Additions': 315, 'Removals': 19, 'Modifications': 501},\n",
       " '2003': {'Additions': 232, 'Removals': 60, 'Modifications': 617},\n",
       " '2017': {'Additions': 252, 'Removals': 33, 'Modifications': 380},\n",
       " '2014': {'Additions': 114, 'Removals': 14, 'Modifications': 191},\n",
       " '2009': {'Additions': 96, 'Removals': 7, 'Modifications': 188},\n",
       " '2018': {'Additions': 194, 'Removals': 23, 'Modifications': 245},\n",
       " '2015': {'Additions': 124, 'Removals': 9, 'Modifications': 203},\n",
       " '1974': {'Additions': 15, 'Removals': 4, 'Modifications': 40},\n",
       " '2004': {'Additions': 261, 'Removals': 16, 'Modifications': 401},\n",
       " '2010': {'Additions': 64, 'Removals': 8, 'Modifications': 131},\n",
       " '1991': {'Additions': 10, 'Removals': 0, 'Modifications': 18}}"
      ]
     },
     "execution_count": 51,
     "metadata": {},
     "output_type": "execute_result"
    }
   ],
   "source": [
    "statistics"
   ]
  },
  {
   "cell_type": "code",
   "execution_count": 52,
   "metadata": {},
   "outputs": [],
   "source": [
    "statistics_percentage = {}\n",
    "for year, stats in statistics.items():\n",
    "    changes_number = stats['Additions'] + stats['Removals'] + stats['Modifications']\n",
    "    statistics_percentage[year] = {'Additions' : round(stats['Additions']/changes_number*100, 2),\n",
    "                                  'Removals': round(stats['Removals']/changes_number*100, 2),\n",
    "                                  'Modifications': round(stats['Modifications']/changes_number*100, 2)}"
   ]
  },
  {
   "cell_type": "code",
   "execution_count": 53,
   "metadata": {},
   "outputs": [],
   "source": [
    "years = sorted(statistics_percentage)"
   ]
  },
  {
   "cell_type": "code",
   "execution_count": 54,
   "metadata": {},
   "outputs": [],
   "source": [
    "df = pd.DataFrame({'Additions': [statistics_percentage[year]['Additions'] for year in years],\n",
    "                   'Removals': [statistics_percentage[year]['Removals'] for year in years],\n",
    "                   'Modifications': [statistics_percentage[year]['Modifications'] for year in years]})"
   ]
  },
  {
   "cell_type": "code",
   "execution_count": 55,
   "metadata": {},
   "outputs": [
    {
     "data": {
      "image/png": "[encoded data removed]",
      "text/plain": [
       "<Figure size 1440x720 with 1 Axes>"
      ]
     },
     "metadata": {
      "needs_background": "light"
     },
     "output_type": "display_data"
    }
   ],
   "source": [
    "plt.rcParams[\"figure.figsize\"] = [20, 10]\n",
    "ax = df.plot(kind='bar', stacked=True)\n",
    "ax.set_axisbelow(True)\n",
    "ax.grid(axis='y')\n",
    "plt.xticks(range(len(years)), years)\n",
    "plt.yticks(np.arange(0,101,10))\n",
    "plt.xlabel('Year')\n",
    "plt.ylabel('Amendments percentage')\n",
    "plt.title('Percentage of amendments over the years')\n",
    "plt.show()"
   ]
  },
  {
   "cell_type": "markdown",
   "metadata": {},
   "source": [
    "#### Zadanie 4"
   ]
  },
  {
   "cell_type": "code",
   "execution_count": 56,
   "metadata": {},
   "outputs": [],
   "source": [
    "word_forms = ['ustawa', 'ustawą', 'ustawę', 'ustawie', 'ustawo', 'ustawy', 'ustawach', 'ustawami', 'ustawom', 'ustaw']"
   ]
  },
  {
   "cell_type": "code",
   "execution_count": 57,
   "metadata": {},
   "outputs": [
    {
     "data": {
      "text/plain": [
       "'(ustawa|ustawą|ustawę|ustawie|ustawo|ustawy|ustawach|ustawami|ustawom|ustaw)[^a-zA-Ząę]'"
      ]
     },
     "execution_count": 57,
     "metadata": {},
     "output_type": "execute_result"
    }
   ],
   "source": [
    "pattern = '({})[^a-zA-Ząę]'.format('|'.join(word_forms))\n",
    "pattern"
   ]
  },
  {
   "cell_type": "code",
   "execution_count": 58,
   "metadata": {},
   "outputs": [
    {
     "data": {
      "text/plain": [
       "25102"
      ]
     },
     "execution_count": 58,
     "metadata": {},
     "output_type": "execute_result"
    }
   ],
   "source": [
    "all_occurences = find_matches(all_files, pattern)\n",
    "len(all_occurences)"
   ]
  },
  {
   "cell_type": "markdown",
   "metadata": {},
   "source": [
    "Słowo \"ustawa\" w jakiejkolwiek z form fleksyjnych pojawia się w zbiorze 25102 razy."
   ]
  },
  {
   "cell_type": "markdown",
   "metadata": {},
   "source": [
    "#### Zadanie 5"
   ]
  },
  {
   "cell_type": "code",
   "execution_count": 59,
   "metadata": {},
   "outputs": [
    {
     "data": {
      "text/plain": [
       "'(ustawa|ustawą|ustawę|ustawie|ustawo|ustawy|ustawach|ustawami|ustawom|ustaw)[^a-zA-Ząę](?=z dnia)'"
      ]
     },
     "execution_count": 59,
     "metadata": {},
     "output_type": "execute_result"
    }
   ],
   "source": [
    "pattern = '({})[^a-zA-Ząę](?=z dnia)'.format('|'.join(word_forms))\n",
    "pattern"
   ]
  },
  {
   "cell_type": "code",
   "execution_count": 60,
   "metadata": {},
   "outputs": [
    {
     "data": {
      "text/plain": [
       "8639"
      ]
     },
     "execution_count": 60,
     "metadata": {},
     "output_type": "execute_result"
    }
   ],
   "source": [
    "followed_occurences = find_matches(all_files, pattern)\n",
    "len(followed_occurences)"
   ]
  },
  {
   "cell_type": "markdown",
   "metadata": {},
   "source": [
    "Słowo \"ustawa\" w różnych formach poprzedza wyrażenie \"z dnia\" 8639 razy."
   ]
  },
  {
   "cell_type": "markdown",
   "metadata": {},
   "source": [
    "#### Zadanie 6"
   ]
  },
  {
   "cell_type": "code",
   "execution_count": 61,
   "metadata": {},
   "outputs": [
    {
     "data": {
      "text/plain": [
       "'(ustawa|ustawą|ustawę|ustawie|ustawo|ustawy|ustawach|ustawami|ustawom|ustaw)[^a-zA-Ząę](?!z dnia)'"
      ]
     },
     "execution_count": 61,
     "metadata": {},
     "output_type": "execute_result"
    }
   ],
   "source": [
    "pattern = '({})[^a-zA-Ząę](?!z dnia)'.format('|'.join(word_forms))\n",
    "pattern"
   ]
  },
  {
   "cell_type": "code",
   "execution_count": 62,
   "metadata": {},
   "outputs": [
    {
     "data": {
      "text/plain": [
       "16463"
      ]
     },
     "execution_count": 62,
     "metadata": {},
     "output_type": "execute_result"
    }
   ],
   "source": [
    "not_followed_occurences = find_matches(all_files, pattern)\n",
    "len(not_followed_occurences)"
   ]
  },
  {
   "cell_type": "markdown",
   "metadata": {},
   "source": [
    "Słowo \"ustawa\" w różnych formach nie poprzedza wyrażenia \"z dnia\" 16463 razy."
   ]
  },
  {
   "cell_type": "markdown",
   "metadata": {},
   "source": [
    "8639 + 16463 = 25102   => wyniki zadań 4,5 i 6 są zgodne."
   ]
  },
  {
   "cell_type": "markdown",
   "metadata": {},
   "source": [
    "#### Zadanie 7"
   ]
  },
  {
   "cell_type": "code",
   "execution_count": 63,
   "metadata": {},
   "outputs": [
    {
     "data": {
      "text/plain": [
       "'(ustawa|ustawą|ustawę|ustawie|ustawo|ustawy|ustawach|ustawami|ustawom|ustaw)[^a-zA-Ząę](?!o zmianie)'"
      ]
     },
     "execution_count": 63,
     "metadata": {},
     "output_type": "execute_result"
    }
   ],
   "source": [
    "pattern = '({})[^a-zA-Ząę](?!o zmianie)'.format('|'.join(word_forms))\n",
    "pattern"
   ]
  },
  {
   "cell_type": "code",
   "execution_count": 64,
   "metadata": {},
   "outputs": [
    {
     "data": {
      "text/plain": [
       "25068"
      ]
     },
     "execution_count": 64,
     "metadata": {},
     "output_type": "execute_result"
    }
   ],
   "source": [
    "not_followed_by_change = find_matches(all_files, pattern)\n",
    "len(not_followed_by_change)"
   ]
  },
  {
   "cell_type": "markdown",
   "metadata": {},
   "source": [
    "Słowo \"ustawa\" nie poprzedza wyrażenia \"o zmianie\" w 25068 z 25102 przypadków."
   ]
  },
  {
   "cell_type": "markdown",
   "metadata": {},
   "source": [
    "#### Zadanie 8"
   ]
  },
  {
   "cell_type": "code",
   "execution_count": 65,
   "metadata": {},
   "outputs": [
    {
     "data": {
      "image/png": "[encoded data removed]",
      "text/plain": [
       "<Figure size 720x432 with 1 Axes>"
      ]
     },
     "metadata": {
      "needs_background": "light"
     },
     "output_type": "display_data"
    }
   ],
   "source": [
    "data = [len(all_occurences), len(followed_occurences), len(not_followed_occurences), len(not_followed_by_change)]\n",
    "xticks = ['All occurences', 'Followed by \"z dnia\"', 'Not followed by \"z dnia\"', 'Not followed by \"o zmianie\"']\n",
    "plt.rcParams[\"figure.figsize\"] = [10, 6]\n",
    "plt.title('Occurences of the word USTAWA in different contexts')\n",
    "plt.bar([i for i in range(4)], data)\n",
    "for i in range(4):\n",
    "    plt.annotate(data[i], (i-0.16, data[i]-2000), color='white', size=15)\n",
    "plt.xticks(range(len(xticks)), xticks)\n",
    "plt.ylabel('Number of occurences')\n",
    "plt.show()"
   ]
  }
 ],
 "metadata": {
  "kernelspec": {
   "display_name": "Python 3",
   "language": "python",
   "name": "python3"
  },
  "language_info": {
   "codemirror_mode": {
    "name": "ipython",
    "version": 3
   },
   "file_extension": ".py",
   "mimetype": "text/x-python",
   "name": "python",
   "nbconvert_exporter": "python",
   "pygments_lexer": "ipython3",
   "version": "3.7.9"
  }
 },
 "nbformat": 4,
 "nbformat_minor": 4
}
