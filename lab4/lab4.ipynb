{
 "cells": [
  {
   "cell_type": "markdown",
   "metadata": {},
   "source": [
    "## NLP\n",
    "## Lab 4 - Multiword expressions identification and extraction"
   ]
  },
  {
   "cell_type": "code",
   "execution_count": 37,
   "metadata": {},
   "outputs": [],
   "source": [
    "from spacy.tokenizer import Tokenizer\n",
    "from spacy.lang.pl import Polish\n",
    "import os\n",
    "from collections import Counter\n",
    "import math\n",
    "import pandas as pd"
   ]
  },
  {
   "cell_type": "markdown",
   "metadata": {},
   "source": [
    "#### Zadanie 1.\n",
    "Inicjalizacja tokenizera i wczytanie ustaw"
   ]
  },
  {
   "cell_type": "code",
   "execution_count": 2,
   "metadata": {},
   "outputs": [],
   "source": [
    "nlp = Polish()\n",
    "tokenizer = Tokenizer(nlp.vocab)"
   ]
  },
  {
   "cell_type": "code",
   "execution_count": 3,
   "metadata": {},
   "outputs": [],
   "source": [
    "all_files = []\n",
    "path = './ustawy'\n",
    "for filename in os.listdir(path):\n",
    "    with open(os.path.join(path, filename), 'r', encoding='utf-8') as file:\n",
    "        all_files.append(\" \".join(file.read().lower().replace('\\n', ' ').split()))"
   ]
  },
  {
   "cell_type": "markdown",
   "metadata": {},
   "source": [
    "#### Zadanie 2.\n",
    "Przygotowana została uniwersala funkcja pozwalająca zliczyć wystąpienia n-gramów dla dowolnego n.\\\n",
    "Do dalszych zadań przydatna również będzie funkcja wyświetlająca podany zakres wpisów w słowniku oraz zliczone ilości wystąpień pojedynczych słów."
   ]
  },
  {
   "cell_type": "code",
   "execution_count": 4,
   "metadata": {},
   "outputs": [],
   "source": [
    "def get_n_grams_for_all_files(n):\n",
    "    ngrams_frequency_list = {}\n",
    "    for file in all_files:\n",
    "        tokens = tokenizer(file)\n",
    "        token_texts = [token.text for token in tokens]\n",
    "        ngrams = [\" \".join(token_texts[start_pos:start_pos+n]) for start_pos in range(len(tokens) - n + 1)]\n",
    "        ngrams_counter = Counter(ngrams)\n",
    "        for ngram, count in ngrams_counter.items():\n",
    "            if ngram in ngrams_frequency_list:\n",
    "                ngrams_frequency_list[ngram] += count\n",
    "            else:\n",
    "                ngrams_frequency_list[ngram] = count\n",
    "    return ngrams_frequency_list"
   ]
  },
  {
   "cell_type": "code",
   "execution_count": 5,
   "metadata": {},
   "outputs": [],
   "source": [
    "def get_entries_range(dictionary, start, end):\n",
    "    return {k: dictionary[k] for k in list(dictionary)[start:end]}"
   ]
  },
  {
   "cell_type": "code",
   "execution_count": 6,
   "metadata": {},
   "outputs": [],
   "source": [
    "global_frequency_list = {}\n",
    "for file in all_files:\n",
    "    tokens = tokenizer(file)\n",
    "    words = [token.text for token in tokens if all(char.isalpha() for char in token.text)]\n",
    "    word_counter = Counter(words)\n",
    "    for word, count in word_counter.items():\n",
    "        if word in global_frequency_list:\n",
    "            global_frequency_list[word] += count\n",
    "        else:\n",
    "            global_frequency_list[word] = count"
   ]
  },
  {
   "cell_type": "markdown",
   "metadata": {},
   "source": [
    "Właściwe obliczenie częstotliwości występowania bigramów odbywa się poniżej."
   ]
  },
  {
   "cell_type": "code",
   "execution_count": 7,
   "metadata": {},
   "outputs": [],
   "source": [
    "bigrams = get_n_grams_for_all_files(2)"
   ]
  },
  {
   "cell_type": "code",
   "execution_count": 8,
   "metadata": {},
   "outputs": [
    {
     "data": {
      "text/plain": [
       "{'dz.u. z': 1219,\n",
       " 'z 1993': 535,\n",
       " '1993 r.': 774,\n",
       " 'r. nr': 17855,\n",
       " 'nr 129,': 136,\n",
       " '129, poz.': 134,\n",
       " 'poz. 599': 1,\n",
       " '599 ustawa': 1,\n",
       " 'ustawa z': 1187,\n",
       " 'z dnia': 9513,\n",
       " 'dnia 9': 216,\n",
       " '9 grudnia': 7,\n",
       " 'grudnia 1993': 110,\n",
       " 'r. o': 7079,\n",
       " 'o zmianie': 1297}"
      ]
     },
     "execution_count": 8,
     "metadata": {},
     "output_type": "execute_result"
    }
   ],
   "source": [
    "get_entries_range(bigrams, 0, 15)"
   ]
  },
  {
   "cell_type": "markdown",
   "metadata": {},
   "source": [
    "#### Zadanie 3."
   ]
  },
  {
   "cell_type": "code",
   "execution_count": 9,
   "metadata": {},
   "outputs": [],
   "source": [
    "def is_ngram_alpha(ngram):\n",
    "    return all(word.isalpha() for word in ngram.split(' '))"
   ]
  },
  {
   "cell_type": "code",
   "execution_count": 10,
   "metadata": {},
   "outputs": [],
   "source": [
    "letters_bigrams = {bigram : count for bigram, count in bigrams.items() if is_ngram_alpha(bigram)}"
   ]
  },
  {
   "cell_type": "code",
   "execution_count": 60,
   "metadata": {},
   "outputs": [
    {
     "data": {
      "text/plain": [
       "{'ustawa z': 1187,\n",
       " 'z dnia': 9513,\n",
       " 'o zmianie': 1297,\n",
       " 'zmianie ustawy': 850,\n",
       " 'ustawy o': 1440,\n",
       " 'o podatku': 533,\n",
       " 'podatku od': 381,\n",
       " 'od towarów': 270,\n",
       " 'towarów i': 530,\n",
       " 'i usług': 379}"
      ]
     },
     "execution_count": 60,
     "metadata": {},
     "output_type": "execute_result"
    }
   ],
   "source": [
    "get_entries_range(letters_bigrams, 0, 10)"
   ]
  },
  {
   "cell_type": "code",
   "execution_count": 61,
   "metadata": {},
   "outputs": [
    {
     "data": {
      "text/plain": [
       "{'mowa w': 28450,\n",
       " 'których mowa': 13847,\n",
       " 'o których': 13839,\n",
       " 'z dnia': 9513,\n",
       " 'którym mowa': 9165,\n",
       " 'o którym': 9155,\n",
       " 'do spraw': 8680,\n",
       " 'i nr': 8435,\n",
       " 'dodaje się': 8190,\n",
       " 'w drodze': 7092}"
      ]
     },
     "execution_count": 61,
     "metadata": {},
     "output_type": "execute_result"
    }
   ],
   "source": [
    "sorted_letters_bigrams = {k: v for k, v in sorted(letters_bigrams.items(), key=lambda item: item[1]*-1)}\n",
    "get_entries_range(sorted_letters_bigrams, 0, 10)"
   ]
  },
  {
   "cell_type": "code",
   "execution_count": 12,
   "metadata": {},
   "outputs": [
    {
     "data": {
      "text/plain": [
       "{'z': 81806,\n",
       " 'nr': 44918,\n",
       " 'ustawa': 3175,\n",
       " 'dnia': 17617,\n",
       " 'grudnia': 2107,\n",
       " 'o': 64281,\n",
       " 'zmianie': 1467,\n",
       " 'ustawy': 9581,\n",
       " 'podatku': 1806,\n",
       " 'od': 16603}"
      ]
     },
     "execution_count": 12,
     "metadata": {},
     "output_type": "execute_result"
    }
   ],
   "source": [
    "get_entries_range(global_frequency_list, 0, 10)"
   ]
  },
  {
   "cell_type": "markdown",
   "metadata": {},
   "source": [
    "#### Zadanie 4."
   ]
  },
  {
   "cell_type": "code",
   "execution_count": 13,
   "metadata": {},
   "outputs": [],
   "source": [
    "def pmi(bigram):\n",
    "    all_words_count = sum(global_frequency_list.values())\n",
    "    word1, word2 = bigram.split(' ')\n",
    "    word1_probability = global_frequency_list[word1] / all_words_count\n",
    "    word2_probability = global_frequency_list[word2] / all_words_count\n",
    "    bigram_probability = letters_bigrams[bigram] / all_words_count\n",
    "    return math.log(bigram_probability / float(word1_probability * word2_probability), 10)"
   ]
  },
  {
   "cell_type": "code",
   "execution_count": 14,
   "metadata": {},
   "outputs": [],
   "source": [
    "bigrams_pmi = {bigram: pmi(bigram) for bigram in letters_bigrams.keys()}"
   ]
  },
  {
   "cell_type": "code",
   "execution_count": 33,
   "metadata": {},
   "outputs": [
    {
     "data": {
      "text/plain": [
       "{'ustawa z': 1.127910499308115,\n",
       " 'z dnia': 1.2875890523896676,\n",
       " 'o zmianie': 1.6064159057351242,\n",
       " 'zmianie ustawy': 2.2495666395307023,\n",
       " 'ustawy o': 0.8368576954236884,\n",
       " 'o podatku': 1.129915506543412,\n",
       " 'podatku od': 1.5720093296204374,\n",
       " 'od towarów': 1.4936237092269171,\n",
       " 'towarów i': 1.0571762531674593,\n",
       " 'i usług': 1.0121481734524016}"
      ]
     },
     "execution_count": 33,
     "metadata": {},
     "output_type": "execute_result"
    }
   ],
   "source": [
    "get_entries_range(bigrams_pmi, 0, 10)"
   ]
  },
  {
   "cell_type": "markdown",
   "metadata": {},
   "source": [
    "#### Zadanie 5."
   ]
  },
  {
   "cell_type": "code",
   "execution_count": 15,
   "metadata": {},
   "outputs": [],
   "source": [
    "sorted_bigrams_pmi = {k: v for k, v in sorted(bigrams_pmi.items(), key=lambda item: item[1]*-1)}"
   ]
  },
  {
   "cell_type": "code",
   "execution_count": 16,
   "metadata": {},
   "outputs": [
    {
     "data": {
      "text/plain": [
       "{'kołowe jednoosiowe': 6.46798866782558,\n",
       " 'automatyki grzewczej': 6.46798866782558,\n",
       " 'prefabrykatów wnętrzowe': 6.46798866782558,\n",
       " 'gołe aluminiowe': 6.46798866782558,\n",
       " 'polistyrenu spienionego': 6.46798866782558,\n",
       " 'objaśnieniem figur': 6.46798866782558,\n",
       " 'wkładzie wnoszonym': 6.46798866782558,\n",
       " 'doktorem habilitowanym': 6.46798866782558,\n",
       " 'naruszonymi plombami': 6.46798866782558,\n",
       " 'uw zględnieniu': 6.46798866782558}"
      ]
     },
     "execution_count": 16,
     "metadata": {},
     "output_type": "execute_result"
    }
   ],
   "source": [
    "get_entries_range(sorted_bigrams_pmi, 0, 10)"
   ]
  },
  {
   "cell_type": "markdown",
   "metadata": {},
   "source": [
    "#### Zadanie 6."
   ]
  },
  {
   "cell_type": "code",
   "execution_count": 17,
   "metadata": {},
   "outputs": [],
   "source": [
    "sorted_bigrams_pmi_five_occ = {bigram : pmi for bigram, pmi in sorted_bigrams_pmi.items() if letters_bigrams[bigram]>=5}"
   ]
  },
  {
   "cell_type": "code",
   "execution_count": 18,
   "metadata": {},
   "outputs": [
    {
     "data": {
      "text/plain": [
       "{'świeckie przygotowujące': 5.769018663489562,\n",
       " 'ręcznego miotacza': 5.769018663489562,\n",
       " 'młyny kulowe': 5.769018663489562,\n",
       " 'najnowszych zdobyczy': 5.769018663489562,\n",
       " 'zaszkodzić wynikom': 5.769018663489562,\n",
       " 'grzegorz schetyna': 5.769018663489562,\n",
       " 'mleczka makowego': 5.689837417441937,\n",
       " 'chrześcijan baptystów': 5.689837417441937,\n",
       " 'przeponowe rurowe': 5.689837417441937,\n",
       " 'chromu sześciowartościowego': 5.689837417441937}"
      ]
     },
     "execution_count": 18,
     "metadata": {},
     "output_type": "execute_result"
    }
   ],
   "source": [
    "get_entries_range(sorted_bigrams_pmi_five_occ, 0, 10)"
   ]
  },
  {
   "cell_type": "markdown",
   "metadata": {},
   "source": [
    "#### Zadanie 7."
   ]
  },
  {
   "cell_type": "code",
   "execution_count": 19,
   "metadata": {},
   "outputs": [],
   "source": [
    "def shannon_entropy(k_list):\n",
    "    n = sum(k_list)\n",
    "    return sum([k / n * math.log(abs(k) / n + (k == 0)) for k in k_list])"
   ]
  },
  {
   "cell_type": "code",
   "execution_count": 20,
   "metadata": {},
   "outputs": [],
   "source": [
    "all_bigrams_occ = sum(letters_bigrams.values())\n",
    "def llr(bigram):\n",
    "    word1, word2 = bigram.split(' ')\n",
    "    k11 = letters_bigrams[bigram]\n",
    "    k21 = global_frequency_list[word1] - letters_bigrams[bigram]\n",
    "    k12 = global_frequency_list[word2] - letters_bigrams[bigram]\n",
    "    k22 = all_bigrams_occ - global_frequency_list[word1] - global_frequency_list[word2]\n",
    "    return 2 * sum([k11, k12, k21, k22]) * (shannon_entropy([k11, k12, k21, k22]) - shannon_entropy([k11 + k12, k21 + k22]) - shannon_entropy([k11 + k21, k12 + k22]))"
   ]
  },
  {
   "cell_type": "code",
   "execution_count": 21,
   "metadata": {},
   "outputs": [],
   "source": [
    "bigrams_llr = {bigram: llr(bigram) for bigram in letters_bigrams.keys()}"
   ]
  },
  {
   "cell_type": "code",
   "execution_count": 34,
   "metadata": {},
   "outputs": [
    {
     "data": {
      "text/plain": [
       "{'ustawa z': 3910.0304478605754,\n",
       " 'z dnia': 40967.65311277764,\n",
       " 'o zmianie': 8295.061471581146,\n",
       " 'zmianie ustawy': 7424.721379566656,\n",
       " 'ustawy o': 2707.13369280242,\n",
       " 'o podatku': 1710.9035582462352,\n",
       " 'podatku od': 1935.0128131680278,\n",
       " 'od towarów': 1264.8425804158696,\n",
       " 'towarów i': 1564.3556161547951,\n",
       " 'i usług': 1032.197314412582}"
      ]
     },
     "execution_count": 34,
     "metadata": {},
     "output_type": "execute_result"
    }
   ],
   "source": [
    "get_entries_range(bigrams_llr, 0, 10)"
   ]
  },
  {
   "cell_type": "markdown",
   "metadata": {},
   "source": [
    "#### Zadanie 8."
   ]
  },
  {
   "cell_type": "code",
   "execution_count": 22,
   "metadata": {},
   "outputs": [],
   "source": [
    "sorted_bigrams_llr = {k: v for k, v in sorted(bigrams_llr.items(), key=lambda item: item[1]*-1)}"
   ]
  },
  {
   "cell_type": "code",
   "execution_count": 23,
   "metadata": {},
   "outputs": [
    {
     "data": {
      "text/plain": [
       "{'mowa w': 139504.46726754995,\n",
       " 'których mowa': 110489.85516758195,\n",
       " 'o których': 83375.27141508946,\n",
       " 'którym mowa': 71378.20475734424,\n",
       " 'dodaje się': 64460.971993500956,\n",
       " 'do spraw': 57406.47283185411,\n",
       " 'o którym': 54695.749116354724,\n",
       " 'na podstawie': 50161.56449043455,\n",
       " 'minister właściwy': 46104.13504921431,\n",
       " 'stosuje się': 44512.12820816197}"
      ]
     },
     "execution_count": 23,
     "metadata": {},
     "output_type": "execute_result"
    }
   ],
   "source": [
    "get_entries_range(sorted_bigrams_llr, 0, 10)"
   ]
  },
  {
   "cell_type": "markdown",
   "metadata": {},
   "source": [
    "#### Zadanie 9."
   ]
  },
  {
   "cell_type": "code",
   "execution_count": 24,
   "metadata": {},
   "outputs": [],
   "source": [
    "trigrams = get_n_grams_for_all_files(3)"
   ]
  },
  {
   "cell_type": "code",
   "execution_count": 62,
   "metadata": {},
   "outputs": [
    {
     "data": {
      "text/plain": [
       "{'o których mowa': 13804,\n",
       " 'których mowa w': 13788,\n",
       " 'którym mowa w': 9145,\n",
       " 'o którym mowa': 9138,\n",
       " 'o której mowa': 5487,\n",
       " 'której mowa w': 5486,\n",
       " 'właściwy do spraw': 4609,\n",
       " 'minister właściwy do': 4277,\n",
       " 'ustawie z dnia': 3648,\n",
       " 'w ustawie z': 3644}"
      ]
     },
     "execution_count": 62,
     "metadata": {},
     "output_type": "execute_result"
    }
   ],
   "source": [
    "letters_trigrams = {trigram : count for trigram, count in trigrams.items() if is_ngram_alpha(trigram)}\n",
    "sorted_letters_trigrams = {k: v for k, v in sorted(letters_trigrams.items(), key=lambda item: item[1]*-1)}\n",
    "get_entries_range(sorted_letters_trigrams, 0, 10)"
   ]
  },
  {
   "cell_type": "markdown",
   "metadata": {},
   "source": [
    "#### Zadanie 10."
   ]
  },
  {
   "cell_type": "markdown",
   "metadata": {},
   "source": [
    "Analogicznie do zadań, w których obliczane były wartości PMI i LLR dla bigramów, zdefiniowane zostały funkcje dla trigramów. W miejscach gdzie wykorzystywane były pojedyncze słowa bigramu znajdują się pierwszy i drugi bigram zawarty w trigramie, a w miejsce bigramu wstawiony został trigram."
   ]
  },
  {
   "cell_type": "code",
   "execution_count": 27,
   "metadata": {},
   "outputs": [],
   "source": [
    "def pmi_trigram(trigram):\n",
    "    all_bigrams_count = sum(letters_bigrams.values())\n",
    "    word1, word2, word3 = trigram.split(' ')\n",
    "    bigram1_probability = letters_bigrams[' '.join([word1, word2])] / all_bigrams_count\n",
    "    bigram2_probability = letters_bigrams[' '.join([word2, word3])] / all_bigrams_count\n",
    "    trigram_probability = letters_trigrams[trigram] / all_bigrams_count\n",
    "    return math.log(trigram_probability / float(bigram1_probability * bigram2_probability), 10)"
   ]
  },
  {
   "cell_type": "code",
   "execution_count": 28,
   "metadata": {},
   "outputs": [],
   "source": [
    "trigrams_pmi = {trigram: pmi_trigram(trigram) for trigram in letters_trigrams.keys()}\n",
    "sorted_trigrams_pmi = {k: v for k, v in sorted(trigrams_pmi.items(), key=lambda item: item[1]*-1)}"
   ]
  },
  {
   "cell_type": "code",
   "execution_count": 35,
   "metadata": {},
   "outputs": [],
   "source": [
    "sorted_trigrams_pmi_five_occ = {trigram: pmi for trigram, pmi in sorted_trigrams_pmi.items() if letters_trigrams[trigram]>=5}"
   ]
  },
  {
   "cell_type": "code",
   "execution_count": 36,
   "metadata": {},
   "outputs": [
    {
     "data": {
      "text/plain": [
       "{'bankowym postępowaniem ugodowym': 5.668455062795804,\n",
       " 'przysługuje miesięczny dodatek': 5.668455062795804,\n",
       " 'o współwłasności w': 5.668455062795804,\n",
       " 'uroczyście na powierzonym': 5.668455062795804,\n",
       " 'na powierzonym mi': 5.668455062795804,\n",
       " 'powierzonym mi stanowisku': 5.668455062795804,\n",
       " 'dniach tygodnia ustala': 5.668455062795804,\n",
       " 'dni ustawowo wolnych': 5.668455062795804,\n",
       " 'zamawiający negocjuje warunki': 5.668455062795804,\n",
       " 'zostało im cofnięte': 5.668455062795804,\n",
       " 'im cofnięte pozwolenie': 5.668455062795804,\n",
       " 'miejsca wyznaczonego lub': 5.668455062795804,\n",
       " 'wyznaczonego lub uznanego': 5.668455062795804,\n",
       " 'całości uiszczona przed': 5.668455062795804,\n",
       " 'zanim zapadł pierwszy': 5.668455062795804}"
      ]
     },
     "execution_count": 36,
     "metadata": {},
     "output_type": "execute_result"
    }
   ],
   "source": [
    "get_entries_range(sorted_trigrams_pmi_five_occ, 0, 15)"
   ]
  },
  {
   "cell_type": "code",
   "execution_count": 30,
   "metadata": {},
   "outputs": [],
   "source": [
    "all_trigrams_occ = sum(letters_trigrams.values())\n",
    "def llr_trigram(trigram):\n",
    "    word1, word2, word3 = trigram.split(' ')\n",
    "    bigram1 = ' '.join([word1, word2])\n",
    "    bigram2 = ' '.join([word2, word3])\n",
    "    k11 = letters_trigrams[trigram]\n",
    "    k21 = letters_bigrams[bigram1] - letters_trigrams[trigram]\n",
    "    k12 = letters_bigrams[bigram2] - letters_trigrams[trigram]\n",
    "    k22 = all_trigrams_occ - letters_bigrams[bigram1] - letters_bigrams[bigram2]\n",
    "    return 2 * sum([k11, k12, k21, k22]) * (shannon_entropy([k11, k12, k21, k22]) - shannon_entropy([k11 + k12, k21 + k22]) - shannon_entropy([k11 + k21, k12 + k22]))"
   ]
  },
  {
   "cell_type": "code",
   "execution_count": 31,
   "metadata": {},
   "outputs": [],
   "source": [
    "trigrams_llr = {trigram: llr_trigram(trigram) for trigram in letters_trigrams.keys()}\n",
    "sorted_trigrams_llr = {k: v for k, v in sorted(trigrams_llr.items(), key=lambda item: item[1]*-1)}"
   ]
  },
  {
   "cell_type": "code",
   "execution_count": 32,
   "metadata": {},
   "outputs": [
    {
     "data": {
      "text/plain": [
       "{'o których mowa': 162222.26329709802,\n",
       " 'których mowa w': 122962.19274949508,\n",
       " 'o którym mowa': 115087.86482311715,\n",
       " 'którym mowa w': 79763.72362136566,\n",
       " 'o której mowa': 74578.1357189151,\n",
       " 'minister właściwy do': 57145.696293026944,\n",
       " 'właściwy do spraw': 50876.30948911843,\n",
       " 'w ustawie z': 47948.704625061764,\n",
       " 'której mowa w': 46976.721190722354,\n",
       " 'ustawie z dnia': 40094.39400940854}"
      ]
     },
     "execution_count": 32,
     "metadata": {},
     "output_type": "execute_result"
    }
   ],
   "source": [
    "get_entries_range(sorted_trigrams_llr, 0, 10)"
   ]
  },
  {
   "cell_type": "markdown",
   "metadata": {},
   "source": [
    "#### Zadanie 11."
   ]
  },
  {
   "cell_type": "code",
   "execution_count": 51,
   "metadata": {},
   "outputs": [],
   "source": [
    "def show_as_table(ngrams_results):\n",
    "    return pd.DataFrame([get_entries_range(ngrams_results, 0, 10).keys(), get_entries_range(ngrams_results, 0, 10).values()]).T"
   ]
  },
  {
   "cell_type": "code",
   "execution_count": 56,
   "metadata": {},
   "outputs": [
    {
     "data": {
      "text/html": [
       "<div>\n",
       "<style scoped>\n",
       "    .dataframe tbody tr th:only-of-type {\n",
       "        vertical-align: middle;\n",
       "    }\n",
       "\n",
       "    .dataframe tbody tr th {\n",
       "        vertical-align: top;\n",
       "    }\n",
       "\n",
       "    .dataframe thead th {\n",
       "        text-align: right;\n",
       "    }\n",
       "</style>\n",
       "<table border=\"1\" class=\"dataframe\">\n",
       "  <thead>\n",
       "    <tr style=\"text-align: right;\">\n",
       "      <th></th>\n",
       "      <th>0</th>\n",
       "      <th>1</th>\n",
       "    </tr>\n",
       "  </thead>\n",
       "  <tbody>\n",
       "    <tr>\n",
       "      <th>0</th>\n",
       "      <td>świeckie przygotowujące</td>\n",
       "      <td>5.76902</td>\n",
       "    </tr>\n",
       "    <tr>\n",
       "      <th>1</th>\n",
       "      <td>ręcznego miotacza</td>\n",
       "      <td>5.76902</td>\n",
       "    </tr>\n",
       "    <tr>\n",
       "      <th>2</th>\n",
       "      <td>młyny kulowe</td>\n",
       "      <td>5.76902</td>\n",
       "    </tr>\n",
       "    <tr>\n",
       "      <th>3</th>\n",
       "      <td>najnowszych zdobyczy</td>\n",
       "      <td>5.76902</td>\n",
       "    </tr>\n",
       "    <tr>\n",
       "      <th>4</th>\n",
       "      <td>zaszkodzić wynikom</td>\n",
       "      <td>5.76902</td>\n",
       "    </tr>\n",
       "    <tr>\n",
       "      <th>5</th>\n",
       "      <td>grzegorz schetyna</td>\n",
       "      <td>5.76902</td>\n",
       "    </tr>\n",
       "    <tr>\n",
       "      <th>6</th>\n",
       "      <td>mleczka makowego</td>\n",
       "      <td>5.68984</td>\n",
       "    </tr>\n",
       "    <tr>\n",
       "      <th>7</th>\n",
       "      <td>chrześcijan baptystów</td>\n",
       "      <td>5.68984</td>\n",
       "    </tr>\n",
       "    <tr>\n",
       "      <th>8</th>\n",
       "      <td>przeponowe rurowe</td>\n",
       "      <td>5.68984</td>\n",
       "    </tr>\n",
       "    <tr>\n",
       "      <th>9</th>\n",
       "      <td>chromu sześciowartościowego</td>\n",
       "      <td>5.68984</td>\n",
       "    </tr>\n",
       "  </tbody>\n",
       "</table>\n",
       "</div>"
      ],
      "text/plain": [
       "                             0        1\n",
       "0      świeckie przygotowujące  5.76902\n",
       "1            ręcznego miotacza  5.76902\n",
       "2                 młyny kulowe  5.76902\n",
       "3         najnowszych zdobyczy  5.76902\n",
       "4           zaszkodzić wynikom  5.76902\n",
       "5            grzegorz schetyna  5.76902\n",
       "6             mleczka makowego  5.68984\n",
       "7        chrześcijan baptystów  5.68984\n",
       "8            przeponowe rurowe  5.68984\n",
       "9  chromu sześciowartościowego  5.68984"
      ]
     },
     "execution_count": 56,
     "metadata": {},
     "output_type": "execute_result"
    }
   ],
   "source": [
    "show_as_table(sorted_bigrams_pmi_five_occ)"
   ]
  },
  {
   "cell_type": "code",
   "execution_count": 57,
   "metadata": {},
   "outputs": [
    {
     "data": {
      "text/html": [
       "<div>\n",
       "<style scoped>\n",
       "    .dataframe tbody tr th:only-of-type {\n",
       "        vertical-align: middle;\n",
       "    }\n",
       "\n",
       "    .dataframe tbody tr th {\n",
       "        vertical-align: top;\n",
       "    }\n",
       "\n",
       "    .dataframe thead th {\n",
       "        text-align: right;\n",
       "    }\n",
       "</style>\n",
       "<table border=\"1\" class=\"dataframe\">\n",
       "  <thead>\n",
       "    <tr style=\"text-align: right;\">\n",
       "      <th></th>\n",
       "      <th>0</th>\n",
       "      <th>1</th>\n",
       "    </tr>\n",
       "  </thead>\n",
       "  <tbody>\n",
       "    <tr>\n",
       "      <th>0</th>\n",
       "      <td>mowa w</td>\n",
       "      <td>139504</td>\n",
       "    </tr>\n",
       "    <tr>\n",
       "      <th>1</th>\n",
       "      <td>których mowa</td>\n",
       "      <td>110490</td>\n",
       "    </tr>\n",
       "    <tr>\n",
       "      <th>2</th>\n",
       "      <td>o których</td>\n",
       "      <td>83375.3</td>\n",
       "    </tr>\n",
       "    <tr>\n",
       "      <th>3</th>\n",
       "      <td>którym mowa</td>\n",
       "      <td>71378.2</td>\n",
       "    </tr>\n",
       "    <tr>\n",
       "      <th>4</th>\n",
       "      <td>dodaje się</td>\n",
       "      <td>64461</td>\n",
       "    </tr>\n",
       "    <tr>\n",
       "      <th>5</th>\n",
       "      <td>do spraw</td>\n",
       "      <td>57406.5</td>\n",
       "    </tr>\n",
       "    <tr>\n",
       "      <th>6</th>\n",
       "      <td>o którym</td>\n",
       "      <td>54695.7</td>\n",
       "    </tr>\n",
       "    <tr>\n",
       "      <th>7</th>\n",
       "      <td>na podstawie</td>\n",
       "      <td>50161.6</td>\n",
       "    </tr>\n",
       "    <tr>\n",
       "      <th>8</th>\n",
       "      <td>minister właściwy</td>\n",
       "      <td>46104.1</td>\n",
       "    </tr>\n",
       "    <tr>\n",
       "      <th>9</th>\n",
       "      <td>stosuje się</td>\n",
       "      <td>44512.1</td>\n",
       "    </tr>\n",
       "  </tbody>\n",
       "</table>\n",
       "</div>"
      ],
      "text/plain": [
       "                   0        1\n",
       "0             mowa w   139504\n",
       "1       których mowa   110490\n",
       "2          o których  83375.3\n",
       "3        którym mowa  71378.2\n",
       "4         dodaje się    64461\n",
       "5           do spraw  57406.5\n",
       "6           o którym  54695.7\n",
       "7       na podstawie  50161.6\n",
       "8  minister właściwy  46104.1\n",
       "9        stosuje się  44512.1"
      ]
     },
     "execution_count": 57,
     "metadata": {},
     "output_type": "execute_result"
    }
   ],
   "source": [
    "show_as_table(sorted_bigrams_llr)"
   ]
  },
  {
   "cell_type": "code",
   "execution_count": 58,
   "metadata": {},
   "outputs": [
    {
     "data": {
      "text/html": [
       "<div>\n",
       "<style scoped>\n",
       "    .dataframe tbody tr th:only-of-type {\n",
       "        vertical-align: middle;\n",
       "    }\n",
       "\n",
       "    .dataframe tbody tr th {\n",
       "        vertical-align: top;\n",
       "    }\n",
       "\n",
       "    .dataframe thead th {\n",
       "        text-align: right;\n",
       "    }\n",
       "</style>\n",
       "<table border=\"1\" class=\"dataframe\">\n",
       "  <thead>\n",
       "    <tr style=\"text-align: right;\">\n",
       "      <th></th>\n",
       "      <th>0</th>\n",
       "      <th>1</th>\n",
       "    </tr>\n",
       "  </thead>\n",
       "  <tbody>\n",
       "    <tr>\n",
       "      <th>0</th>\n",
       "      <td>bankowym postępowaniem ugodowym</td>\n",
       "      <td>5.66846</td>\n",
       "    </tr>\n",
       "    <tr>\n",
       "      <th>1</th>\n",
       "      <td>przysługuje miesięczny dodatek</td>\n",
       "      <td>5.66846</td>\n",
       "    </tr>\n",
       "    <tr>\n",
       "      <th>2</th>\n",
       "      <td>o współwłasności w</td>\n",
       "      <td>5.66846</td>\n",
       "    </tr>\n",
       "    <tr>\n",
       "      <th>3</th>\n",
       "      <td>uroczyście na powierzonym</td>\n",
       "      <td>5.66846</td>\n",
       "    </tr>\n",
       "    <tr>\n",
       "      <th>4</th>\n",
       "      <td>na powierzonym mi</td>\n",
       "      <td>5.66846</td>\n",
       "    </tr>\n",
       "    <tr>\n",
       "      <th>5</th>\n",
       "      <td>powierzonym mi stanowisku</td>\n",
       "      <td>5.66846</td>\n",
       "    </tr>\n",
       "    <tr>\n",
       "      <th>6</th>\n",
       "      <td>dniach tygodnia ustala</td>\n",
       "      <td>5.66846</td>\n",
       "    </tr>\n",
       "    <tr>\n",
       "      <th>7</th>\n",
       "      <td>dni ustawowo wolnych</td>\n",
       "      <td>5.66846</td>\n",
       "    </tr>\n",
       "    <tr>\n",
       "      <th>8</th>\n",
       "      <td>zamawiający negocjuje warunki</td>\n",
       "      <td>5.66846</td>\n",
       "    </tr>\n",
       "    <tr>\n",
       "      <th>9</th>\n",
       "      <td>zostało im cofnięte</td>\n",
       "      <td>5.66846</td>\n",
       "    </tr>\n",
       "  </tbody>\n",
       "</table>\n",
       "</div>"
      ],
      "text/plain": [
       "                                 0        1\n",
       "0  bankowym postępowaniem ugodowym  5.66846\n",
       "1   przysługuje miesięczny dodatek  5.66846\n",
       "2               o współwłasności w  5.66846\n",
       "3        uroczyście na powierzonym  5.66846\n",
       "4                na powierzonym mi  5.66846\n",
       "5        powierzonym mi stanowisku  5.66846\n",
       "6           dniach tygodnia ustala  5.66846\n",
       "7             dni ustawowo wolnych  5.66846\n",
       "8    zamawiający negocjuje warunki  5.66846\n",
       "9              zostało im cofnięte  5.66846"
      ]
     },
     "execution_count": 58,
     "metadata": {},
     "output_type": "execute_result"
    }
   ],
   "source": [
    "show_as_table(sorted_trigrams_pmi_five_occ)"
   ]
  },
  {
   "cell_type": "code",
   "execution_count": 59,
   "metadata": {},
   "outputs": [
    {
     "data": {
      "text/html": [
       "<div>\n",
       "<style scoped>\n",
       "    .dataframe tbody tr th:only-of-type {\n",
       "        vertical-align: middle;\n",
       "    }\n",
       "\n",
       "    .dataframe tbody tr th {\n",
       "        vertical-align: top;\n",
       "    }\n",
       "\n",
       "    .dataframe thead th {\n",
       "        text-align: right;\n",
       "    }\n",
       "</style>\n",
       "<table border=\"1\" class=\"dataframe\">\n",
       "  <thead>\n",
       "    <tr style=\"text-align: right;\">\n",
       "      <th></th>\n",
       "      <th>0</th>\n",
       "      <th>1</th>\n",
       "    </tr>\n",
       "  </thead>\n",
       "  <tbody>\n",
       "    <tr>\n",
       "      <th>0</th>\n",
       "      <td>o których mowa</td>\n",
       "      <td>162222</td>\n",
       "    </tr>\n",
       "    <tr>\n",
       "      <th>1</th>\n",
       "      <td>których mowa w</td>\n",
       "      <td>122962</td>\n",
       "    </tr>\n",
       "    <tr>\n",
       "      <th>2</th>\n",
       "      <td>o którym mowa</td>\n",
       "      <td>115088</td>\n",
       "    </tr>\n",
       "    <tr>\n",
       "      <th>3</th>\n",
       "      <td>którym mowa w</td>\n",
       "      <td>79763.7</td>\n",
       "    </tr>\n",
       "    <tr>\n",
       "      <th>4</th>\n",
       "      <td>o której mowa</td>\n",
       "      <td>74578.1</td>\n",
       "    </tr>\n",
       "    <tr>\n",
       "      <th>5</th>\n",
       "      <td>minister właściwy do</td>\n",
       "      <td>57145.7</td>\n",
       "    </tr>\n",
       "    <tr>\n",
       "      <th>6</th>\n",
       "      <td>właściwy do spraw</td>\n",
       "      <td>50876.3</td>\n",
       "    </tr>\n",
       "    <tr>\n",
       "      <th>7</th>\n",
       "      <td>w ustawie z</td>\n",
       "      <td>47948.7</td>\n",
       "    </tr>\n",
       "    <tr>\n",
       "      <th>8</th>\n",
       "      <td>której mowa w</td>\n",
       "      <td>46976.7</td>\n",
       "    </tr>\n",
       "    <tr>\n",
       "      <th>9</th>\n",
       "      <td>ustawie z dnia</td>\n",
       "      <td>40094.4</td>\n",
       "    </tr>\n",
       "  </tbody>\n",
       "</table>\n",
       "</div>"
      ],
      "text/plain": [
       "                      0        1\n",
       "0        o których mowa   162222\n",
       "1        których mowa w   122962\n",
       "2         o którym mowa   115088\n",
       "3         którym mowa w  79763.7\n",
       "4         o której mowa  74578.1\n",
       "5  minister właściwy do  57145.7\n",
       "6     właściwy do spraw  50876.3\n",
       "7           w ustawie z  47948.7\n",
       "8         której mowa w  46976.7\n",
       "9        ustawie z dnia  40094.4"
      ]
     },
     "execution_count": 59,
     "metadata": {},
     "output_type": "execute_result"
    }
   ],
   "source": [
    "show_as_table(sorted_trigrams_llr)"
   ]
  },
  {
   "cell_type": "markdown",
   "metadata": {},
   "source": [
    "Metoda PMI najwyżej punktowała n-gramy, które występowały rzadko, a jednocześnie słowa, z których te n-gramy się składały najczęściej lub zawsze występowały w tekstach jako ten konkretny n-gram.\n",
    "Metoda LLR z kolei najwyższe wyniki przyznawała n-gramom, które występowały w tekstach najczęściej. Ranking posortowanych n-gramów jest bardzo zbliżony do rankingu posortowanego względem ilości wystąpień.\n",
    "Używana metoda zależy więc od celu poszukiwań. Jeśli szukamy słów silnie związanych ze sobą, które poza określonymi n-gramami występują bardzo rzadko to lepsze może okazać się PMI, natomiast dla n-gramów charakterystycznych dla ogółu tekstu prawdopodobnie skuteczniej sprawdzi się LLR. "
   ]
  },
  {
   "cell_type": "markdown",
   "metadata": {},
   "source": [
    "#### Zadanie 12."
   ]
  },
  {
   "cell_type": "markdown",
   "metadata": {},
   "source": [
    "W sekwencjach tokenów nie ma informacji o słowach rozdzielonych znakami interpunkcyjnymi, np. znajdującymi się w dwóch różnych zdaniach, zupełnie niepowiązanymi ze sobą. Częstotliwość występowania bigramów wyznaczona w ten sposób mogłaby zostać zaburzona przez wyrazy często kończące lub rozpoczynające zdania."
   ]
  },
  {
   "cell_type": "markdown",
   "metadata": {},
   "source": [
    "Zarówno PMI, jak i LLR działają podobnie dla bigramów i trigramów (opis w zadaniu 11.). W przypadku PMI warto ustawić minimalną częstotliwość wystąpień danego n-gramu, gdyż w przeciwnym przypadku prawdopodobnie największą wartość PMI otrzymają te występujące tylko raz lub bardzo niewiele razy."
   ]
  },
  {
   "cell_type": "markdown",
   "metadata": {},
   "source": [
    "PMI znajduje wyrażenia rzadkie, których słowa składowe występują najczęściej właśnie w postaci takiego n-gramu. \n",
    "LLR znajduje wyrażenia charakterystyczne dla danego tekstu, pojawiające się w nim często. W tym przypadku są to zwroty cechujące teksty prawne."
   ]
  }
 ],
 "metadata": {
  "kernelspec": {
   "display_name": "Python 3",
   "language": "python",
   "name": "python3"
  },
  "language_info": {
   "codemirror_mode": {
    "name": "ipython",
    "version": 3
   },
   "file_extension": ".py",
   "mimetype": "text/x-python",
   "name": "python",
   "nbconvert_exporter": "python",
   "pygments_lexer": "ipython3",
   "version": "3.7.9"
  }
 },
 "nbformat": 4,
 "nbformat_minor": 4
}
