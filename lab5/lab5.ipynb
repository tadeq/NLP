{
 "cells": [
  {
   "cell_type": "markdown",
   "metadata": {},
   "source": [
    "## NLP\n",
    "## Lab 5 - Morphosyntactic tagging"
   ]
  },
  {
   "cell_type": "code",
   "execution_count": 60,
   "metadata": {},
   "outputs": [],
   "source": [
    "import requests\n",
    "import os\n",
    "from collections import Counter\n",
    "import math"
   ]
  },
  {
   "cell_type": "code",
   "execution_count": 12,
   "metadata": {},
   "outputs": [
    {
     "name": "stdout",
     "output_type": "stream",
     "text": [
      "Ala\tnone\n",
      "\tAla\tsubst:sg:nom:f\tdisamb\n",
      "ma\tspace\n",
      "\tmieć\tfin:sg:ter:imperf\tdisamb\n",
      "kota\tspace\n",
      "\tkot\tsubst:sg:acc:m2\tdisamb\n",
      ".\tnone\n",
      "\t.\tinterp\tdisamb\n",
      "\n",
      "\n"
     ]
    }
   ],
   "source": [
    "print(requests.post('http://localhost:9200', data=\"Ala ma kota.\").text)"
   ]
  },
  {
   "cell_type": "code",
   "execution_count": 13,
   "metadata": {},
   "outputs": [],
   "source": [
    "all_files = []\n",
    "path = './ustawy'\n",
    "for filename in os.listdir(path):\n",
    "    with open(os.path.join(path, filename), 'r', encoding='utf-8') as file:\n",
    "        all_files.append(\" \".join(file.read().lower().replace('\\n', ' ').split()))"
   ]
  },
  {
   "cell_type": "markdown",
   "metadata": {},
   "source": [
    "#### Zadanie 2."
   ]
  },
  {
   "cell_type": "code",
   "execution_count": 20,
   "metadata": {},
   "outputs": [],
   "source": [
    "tag_lem_files = [requests.post('http://localhost:9200', data=file.encode('utf-8')).text for file in all_files]"
   ]
  },
  {
   "cell_type": "code",
   "execution_count": 31,
   "metadata": {},
   "outputs": [
    {
     "name": "stdout",
     "output_type": "stream",
     "text": [
      "['o', 'space']\n",
      "['', 'o', 'prep:loc', 'disamb']\n",
      "['podatku', 'space']\n",
      "['', 'podatek', 'subst:sg:loc:m3', 'disamb']\n",
      "['od', 'space']\n",
      "['', 'od', 'prep:gen:nwok', 'disamb']\n",
      "['towarów', 'space']\n",
      "['', 'towar', 'subst:pl:gen:m3', 'disamb']\n",
      "['i', 'space']\n",
      "['', 'i', 'conj', 'disamb']\n",
      "['usług', 'space']\n",
      "['', 'usługa', 'subst:pl:gen:f', 'disamb']\n",
      "['oraz', 'space']\n",
      "['', 'oraz', 'conj', 'disamb']\n",
      "['o', 'space']\n",
      "['', 'o', 'prep:loc', 'disamb']\n",
      "['podatku', 'space']\n",
      "['', 'podatek', 'subst:sg:loc:m3', 'disamb']\n",
      "['akcyzowym', 'space']\n",
      "['', 'akcyzowy', 'adj:sg:loc:m3:pos', 'disamb']\n"
     ]
    }
   ],
   "source": [
    "lines = tag_lem_files[0].split('\\n')\n",
    "for line in lines[50:70]:\n",
    "    print(line.split('\\t'))"
   ]
  },
  {
   "cell_type": "markdown",
   "metadata": {},
   "source": [
    "Pod uwagę należy wziąć wyłącznie czteroelementowe linie. Potrzebne informacje to: zlematyzowane słowo znajdujące się pod indeksem 1 oraz kategoria morfosyntaktyczna znajdująca się przed pierwszym dwukropkiem w elemencie o indeksie 2."
   ]
  },
  {
   "cell_type": "code",
   "execution_count": 35,
   "metadata": {},
   "outputs": [],
   "source": [
    "lemmatized_files = []\n",
    "for file in tag_lem_files:\n",
    "    tokens = []\n",
    "    lines = file.split('\\n')\n",
    "    for line in lines:\n",
    "        split_line = line.split('\\t')\n",
    "        if len(split_line) == 4:\n",
    "            word = split_line[1]\n",
    "            category = split_line[2].split(':')[0]\n",
    "            tokens.append((word, category))\n",
    "    lemmatized_files.append(tokens)"
   ]
  },
  {
   "cell_type": "code",
   "execution_count": 36,
   "metadata": {},
   "outputs": [
    {
     "data": {
      "text/plain": [
       "[('rok', 'brev'),\n",
       " ('.', 'interp'),\n",
       " ('o', 'prep'),\n",
       " ('zmiana', 'subst'),\n",
       " ('ustawa', 'subst'),\n",
       " ('o', 'prep'),\n",
       " ('podatek', 'subst'),\n",
       " ('od', 'prep'),\n",
       " ('towar', 'subst'),\n",
       " ('i', 'conj')]"
      ]
     },
     "execution_count": 36,
     "metadata": {},
     "output_type": "execute_result"
    }
   ],
   "source": [
    "lemmatized_files[0][20:30]"
   ]
  },
  {
   "cell_type": "markdown",
   "metadata": {},
   "source": [
    "#### Zadanie 3."
   ]
  },
  {
   "cell_type": "markdown",
   "metadata": {},
   "source": [
    "Bigramy przetwarzane będą w postaci par składających się z par ((słowo, kategoria), (słowo, kategoria))."
   ]
  },
  {
   "cell_type": "code",
   "execution_count": 64,
   "metadata": {},
   "outputs": [],
   "source": [
    "bigrams_counts = {}\n",
    "for file in lemmatized_files:\n",
    "    bigrams = [(file[start_pos], file[start_pos+1]) for start_pos in range(len(file) - 2 + 1)]\n",
    "    bigrams_counter = Counter(bigrams)\n",
    "    for bigram, count in bigrams_counter.items():\n",
    "        if bigram in bigrams_counts:\n",
    "            bigrams_counts[bigram] += count\n",
    "        else:\n",
    "            bigrams_counts[bigram] = count"
   ]
  },
  {
   "cell_type": "code",
   "execution_count": 45,
   "metadata": {},
   "outputs": [],
   "source": [
    "def get_entries_range(dictionary, start, end):\n",
    "    return {k: dictionary[k] for k in list(dictionary)[start:end]}"
   ]
  },
  {
   "cell_type": "code",
   "execution_count": 49,
   "metadata": {},
   "outputs": [
    {
     "data": {
      "text/plain": [
       "{(('dziennik', 'brev'), ('.', 'interp')): 8881,\n",
       " (('.', 'interp'), ('u', 'prep')): 5708,\n",
       " (('u', 'prep'), ('.', 'interp')): 5668,\n",
       " (('.', 'interp'), ('z', 'prep')): 5478,\n",
       " (('z', 'prep'), ('1993', 'adj')): 536,\n",
       " (('1993', 'adj'), ('rok', 'brev')): 787,\n",
       " (('rok', 'brev'), ('.', 'interp')): 33025,\n",
       " (('.', 'interp'), ('numer', 'brev')): 21424,\n",
       " (('numer', 'brev'), ('129', 'num')): 137,\n",
       " (('129', 'num'), (',', 'interp')): 137,\n",
       " ((',', 'interp'), ('pozycja', 'brev')): 42998,\n",
       " (('pozycja', 'brev'), ('.', 'interp')): 45044,\n",
       " (('.', 'interp'), ('599', 'adj')): 8,\n",
       " (('599', 'adj'), ('ustawa', 'subst')): 1,\n",
       " (('ustawa', 'subst'), ('z', 'prep')): 8625}"
      ]
     },
     "execution_count": 49,
     "metadata": {},
     "output_type": "execute_result"
    }
   ],
   "source": [
    "get_entries_range(bigrams_counts,0,15)"
   ]
  },
  {
   "cell_type": "markdown",
   "metadata": {},
   "source": [
    "#### Zadanie 4."
   ]
  },
  {
   "cell_type": "code",
   "execution_count": 43,
   "metadata": {},
   "outputs": [],
   "source": [
    "def is_bigram_alpha(bigram):\n",
    "    return bigram[0][0].isalpha() and bigram[1][0].isalpha()"
   ]
  },
  {
   "cell_type": "code",
   "execution_count": 47,
   "metadata": {},
   "outputs": [],
   "source": [
    "letters_bigrams_counts = {bigram : count for bigram, count in bigrams_counts.items() if is_bigram_alpha(bigram)}"
   ]
  },
  {
   "cell_type": "code",
   "execution_count": 48,
   "metadata": {},
   "outputs": [
    {
     "data": {
      "text/plain": [
       "{(('ustawa', 'subst'), ('z', 'prep')): 8625,\n",
       " (('z', 'prep'), ('dzień', 'subst')): 11360,\n",
       " (('o', 'prep'), ('zmiana', 'subst')): 1409,\n",
       " (('zmiana', 'subst'), ('ustawa', 'subst')): 908,\n",
       " (('ustawa', 'subst'), ('o', 'prep')): 1668,\n",
       " (('o', 'prep'), ('podatek', 'subst')): 592,\n",
       " (('podatek', 'subst'), ('od', 'prep')): 479,\n",
       " (('od', 'prep'), ('towar', 'subst')): 274,\n",
       " (('towar', 'subst'), ('i', 'conj')): 615,\n",
       " (('i', 'conj'), ('usługa', 'subst')): 642}"
      ]
     },
     "execution_count": 48,
     "metadata": {},
     "output_type": "execute_result"
    }
   ],
   "source": [
    "get_entries_range(letters_bigrams_counts,0,10)"
   ]
  },
  {
   "cell_type": "code",
   "execution_count": 50,
   "metadata": {},
   "outputs": [],
   "source": [
    "sorted_letters_bigrams_counts = {k: v for k, v in sorted(letters_bigrams_counts.items(), key=lambda item: item[1]*-1)}"
   ]
  },
  {
   "cell_type": "code",
   "execution_count": 51,
   "metadata": {},
   "outputs": [
    {
     "data": {
      "text/plain": [
       "{(('w', 'prep'), ('artykuł', 'brev')): 31972,\n",
       " (('o', 'prep'), ('który', 'adj')): 28656,\n",
       " (('który', 'adj'), ('mowa', 'subst')): 28538,\n",
       " (('mowa', 'subst'), ('w', 'prep')): 28473,\n",
       " (('w', 'prep'), ('ustęp', 'brev')): 23501,\n",
       " (('z', 'prep'), ('dzień', 'subst')): 11360,\n",
       " (('otrzymywać', 'fin'), ('brzmienie', 'subst')): 10532,\n",
       " (('określić', 'ppas'), ('w', 'prep')): 9772,\n",
       " (('do', 'prep'), ('sprawa', 'subst')): 8718,\n",
       " (('ustawa', 'subst'), ('z', 'prep')): 8625}"
      ]
     },
     "execution_count": 51,
     "metadata": {},
     "output_type": "execute_result"
    }
   ],
   "source": [
    "get_entries_range(sorted_letters_bigrams_counts,0,10)"
   ]
  },
  {
   "cell_type": "markdown",
   "metadata": {},
   "source": [
    "#### Zadanie 6."
   ]
  },
  {
   "cell_type": "markdown",
   "metadata": {},
   "source": [
    "Do obliczenia LLR przydatne będą również ilosci wystąpień pojedynczych zlematyzowanych słów."
   ]
  },
  {
   "cell_type": "code",
   "execution_count": 54,
   "metadata": {},
   "outputs": [],
   "source": [
    "lemmas_counts = {}\n",
    "for file in lemmatized_files:\n",
    "    lemmas_counter = Counter([lemma for lemma in file])\n",
    "    for lemma, count in lemmas_counter.items():\n",
    "        if lemma in lemmas_counts:\n",
    "            lemmas_counts[lemma] += count\n",
    "        else:\n",
    "            lemmas_counts[lemma] = count"
   ]
  },
  {
   "cell_type": "code",
   "execution_count": 55,
   "metadata": {},
   "outputs": [
    {
     "data": {
      "text/plain": [
       "{('dziennik', 'brev'): 8881,\n",
       " ('.', 'interp'): 457514,\n",
       " ('u', 'prep'): 6687,\n",
       " ('z', 'prep'): 87989,\n",
       " ('1993', 'adj'): 800,\n",
       " ('rok', 'brev'): 33127,\n",
       " ('numer', 'brev'): 44940,\n",
       " ('129', 'num'): 157,\n",
       " (',', 'interp'): 343058,\n",
       " ('pozycja', 'brev'): 45044}"
      ]
     },
     "execution_count": 55,
     "metadata": {},
     "output_type": "execute_result"
    }
   ],
   "source": [
    "get_entries_range(lemmas_counts,0,10)"
   ]
  },
  {
   "cell_type": "code",
   "execution_count": 58,
   "metadata": {},
   "outputs": [],
   "source": [
    "def shannon_entropy(k_list):\n",
    "    n = sum(k_list)\n",
    "    return sum([k / n * math.log(abs(k) / n + (k == 0)) for k in k_list])\n",
    "\n",
    "all_bigrams_occ = sum(letters_bigrams_counts.values())\n",
    "def llr(bigram):\n",
    "    k11 = letters_bigrams_counts[bigram]\n",
    "    k21 = lemmas_counts[bigram[0]] - letters_bigrams_counts[bigram]\n",
    "    k12 = lemmas_counts[bigram[1]] - letters_bigrams_counts[bigram]\n",
    "    k22 = all_bigrams_occ - lemmas_counts[bigram[0]] - lemmas_counts[bigram[1]]\n",
    "    return 2 * sum([k11, k12, k21, k22]) * (shannon_entropy([k11, k12, k21, k22]) - shannon_entropy([k11 + k12, k21 + k22]) - shannon_entropy([k11 + k21, k12 + k22]))"
   ]
  },
  {
   "cell_type": "code",
   "execution_count": 61,
   "metadata": {},
   "outputs": [],
   "source": [
    "bigrams_llr = {bigram: llr(bigram) for bigram in letters_bigrams_counts.keys()}"
   ]
  },
  {
   "cell_type": "code",
   "execution_count": 62,
   "metadata": {},
   "outputs": [
    {
     "data": {
      "text/plain": [
       "{(('ustawa', 'subst'), ('z', 'prep')): 29011.42501465483,\n",
       " (('z', 'prep'), ('dzień', 'subst')): 42895.817726105815,\n",
       " (('o', 'prep'), ('zmiana', 'subst')): 3769.4023989730326,\n",
       " (('zmiana', 'subst'), ('ustawa', 'subst')): 3243.676314830327,\n",
       " (('ustawa', 'subst'), ('o', 'prep')): 1392.9696014781416,\n",
       " (('o', 'prep'), ('podatek', 'subst')): 1571.6179206343165,\n",
       " (('podatek', 'subst'), ('od', 'prep')): 2294.323585353027,\n",
       " (('od', 'prep'), ('towar', 'subst')): 863.6277570545774,\n",
       " (('towar', 'subst'), ('i', 'conj')): 1031.2056580868837,\n",
       " (('i', 'conj'), ('usługa', 'subst')): 1504.0659194013892}"
      ]
     },
     "execution_count": 62,
     "metadata": {},
     "output_type": "execute_result"
    }
   ],
   "source": [
    "get_entries_range(bigrams_llr, 0, 10)"
   ]
  },
  {
   "cell_type": "markdown",
   "metadata": {},
   "source": [
    "#### Zadanie 7."
   ]
  },
  {
   "cell_type": "code",
   "execution_count": 70,
   "metadata": {},
   "outputs": [],
   "source": [
    "partitions = {}\n",
    "for bigram, count in letters_bigrams_counts.items():\n",
    "    key = (bigram[0][1], bigram[1][1])\n",
    "    if not key in partitions:\n",
    "        partitions[key] = {}\n",
    "    partitions[key][bigram] = count"
   ]
  },
  {
   "cell_type": "code",
   "execution_count": 71,
   "metadata": {},
   "outputs": [],
   "source": [
    "partitions_counts = {partition : sum(bigram_counts.values()) for partition, bigram_counts in partitions.items()}"
   ]
  },
  {
   "cell_type": "code",
   "execution_count": 75,
   "metadata": {},
   "outputs": [],
   "source": [
    "sorted_partitions_counts = {k: v for k, v in sorted(partitions_counts.items(), key=lambda item: item[1]*-1)}"
   ]
  },
  {
   "cell_type": "markdown",
   "metadata": {},
   "source": [
    "#### Zadanie 8."
   ]
  },
  {
   "cell_type": "code",
   "execution_count": 76,
   "metadata": {},
   "outputs": [
    {
     "data": {
      "text/plain": [
       "{('prep', 'subst'): 323591,\n",
       " ('subst', 'subst'): 280316,\n",
       " ('subst', 'adj'): 273260,\n",
       " ('adj', 'subst'): 188028,\n",
       " ('subst', 'prep'): 171005,\n",
       " ('subst', 'conj'): 84094,\n",
       " ('conj', 'subst'): 83052,\n",
       " ('ger', 'subst'): 81237,\n",
       " ('prep', 'adj'): 79621,\n",
       " ('prep', 'brev'): 66983}"
      ]
     },
     "execution_count": 76,
     "metadata": {},
     "output_type": "execute_result"
    }
   ],
   "source": [
    "get_entries_range(sorted_partitions_counts, 0, 10)"
   ]
  },
  {
   "cell_type": "markdown",
   "metadata": {},
   "source": [
    "#### Zadanie 9."
   ]
  },
  {
   "cell_type": "code",
   "execution_count": 77,
   "metadata": {},
   "outputs": [],
   "source": [
    "sorted_bigrams_llr = {k: v for k, v in sorted(bigrams_llr.items(), key=lambda item: item[1]*-1)}"
   ]
  },
  {
   "cell_type": "code",
   "execution_count": 81,
   "metadata": {},
   "outputs": [
    {
     "name": "stdout",
     "output_type": "stream",
     "text": [
      "\n",
      "PARTITION: prep subst\n",
      "\tdo sprawa (LLR: 45158.814783427115)\n",
      "\tna podstawa (LLR: 45117.47349958786)\n",
      "\tz dzień (LLR: 42895.817726105815)\n",
      "\tw droga (LLR: 31254.20111151821)\n",
      "\tod dzień (LLR: 29261.80012336015)\n",
      "\n",
      "PARTITION: subst subst\n",
      "\tdroga rozporządzenie (LLR: 51600.13583315287)\n",
      "\tskarb państwo (LLR: 21954.86897255017)\n",
      "\trada minister (LLR: 14640.701336068578)\n",
      "\tterytorium rzeczpospolita (LLR: 14062.158500531574)\n",
      "\tochrona środowisko (LLR: 13824.170027843027)\n",
      "\n",
      "PARTITION: subst adj\n",
      "\tminister właściwy (LLR: 67532.06692804613)\n",
      "\trzeczpospolita polski (LLR: 43082.50424659325)\n",
      "\tjednostka organizacyjny (LLR: 23877.483005369744)\n",
      "\tsamorząd terytorialny (LLR: 23183.83713912349)\n",
      "\tprodukt leczniczy (LLR: 21276.14344846115)\n",
      "\n",
      "PARTITION: adj subst\n",
      "\tktóry mowa (LLR: 246775.97859879132)\n",
      "\tniniejszy ustawa (LLR: 19824.505355383506)\n",
      "\tnastępujący zmiana (LLR: 19331.98773640784)\n",
      "\todrębny przepis (LLR: 11680.78807459265)\n",
      "\twalny zgromadzenie (LLR: 9437.430074982918)\n",
      "\n",
      "PARTITION: subst prep\n",
      "\tmowa w (LLR: 148360.1239479386)\n",
      "\tustawa z (LLR: 29011.42501465483)\n",
      "\tmiesiąc od (LLR: 10325.07896530105)\n",
      "\tnadzór nad (LLR: 10167.316274265877)\n",
      "\twniosek o (LLR: 9465.948868433548)\n",
      "\n",
      "PARTITION: subst conj\n",
      "\tprzecinek i (LLR: 3381.7622564306203)\n",
      "\twolność albo (LLR: 2002.2882224255334)\n",
      "\tcałość lub (LLR: 1974.3865378589708)\n",
      "\tmowa i (LLR: 1743.1486032018652)\n",
      "\timię i (LLR: 1542.7539765482259)\n",
      "\n",
      "PARTITION: conj subst\n",
      "\ti tryb (LLR: 3768.181260263227)\n",
      "\ti nazwisko (LLR: 1837.0924863913308)\n",
      "\ti dzień (LLR: 1723.9223290652776)\n",
      "\ti usługa (LLR: 1504.0659194013892)\n",
      "\ti wychowanie (LLR: 1305.8900028364433)\n",
      "\n",
      "PARTITION: ger subst\n",
      "\tpozbawić wolność (LLR: 14536.577229005223)\n",
      "\tzasięgnąć opinia (LLR: 11305.714572227656)\n",
      "\twykonywać zawód (LLR: 5459.036234155191)\n",
      "\tograniczyć wolność (LLR: 5123.759095744077)\n",
      "\tzawrzeć umowa (LLR: 5100.321951240028)\n",
      "\n",
      "PARTITION: prep adj\n",
      "\to który (LLR: 162602.85077351623)\n",
      "\tw właściwy (LLR: 1446.5766531555205)\n",
      "\tza każdy (LLR: 1263.8658624056745)\n",
      "\tw ten (LLR: 1199.31656187128)\n",
      "\tprzez ten (LLR: 1020.3637287669919)\n",
      "\n",
      "PARTITION: prep brev\n",
      "\tw artykuł (LLR: 66675.11510601992)\n",
      "\tw ustęp (LLR: 55702.62167973399)\n",
      "\tz późniejszy (LLR: 7341.244002000353)\n",
      "\tw numer (LLR: 6849.1159778519395)\n",
      "\tw pozycja (LLR: 6224.7230147855835)\n"
     ]
    }
   ],
   "source": [
    "largest_partitions = get_entries_range(sorted_partitions_counts, 0, 10).keys()\n",
    "for partition in largest_partitions:\n",
    "    print('\\nPARTITION: {} {}'.format(partition[0], partition[1]))\n",
    "    found_bigrams = 0\n",
    "    for bigram, llr in sorted_bigrams_llr.items():\n",
    "        if partition[0] == bigram[0][1] and partition[1] == bigram[1][1]:\n",
    "            found_bigrams += 1\n",
    "            print('\\t{} {} (LLR: {})'.format(bigram[0][0], bigram[1][0], llr))\n",
    "        if found_bigrams == 5:\n",
    "            break"
   ]
  },
  {
   "cell_type": "markdown",
   "metadata": {},
   "source": [
    "#### Zadanie 10.\n",
    "\n",
    "Odnalezione bigramy z najwyższymi wynikami LLR w każdej kategorii są złożeniami typowymi dla tekstów prawnych.  \n",
    "*Multiword expressions* mające same w sobie jakieś znaczenie znalazły się głównie w kategoriach *subst subst* oraz *subst adj*, a więc są to bigramy złożone z dwóch rzeczowników lub z rzeczownika, po którym następuje przymiotnik. W kategorii *adj subst* (przymiotnik przed rzeczownikiem) znalazły się także wartościowe *multiword expressions*, jednak nawet w pierwszej piątce nie wszystkie same coś znaczą (np. który mowa).  \n",
    "Do rozpoznawania *multiword expressions* lepszym rozwiązaniem wydaje się być zastosowanie podziału na kategorie syntaktyczne, niż używanie samego LLR, ponieważ znaczące *multiword expressions* najczęściej nie otrzymają najwyższego wyniku LLR. LLR może być wskaźnikiem pomocniczym do obliczenia najbardziej reprezentatywnych wyrażeń dla poszczególnych kategorii.  \n",
    "Kategorie morfosyntaktyczne mogą być wykorzystywane np. do wyznaczania różnych kontekstów, w których słowo może być używane oraz rozpoznawania różnych jego znaczeń."
   ]
  }
 ],
 "metadata": {
  "kernelspec": {
   "display_name": "Python 3",
   "language": "python",
   "name": "python3"
  },
  "language_info": {
   "codemirror_mode": {
    "name": "ipython",
    "version": 3
   },
   "file_extension": ".py",
   "mimetype": "text/x-python",
   "name": "python",
   "nbconvert_exporter": "python",
   "pygments_lexer": "ipython3",
   "version": "3.7.9"
  }
 },
 "nbformat": 4,
 "nbformat_minor": 4
}
