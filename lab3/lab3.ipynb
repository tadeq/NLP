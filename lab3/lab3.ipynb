{
 "cells": [
  {
   "cell_type": "markdown",
   "metadata": {},
   "source": [
    "## NLP\n",
    "## Lab 3 - Levenshtein distance and spelling corrections"
   ]
  },
  {
   "cell_type": "code",
   "execution_count": 140,
   "metadata": {},
   "outputs": [],
   "source": [
    "from spacy.tokenizer import Tokenizer\n",
    "from spacy.lang.pl import Polish\n",
    "from elasticsearch import Elasticsearch\n",
    "import matplotlib.pyplot as plt\n",
    "import os\n",
    "from collections import Counter\n",
    "import Levenshtein\n",
    "import numpy as np\n",
    "import time\n",
    "import re"
   ]
  },
  {
   "cell_type": "markdown",
   "metadata": {},
   "source": [
    "#### Zadanie 1.\n",
    "Inicjalizacja tokenizera dla języka polskiego i wczytanie ustaw."
   ]
  },
  {
   "cell_type": "code",
   "execution_count": 23,
   "metadata": {},
   "outputs": [],
   "source": [
    "nlp = Polish()\n",
    "tokenizer = Tokenizer(nlp.vocab)"
   ]
  },
  {
   "cell_type": "code",
   "execution_count": 24,
   "metadata": {},
   "outputs": [],
   "source": [
    "all_files = []\n",
    "path = './ustawy'\n",
    "for filename in os.listdir(path):\n",
    "    with open(os.path.join(path, filename), 'r', encoding='utf-8') as file:\n",
    "        all_files.append(\" \".join(file.read().lower().replace('\\n', ' ').split()))"
   ]
  },
  {
   "cell_type": "markdown",
   "metadata": {},
   "source": [
    "#### Zadania 2., 3. i 4.\n",
    "Użyta funkcja *isalpha* zwraca wartość *True* również dla polskich liter ze znakami diakrytycznymi. "
   ]
  },
  {
   "cell_type": "code",
   "execution_count": 25,
   "metadata": {},
   "outputs": [],
   "source": [
    "global_frequency_list = {}\n",
    "for file in all_files:\n",
    "    tokens = tokenizer(file)\n",
    "    words = [token.text for token in tokens if len(token.text) >= 2 and all(char.isalpha() for char in token.text)]\n",
    "    word_counter = Counter(words)\n",
    "    for word, count in word_counter.items():\n",
    "        if word in global_frequency_list:\n",
    "            global_frequency_list[word] += count\n",
    "        else:\n",
    "            global_frequency_list[word] = 1"
   ]
  },
  {
   "cell_type": "markdown",
   "metadata": {},
   "source": [
    "#### Zadanie 5.\n",
    "W celu przygotowania wykresu dane zostały posortowane według ilości wystąpień, a następnie alfabetycznie jeśli ilość była taka sama."
   ]
  },
  {
   "cell_type": "code",
   "execution_count": 33,
   "metadata": {},
   "outputs": [],
   "source": [
    "frequency_list_ordered = {k: v for k, v in sorted(global_frequency_list.items(), key=lambda item: (item[1]*-1, item[0]))}"
   ]
  },
  {
   "cell_type": "code",
   "execution_count": 59,
   "metadata": {},
   "outputs": [],
   "source": [
    "def get_entries_range(dictionary, start, end):\n",
    "    return {k: dictionary[k] for k in list(dictionary)[start:end]}"
   ]
  },
  {
   "cell_type": "markdown",
   "metadata": {},
   "source": [
    "Poniżej wyświetlone zostały przykładowe fragmenty posortowanych danych."
   ]
  },
  {
   "cell_type": "code",
   "execution_count": 60,
   "metadata": {},
   "outputs": [
    {
     "data": {
      "text/plain": [
       "{'do': 60341,\n",
       " 'na': 50368,\n",
       " 'lub': 45594,\n",
       " 'nr': 45105,\n",
       " 'się': 44074,\n",
       " 'oraz': 33156,\n",
       " 'mowa': 28849,\n",
       " 'nie': 22945,\n",
       " 'przez': 20822,\n",
       " 'pkt': 19091}"
      ]
     },
     "execution_count": 60,
     "metadata": {},
     "output_type": "execute_result"
    }
   ],
   "source": [
    "get_entries_range(frequency_list_ordered, 0, 10)"
   ]
  },
  {
   "cell_type": "code",
   "execution_count": 61,
   "metadata": {},
   "outputs": [
    {
     "data": {
      "text/plain": [
       "{'działalnością': 498,\n",
       " 'powodu': 498,\n",
       " 'zostać': 498,\n",
       " 'przekazywania': 495,\n",
       " 'dotacji': 494,\n",
       " 'leczniczych': 494,\n",
       " 'urlopu': 494,\n",
       " 'właściwych': 494,\n",
       " 'jakie': 493,\n",
       " 'właściwej': 493,\n",
       " 'jednostkę': 492,\n",
       " 'mających': 492,\n",
       " 'stopień': 492,\n",
       " 'ue': 492,\n",
       " 'zastosowania': 492}"
      ]
     },
     "execution_count": 61,
     "metadata": {},
     "output_type": "execute_result"
    }
   ],
   "source": [
    "get_entries_range(frequency_list_ordered, 700, 715)"
   ]
  },
  {
   "cell_type": "code",
   "execution_count": 37,
   "metadata": {},
   "outputs": [
    {
     "data": {
      "image/png": "[encoded data removed]",
      "text/plain": [
       "<Figure size 1080x504 with 1 Axes>"
      ]
     },
     "metadata": {
      "needs_background": "light"
     },
     "output_type": "display_data"
    }
   ],
   "source": [
    "plt.figure(figsize=(15, 7))\n",
    "plt.yscale('log')\n",
    "plt.ylabel('Occurrences')\n",
    "plt.xlabel('Rank')\n",
    "plt.title('Terms occurences number in legislation acts')\n",
    "plt.plot([rank for rank in range(len(frequency_list_ordered))], frequency_list_ordered.values())\n",
    "plt.show()"
   ]
  },
  {
   "cell_type": "markdown",
   "metadata": {},
   "source": [
    "#### Zadanie 6."
   ]
  },
  {
   "cell_type": "code",
   "execution_count": 38,
   "metadata": {},
   "outputs": [],
   "source": [
    "dict_words = set()\n",
    "with open(\"./polimorfologik-2.1/polimorfologik-2.1.txt\", 'r', encoding=\"utf-8\") as polimorfologik:\n",
    "    for line in polimorfologik.readlines():\n",
    "        dict_words.add(line.split(';')[1].lower())"
   ]
  },
  {
   "cell_type": "code",
   "execution_count": 40,
   "metadata": {},
   "outputs": [
    {
     "data": {
      "text/plain": [
       "4623718"
      ]
     },
     "execution_count": 40,
     "metadata": {},
     "output_type": "execute_result"
    }
   ],
   "source": [
    "len(dict_words)"
   ]
  },
  {
   "cell_type": "code",
   "execution_count": 56,
   "metadata": {},
   "outputs": [],
   "source": [
    "words_not_in_dict = {word: count for word, count in frequency_list_ordered.items() if word not in dict_words}"
   ]
  },
  {
   "cell_type": "markdown",
   "metadata": {},
   "source": [
    "#### Zadanie 7.\n",
    "Poniżej wypisane zostało 30 najczęściej występujących słów spoza słownika wraz z liczbą wystąpień."
   ]
  },
  {
   "cell_type": "code",
   "execution_count": 63,
   "metadata": {},
   "outputs": [
    {
     "data": {
      "text/plain": [
       "{'gmo': 192,\n",
       " 'sa': 156,\n",
       " 'iv': 147,\n",
       " 'ex': 97,\n",
       " 'vi': 87,\n",
       " 'kn': 82,\n",
       " 'cn': 74,\n",
       " 'uke': 73,\n",
       " 'sww': 69,\n",
       " 'vii': 64,\n",
       " 'viii': 34,\n",
       " 'ure': 29,\n",
       " 'ix': 27,\n",
       " 'pcn': 27,\n",
       " 'udt': 27,\n",
       " 'doręczeń': 25,\n",
       " 'plk': 25,\n",
       " 'xi': 24,\n",
       " 'vitro': 22,\n",
       " 'pkwiu': 21,\n",
       " 'iva': 18,\n",
       " 'skw': 17,\n",
       " 'uokik': 17,\n",
       " 'nych': 15,\n",
       " 'pcb': 15,\n",
       " 'ponadzakładowy': 14,\n",
       " 'umorzeń': 14,\n",
       " 'utk': 14,\n",
       " 'iiia': 13,\n",
       " 'abw': 12}"
      ]
     },
     "execution_count": 63,
     "metadata": {},
     "output_type": "execute_result"
    }
   ],
   "source": [
    "get_entries_range(words_not_in_dict, 0, 30)"
   ]
  },
  {
   "cell_type": "markdown",
   "metadata": {},
   "source": [
    "#### Zadanie 8.\n",
    "Słów występujących 5 razy i niepojawiających się w słowniku było 17. Około połowa z nich to literówki."
   ]
  },
  {
   "cell_type": "code",
   "execution_count": 165,
   "metadata": {},
   "outputs": [
    {
     "data": {
      "text/plain": [
       "['aktw',\n",
       " 'anonimizacji',\n",
       " 'badawczorozwojowych',\n",
       " 'ktrej',\n",
       " 'mianowań',\n",
       " 'miesiący',\n",
       " 'mnożnikowymi',\n",
       " 'moe',\n",
       " 'naliczeń',\n",
       " 'odgazowywacze',\n",
       " 'operacyjnorozpoznawczych',\n",
       " 'ponadzakładowa',\n",
       " 'przepisw',\n",
       " 'sanitarnoepidemiologicznych',\n",
       " 'sposb',\n",
       " 'tów',\n",
       " 'ych']"
      ]
     },
     "execution_count": 165,
     "metadata": {},
     "output_type": "execute_result"
    }
   ],
   "source": [
    "words_not_in_dict_five_occurences = [word for word, count in words_not_in_dict.items() if count == 5]\n",
    "words_not_in_dict_five_occurences"
   ]
  },
  {
   "cell_type": "markdown",
   "metadata": {},
   "source": [
    "#### Zadanie 9.\n",
    "Do znalezienia możliwych korekt dla powyższych słów posłuży odległość Levenshteina. W funkcji poniżej wybierane są te słowa, które będą miały najmniejszą wartość odległości z całego słownika. "
   ]
  },
  {
   "cell_type": "code",
   "execution_count": 109,
   "metadata": {},
   "outputs": [],
   "source": [
    "def correct(word):\n",
    "    corrections_candidates = {dict_word : Levenshtein.distance(dict_word, word) for dict_word in dict_words}\n",
    "    sorted_corrections = {k: v for k, v in sorted(corrections_candidates.items(), key=lambda item: item[1])}\n",
    "    min_distance = sum(get_entries_range(sorted_corrections, 0, 1).values())\n",
    "    corrections = []\n",
    "    for w, dist in sorted_corrections.items():\n",
    "        if dist == min_distance:\n",
    "            corrections.append(w)\n",
    "        else:\n",
    "            return corrections\n",
    "    return []"
   ]
  },
  {
   "cell_type": "code",
   "execution_count": 153,
   "metadata": {},
   "outputs": [
    {
     "data": {
      "text/plain": [
       "{'aktw': ['aktl', 'aktu', 'akty', 'akt', 'aktyw', 'aktów', 'akta'],\n",
       " 'anonimizacji': ['animizacji'],\n",
       " 'badawczorozwojowych': ['ogólnorozwojowych'],\n",
       " 'ktrej': ['karej', 'której'],\n",
       " 'mianowań': ['mianował', 'mianować', 'zmianowań'],\n",
       " 'miesiący': ['miesięcy',\n",
       "  'miesiąca',\n",
       "  'miesiąc',\n",
       "  'mieniący',\n",
       "  'miesiącu',\n",
       "  'mieszący',\n",
       "  'miesiące'],\n",
       " 'mnożnikowymi': ['nośnikowymi', 'miodnikowymi', 'mnożnikowi', 'niżnikowymi'],\n",
       " 'moe': ['mon',\n",
       "  'moa',\n",
       "  'mo',\n",
       "  'me',\n",
       "  'noe',\n",
       "  'moś',\n",
       "  'roe',\n",
       "  'mop',\n",
       "  'mole',\n",
       "  'moc',\n",
       "  'poe',\n",
       "  'joe',\n",
       "  'moce',\n",
       "  'moz',\n",
       "  'mot',\n",
       "  'może',\n",
       "  'mok',\n",
       "  'moń',\n",
       "  'mor',\n",
       "  'moje',\n",
       "  'moi',\n",
       "  'mod',\n",
       "  'mol',\n",
       "  'mob'],\n",
       " 'naliczeń': ['naliczek', 'zaliczeń'],\n",
       " 'odgazowywacze': ['odgazowywane', 'odparowywacze', 'odgazowywanie'],\n",
       " 'operacyjnorozpoznawczych': ['nierozpoznawczych', 'przyrodoznawczych'],\n",
       " 'ponadzakładowa': ['pozazakładowa'],\n",
       " 'przepisw': ['przepis', 'przepisów', 'przepisu', 'przepisy', 'przepisz'],\n",
       " 'sanitarnoepidemiologicznych': ['nieepidemiologicznych'],\n",
       " 'sposb': ['sposób'],\n",
       " 'tów': ['tóg',\n",
       "  'stów',\n",
       "  'rów',\n",
       "  'tw',\n",
       "  'sów',\n",
       "  'mów',\n",
       "  'ów',\n",
       "  'łów',\n",
       "  'tzw',\n",
       "  'tow',\n",
       "  'atów',\n",
       "  'tuw',\n",
       "  'nów'],\n",
       " 'ych': ['uch',\n",
       "  'bch',\n",
       "  'ach',\n",
       "  'tych',\n",
       "  'mych',\n",
       "  'dych',\n",
       "  'łych',\n",
       "  'ech',\n",
       "  'och',\n",
       "  'pych',\n",
       "  'zych',\n",
       "  'kch',\n",
       "  'ich']}"
      ]
     },
     "execution_count": 153,
     "metadata": {},
     "output_type": "execute_result"
    }
   ],
   "source": [
    "start = time.time()\n",
    "corrections = {word: correct(word) for word in words_not_in_dict_five_occurences}\n",
    "end = time.time()\n",
    "corrections"
   ]
  },
  {
   "cell_type": "code",
   "execution_count": 154,
   "metadata": {},
   "outputs": [
    {
     "data": {
      "text/plain": [
       "132.3401699066162"
      ]
     },
     "execution_count": 154,
     "metadata": {},
     "output_type": "execute_result"
    }
   ],
   "source": [
    "time_corrections_took = end - start\n",
    "time_corrections_took"
   ]
  },
  {
   "cell_type": "markdown",
   "metadata": {},
   "source": [
    "Pośród znalezionych kandydatów na poprawione słowo w większości przypadków znajdują się słowa, które prawdopodobnie powinny się pojawić w ich miejsce. W tej metodzie problemem było znalezienie poprawki dla wyrazów złożonych z dwóch (np. badawczorozwojowych), dla których brakowało pauzy między nimi."
   ]
  },
  {
   "cell_type": "markdown",
   "metadata": {},
   "source": [
    "#### Zadanie 10. i 11."
   ]
  },
  {
   "cell_type": "code",
   "execution_count": 120,
   "metadata": {},
   "outputs": [
    {
     "data": {
      "text/plain": [
       "{'acknowledged': True,\n",
       " 'shards_acknowledged': True,\n",
       " 'index': 'legislation_acts_lab3'}"
      ]
     },
     "execution_count": 120,
     "metadata": {},
     "output_type": "execute_result"
    }
   ],
   "source": [
    "es = Elasticsearch()\n",
    "es.indices.create(\n",
    "    index=\"legislation_acts_lab3\",\n",
    "    body={\n",
    "        \"settings\": {\n",
    "            \"analysis\": {\n",
    "                \"analyzer\": {\n",
    "                  \"polish_legislation_acts_analyzer\": {\n",
    "                      \"type\": \"custom\",\n",
    "                      \"tokenizer\": \"standard\",\n",
    "                      \"filter\": [\"morfologik_stem\", \"lowercase\"]\n",
    "                    }\n",
    "                }\n",
    "            }\n",
    "        },\n",
    "        \"mappings\": {\n",
    "            \"properties\": {\n",
    "                \"content\": {\n",
    "                    \"type\": \"text\",\n",
    "                    \"analyzer\": \"polish_legislation_acts_analyzer\"\n",
    "                }\n",
    "            }\n",
    "        }\n",
    "    }\n",
    ")"
   ]
  },
  {
   "cell_type": "code",
   "execution_count": 121,
   "metadata": {},
   "outputs": [],
   "source": [
    "path = './ustawy'\n",
    "for filename in os.listdir(path):\n",
    "    with open(os.path.join(path, filename), 'r', encoding='utf-8') as file:\n",
    "        es.create(\"legislation_acts_lab3\", filename, {\"content\": \" \".join(file.read().lower().replace('\\n', ' ').split())})"
   ]
  },
  {
   "cell_type": "code",
   "execution_count": 160,
   "metadata": {},
   "outputs": [],
   "source": [
    "search_result = {}\n",
    "start = time.time()\n",
    "for word in words_not_in_dict_five_occurences:\n",
    "    search_result[word] = es.search(\n",
    "        index=\"legislation_acts_lab3\",\n",
    "        body={\n",
    "            \"query\": {\n",
    "                \"fuzzy\": {\n",
    "                  \"content\": {\n",
    "                    \"value\": word,\n",
    "                    \"fuzziness\": \"AUTO\",\n",
    "                  }\n",
    "                }\n",
    "              },\n",
    "            \"highlight\": {\n",
    "                \"fields\" : {\n",
    "                    \"content\" : {}\n",
    "                }\n",
    "            }\n",
    "        }\n",
    "    )['hits']['hits']\n",
    "end = time.time()"
   ]
  },
  {
   "cell_type": "code",
   "execution_count": 161,
   "metadata": {},
   "outputs": [],
   "source": [
    "es_corrections = {}\n",
    "for word, result in search_result.items():\n",
    "    highlights = [hit['highlight']['content'] for hit in result]\n",
    "    es_corrections[word] = ', '.join(set([re.search('<em>.*?</em>', ' '.join(highlight)).group()[4:-5] for highlight in highlights]))"
   ]
  },
  {
   "cell_type": "code",
   "execution_count": 162,
   "metadata": {},
   "outputs": [
    {
     "data": {
      "text/plain": [
       "{'aktw': 'aktach, akt, aktów, akta',\n",
       " 'anonimizacji': 'anonimizacja, anonimizacji',\n",
       " 'badawczorozwojowych': 'badawczorozwojowymi, badawczorozwojowych',\n",
       " 'ktrej': 'ktrej, ktre',\n",
       " 'mianowań': 'mianowania, mianowanego, mianowani, mianowań, mianowanie, mianuje',\n",
       " 'miesiący': 'miesiąca, miesiące, miesięcy, miesiąc, miesiącu',\n",
       " 'mnożnikowymi': 'mnożnikowymi',\n",
       " 'moe': 'moe, mocy, może',\n",
       " 'naliczeń': 'naliczone, naliczonymi, naliczonych, naliczania, nalicza, naliczane',\n",
       " 'odgazowywacze': 'odgazowywacze',\n",
       " 'operacyjnorozpoznawczych': 'operacyjnorozpoznawczych',\n",
       " 'ponadzakładowa': 'ponadzakładowej, ponadzakładowym, ponadzakładowe, ponadzakładowy, ponadzakładowa',\n",
       " 'przepisw': 'przepisach, przepisów, przepisy',\n",
       " 'sanitarnoepidemiologicznych': 'sanitarnoepidemiologicznych',\n",
       " 'sposb': 'sposoby, sposób',\n",
       " 'tów': 'łów, rowach, rów, bów, rowów, ków, owa, nów',\n",
       " 'ych': 'nych, ch, wych, ych'}"
      ]
     },
     "execution_count": 162,
     "metadata": {},
     "output_type": "execute_result"
    }
   ],
   "source": [
    "es_corrections"
   ]
  },
  {
   "cell_type": "code",
   "execution_count": 163,
   "metadata": {},
   "outputs": [
    {
     "data": {
      "text/plain": [
       "7.21900200843811"
      ]
     },
     "execution_count": 163,
     "metadata": {},
     "output_type": "execute_result"
    }
   ],
   "source": [
    "end - start"
   ]
  },
  {
   "cell_type": "markdown",
   "metadata": {},
   "source": [
    "Elasticsearch poradził sobie z zadaniem znalezienia poprawek dość dobrze, jednak np. dla słowa *ktrej* wyraz *której* nie został odnaleziony. W przypadku wyrazów złożonych z dwóch zostały one uznane za poprawne i niewymagające zmiany. Jest to lepszy wynik niż ten uzyskany przy użyciu poprzedniej metody z odległością Levenstheina.\\\n",
    "Zdecydowanie lepiej Elasticsearch wypada również pod względem czasu wykonania zadania (ok. 7 sekund w porównaniu do ponad 2 minut w drugiej metodzie)."
   ]
  },
  {
   "cell_type": "markdown",
   "metadata": {},
   "source": [
    "#### Zadanie 12.\n",
    "Na podstawie wykresu z częstotliwością występowania słów można stwierdzić, że znacznie więcej jest słów występujących rzadko.\n",
    "Spośród słów, które nie znajdowały się w słowniku większość to słowa nieznane, a nie literówki. Często były to liczby rzymskie lub wyrazy złożone, które powinny zostać rozdzielone pauzą.\n",
    "Obie metody znajdowania poprawek dla słów w większości przypadków dawały dobre wyniki, jednak każda z nich popełniała błędy przy różnych słowach. Żadna nie jest więc idealna, ale szybkość działania jest zdecydowanie zaletą metody wykorzystującej Elasticsearch."
   ]
  }
 ],
 "metadata": {
  "kernelspec": {
   "display_name": "Python 3",
   "language": "python",
   "name": "python3"
  },
  "language_info": {
   "codemirror_mode": {
    "name": "ipython",
    "version": 3
   },
   "file_extension": ".py",
   "mimetype": "text/x-python",
   "name": "python",
   "nbconvert_exporter": "python",
   "pygments_lexer": "ipython3",
   "version": "3.7.9"
  }
 },
 "nbformat": 4,
 "nbformat_minor": 4
}
